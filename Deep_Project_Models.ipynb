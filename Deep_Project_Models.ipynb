{
  "nbformat": 4,
  "nbformat_minor": 0,
  "metadata": {
    "colab": {
      "name": "Deep Project - Models.ipynb",
      "provenance": [],
      "collapsed_sections": [
        "i2Aqs4C4HeIT",
        "WVYLt8GeGBYS",
        "DzEf2emjfOx9",
        "rRXEGbeDfT2b",
        "wIP6Qr2RfatN"
      ]
    },
    "kernelspec": {
      "name": "python3",
      "display_name": "Python 3"
    },
    "language_info": {
      "name": "python"
    }
  },
  "cells": [
    {
      "cell_type": "markdown",
      "source": [
        "## Installation of Required Packages"
      ],
      "metadata": {
        "id": "i2Aqs4C4HeIT"
      }
    },
    {
      "cell_type": "code",
      "metadata": {
        "id": "gwdg7Sv3XBaP",
        "outputId": "2c4af36f-9c63-45de-d653-8fe5fa29dd91",
        "colab": {
          "base_uri": "https://localhost:8080/"
        }
      },
      "source": [
        "!pip install scikit-image\n",
        "!pip install pydot\n",
        "!pip install keras-vggface\n",
        "!pip install 'h5py==2.10.0'"
      ],
      "execution_count": null,
      "outputs": [
        {
          "output_type": "stream",
          "name": "stdout",
          "text": [
            "Requirement already satisfied: scikit-image in /usr/local/lib/python3.7/dist-packages (0.18.3)\n",
            "Requirement already satisfied: matplotlib!=3.0.0,>=2.0.0 in /usr/local/lib/python3.7/dist-packages (from scikit-image) (3.2.2)\n",
            "Requirement already satisfied: pillow!=7.1.0,!=7.1.1,>=4.3.0 in /usr/local/lib/python3.7/dist-packages (from scikit-image) (7.1.2)\n",
            "Requirement already satisfied: networkx>=2.0 in /usr/local/lib/python3.7/dist-packages (from scikit-image) (2.6.3)\n",
            "Requirement already satisfied: tifffile>=2019.7.26 in /usr/local/lib/python3.7/dist-packages (from scikit-image) (2021.11.2)\n",
            "Requirement already satisfied: PyWavelets>=1.1.1 in /usr/local/lib/python3.7/dist-packages (from scikit-image) (1.2.0)\n",
            "Requirement already satisfied: scipy>=1.0.1 in /usr/local/lib/python3.7/dist-packages (from scikit-image) (1.4.1)\n",
            "Requirement already satisfied: numpy>=1.16.5 in /usr/local/lib/python3.7/dist-packages (from scikit-image) (1.19.5)\n",
            "Requirement already satisfied: imageio>=2.3.0 in /usr/local/lib/python3.7/dist-packages (from scikit-image) (2.4.1)\n",
            "Requirement already satisfied: cycler>=0.10 in /usr/local/lib/python3.7/dist-packages (from matplotlib!=3.0.0,>=2.0.0->scikit-image) (0.11.0)\n",
            "Requirement already satisfied: python-dateutil>=2.1 in /usr/local/lib/python3.7/dist-packages (from matplotlib!=3.0.0,>=2.0.0->scikit-image) (2.8.2)\n",
            "Requirement already satisfied: kiwisolver>=1.0.1 in /usr/local/lib/python3.7/dist-packages (from matplotlib!=3.0.0,>=2.0.0->scikit-image) (1.3.2)\n",
            "Requirement already satisfied: pyparsing!=2.0.4,!=2.1.2,!=2.1.6,>=2.0.1 in /usr/local/lib/python3.7/dist-packages (from matplotlib!=3.0.0,>=2.0.0->scikit-image) (3.0.6)\n",
            "Requirement already satisfied: six>=1.5 in /usr/local/lib/python3.7/dist-packages (from python-dateutil>=2.1->matplotlib!=3.0.0,>=2.0.0->scikit-image) (1.15.0)\n",
            "Requirement already satisfied: pydot in /usr/local/lib/python3.7/dist-packages (1.3.0)\n",
            "Requirement already satisfied: pyparsing>=2.1.4 in /usr/local/lib/python3.7/dist-packages (from pydot) (3.0.6)\n",
            "Collecting keras-vggface\n",
            "  Downloading keras_vggface-0.6-py3-none-any.whl (8.3 kB)\n",
            "Requirement already satisfied: pillow in /usr/local/lib/python3.7/dist-packages (from keras-vggface) (7.1.2)\n",
            "Requirement already satisfied: pyyaml in /usr/local/lib/python3.7/dist-packages (from keras-vggface) (3.13)\n",
            "Requirement already satisfied: keras in /usr/local/lib/python3.7/dist-packages (from keras-vggface) (2.7.0)\n",
            "Requirement already satisfied: six>=1.9.0 in /usr/local/lib/python3.7/dist-packages (from keras-vggface) (1.15.0)\n",
            "Requirement already satisfied: h5py in /usr/local/lib/python3.7/dist-packages (from keras-vggface) (3.1.0)\n",
            "Requirement already satisfied: scipy>=0.14 in /usr/local/lib/python3.7/dist-packages (from keras-vggface) (1.4.1)\n",
            "Requirement already satisfied: numpy>=1.9.1 in /usr/local/lib/python3.7/dist-packages (from keras-vggface) (1.19.5)\n",
            "Requirement already satisfied: cached-property in /usr/local/lib/python3.7/dist-packages (from h5py->keras-vggface) (1.5.2)\n",
            "Installing collected packages: keras-vggface\n",
            "Successfully installed keras-vggface-0.6\n",
            "Collecting h5py==2.10.0\n",
            "  Downloading h5py-2.10.0-cp37-cp37m-manylinux1_x86_64.whl (2.9 MB)\n",
            "\u001b[K     |████████████████████████████████| 2.9 MB 5.1 MB/s \n",
            "\u001b[?25hRequirement already satisfied: six in /usr/local/lib/python3.7/dist-packages (from h5py==2.10.0) (1.15.0)\n",
            "Requirement already satisfied: numpy>=1.7 in /usr/local/lib/python3.7/dist-packages (from h5py==2.10.0) (1.19.5)\n",
            "Installing collected packages: h5py\n",
            "  Attempting uninstall: h5py\n",
            "    Found existing installation: h5py 3.1.0\n",
            "    Uninstalling h5py-3.1.0:\n",
            "      Successfully uninstalled h5py-3.1.0\n",
            "Successfully installed h5py-2.10.0\n"
          ]
        }
      ]
    },
    {
      "cell_type": "markdown",
      "source": [
        "## Imports"
      ],
      "metadata": {
        "id": "WVYLt8GeGBYS"
      }
    },
    {
      "cell_type": "code",
      "metadata": {
        "id": "2nz38mJZXN_P",
        "outputId": "f70ce675-306a-4524-a391-64566b23329d",
        "colab": {
          "base_uri": "https://localhost:8080/"
        }
      },
      "source": [
        "%tensorflow_version 1.x\n",
        "import numpy as np\n",
        "import pandas as pd\n",
        "import matplotlib.pyplot as plt\n",
        "import tensorflow as tf\n",
        "%matplotlib inline\n",
        "from tensorflow.keras.layers import *\n",
        "from tensorflow.python.lib.io import file_io\n",
        "import skimage\n",
        "from skimage.transform import rescale, resize\n",
        "import pydot\n",
        "import keras\n",
        "from keras import backend as K\n",
        "from keras.engine import Model\n",
        "from keras.layers import Input, Flatten, Dense, Activation, Conv2D, MaxPool2D, BatchNormalization, Dropout, MaxPooling2D\n",
        "from keras.callbacks import ModelCheckpoint, EarlyStopping\n",
        "from keras.models import load_model\n",
        "from keras.preprocessing.image import ImageDataGenerator\n",
        "from keras_vggface.vggface import VGGFace\n",
        "from keras.utils import plot_model\n",
        "from sklearn.metrics import *\n",
        "\n",
        "from google.colab import drive\n",
        "drive.mount('/content/drive')\n",
        "print(tf.__version__)\n",
        "print(keras.__version__)"
      ],
      "execution_count": null,
      "outputs": [
        {
          "output_type": "stream",
          "name": "stdout",
          "text": [
            "TensorFlow 1.x selected.\n"
          ]
        },
        {
          "output_type": "stream",
          "name": "stderr",
          "text": [
            "Using TensorFlow backend.\n"
          ]
        },
        {
          "output_type": "stream",
          "name": "stdout",
          "text": [
            "Mounted at /content/drive\n",
            "1.15.2\n",
            "2.3.1\n"
          ]
        }
      ]
    },
    {
      "cell_type": "markdown",
      "source": [
        "## Loading Dataset"
      ],
      "metadata": {
        "id": "DzEf2emjfOx9"
      }
    },
    {
      "cell_type": "code",
      "metadata": {
        "id": "TUuN9SLX_Qvl"
      },
      "source": [
        "! rm -rf train; mkdir train\n",
        "! unzip -q '/content/drive/MyDrive/Deep_Project/dataset/train.zip' -d train\n",
        "! rm -rf dev; mkdir dev\n",
        "! unzip -q '/content/drive/MyDrive/Deep_Project/dataset/test-public.zip' -d dev\n",
        "! rm -rf test; mkdir test\n",
        "! unzip -q '/content/drive/MyDrive/Deep_Project/dataset/test-private.zip' -d test"
      ],
      "execution_count": null,
      "outputs": []
    },
    {
      "cell_type": "code",
      "metadata": {
        "id": "560jefnZ_Cyq"
      },
      "source": [
        "from tensorflow.keras.preprocessing.image import ImageDataGenerator\n",
        "\n",
        "def get_datagen(dataset, aug=False):\n",
        "    if aug:\n",
        "        datagen = ImageDataGenerator(\n",
        "                            rescale=1./255,\n",
        "                            featurewise_center=False,\n",
        "                            featurewise_std_normalization=False,\n",
        "                            rotation_range=10,\n",
        "                            width_shift_range=0.1,\n",
        "                            height_shift_range=0.1,\n",
        "                            zoom_range=0.1,\n",
        "                            horizontal_flip=True)\n",
        "    else:\n",
        "        datagen = ImageDataGenerator(rescale=1./255)\n",
        "\n",
        "    return datagen.flow_from_directory(\n",
        "            dataset,\n",
        "            target_size=(197, 197),\n",
        "            color_mode='rgb',\n",
        "            shuffle = True,\n",
        "            class_mode='categorical',\n",
        "            batch_size=BS)"
      ],
      "execution_count": null,
      "outputs": []
    },
    {
      "cell_type": "code",
      "metadata": {
        "id": "4aQAGQP5_Gpl",
        "outputId": "c1dabd03-a214-4322-94fe-f4e0e1c6e69f",
        "colab": {
          "base_uri": "https://localhost:8080/"
        }
      },
      "source": [
        "test_generator  = get_datagen('/content/test')\n",
        "dev_generator    = get_datagen('/content/dev')\n",
        "train_generator  = get_datagen('/content/train', True)"
      ],
      "execution_count": null,
      "outputs": [
        {
          "output_type": "stream",
          "name": "stdout",
          "text": [
            "Found 28709 images belonging to 7 classes.\n",
            "Found 3589 images belonging to 7 classes.\n",
            "Found 3589 images belonging to 7 classes.\n"
          ]
        }
      ]
    },
    {
      "cell_type": "markdown",
      "source": [
        "## Models"
      ],
      "metadata": {
        "id": "9ds55HjefFgg"
      }
    },
    {
      "cell_type": "markdown",
      "source": [
        "### Baseline Model"
      ],
      "metadata": {
        "id": "rRXEGbeDfT2b"
      }
    },
    {
      "cell_type": "code",
      "metadata": {
        "id": "oPO33wZKzHsc"
      },
      "source": [
        "epochs = 150\n",
        "batch_size = 128\n",
        "dropout_rate = 0.3\n",
        "lr = 0.01\n",
        "SGD_DECAY = 0.0001"
      ],
      "execution_count": null,
      "outputs": []
    },
    {
      "cell_type": "code",
      "metadata": {
        "id": "bG4t-6RO-g2S",
        "outputId": "d160fd8e-51f7-48ad-a508-85c7c318571d",
        "colab": {
          "base_uri": "https://localhost:8080/"
        }
      },
      "source": [
        "baseline_model = Sequential()\n",
        "baseline_model.add(BatchNormalization(input_shape=(48,48,1)))\n",
        "baseline_model.add(Conv2D(32, (3, 3), activation='relu',padding='same', input_shape=(48,48,1),name=\"conv1\"))\n",
        "baseline_model.add(BatchNormalization())\n",
        "baseline_model.add(Dropout(0.2))\n",
        "baseline_model.add(Conv2D(32, (3, 3), activation='relu',padding='same',name=\"conv2\"))\n",
        "baseline_model.add(BatchNormalization())\n",
        "baseline_model.add(MaxPooling2D(pool_size=(2, 2),name=\"maxpool2\"))         \n",
        "baseline_model.add(Dropout(0.2))\n",
        "baseline_model.add(Conv2D(64, (3, 3), activation='relu',padding='same',name=\"conv3\"))\n",
        "baseline_model.add(BatchNormalization())\n",
        "baseline_model.add(MaxPooling2D(pool_size=(2, 2),name=\"maxpool3\"))\n",
        "baseline_model.add(Dropout(0.2))\n",
        "baseline_model.add(Conv2D(64, (3, 3), activation='relu',padding='same',name=\"conv4\"))\n",
        "baseline_model.add(BatchNormalization())\n",
        "baseline_model.add(MaxPooling2D(pool_size=(2, 2),name=\"maxpool4\"))\n",
        "baseline_model.add(Dropout(0.2))\n",
        "baseline_model.add(Flatten())\n",
        "baseline_model.add(Dense(1024, activation='relu',name='fc1'))\n",
        "baseline_model.add(Dropout(dropout_rate))\n",
        "baseline_model.add(BatchNormalization())\n",
        "baseline_model.add(Dense(7, activation='softmax',name='fcsoftmax'))\n",
        "\n",
        "sgd = SGD(lr=lr,momentum=0.9, decay=SGD_DECAY, nesterov=True)\n",
        "baseline_model.compile(loss='categorical_crossentropy',optimizer=sgd,metrics=['accuracy'])"
      ],
      "execution_count": null,
      "outputs": [
        {
          "output_type": "stream",
          "name": "stdout",
          "text": [
            "WARNING:tensorflow:From /tensorflow-1.15.2/python3.7/tensorflow_core/python/ops/resource_variable_ops.py:1630: calling BaseResourceVariable.__init__ (from tensorflow.python.ops.resource_variable_ops) with constraint is deprecated and will be removed in a future version.\n",
            "Instructions for updating:\n",
            "If using Keras pass *_constraint arguments to layers.\n",
            "WARNING:tensorflow:From /tensorflow-1.15.2/python3.7/keras/backend/tensorflow_backend.py:4070: The name tf.nn.max_pool is deprecated. Please use tf.nn.max_pool2d instead.\n",
            "\n"
          ]
        }
      ]
    },
    {
      "cell_type": "code",
      "metadata": {
        "id": "nTzccX-yXZy5",
        "outputId": "8f6fba38-e0c4-4e50-e5d4-c29bae51eb57",
        "colab": {
          "base_uri": "https://localhost:8080/",
          "height": 1000
        }
      },
      "source": [
        "history = baseline_model.fit_generator( generator = train_generator, validation_data=dev_generator, epochs=epochs,  shuffle=True) "
      ],
      "execution_count": null,
      "outputs": [
        {
          "output_type": "stream",
          "text": [
            "WARNING:tensorflow:From /tensorflow-1.15.0/python3.6/tensorflow_core/python/ops/math_grad.py:1424: where (from tensorflow.python.ops.array_ops) is deprecated and will be removed in a future version.\n",
            "Instructions for updating:\n",
            "Use tf.where in 2.0, which has the same broadcast rule as np.where\n",
            "WARNING:tensorflow:From /usr/local/lib/python3.6/dist-packages/keras/backend/tensorflow_backend.py:1033: The name tf.assign_add is deprecated. Please use tf.compat.v1.assign_add instead.\n",
            "\n",
            "WARNING:tensorflow:From /usr/local/lib/python3.6/dist-packages/keras/backend/tensorflow_backend.py:1020: The name tf.assign is deprecated. Please use tf.compat.v1.assign instead.\n",
            "\n",
            "Epoch 1/150\n",
            "248/248 [==============================] - 33s 132ms/step - loss: 1.9923 - acc: 0.2637 - val_loss: 1.6430 - val_acc: 0.3653\n",
            "\n",
            "Epoch 00001: val_acc improved from -inf to 0.36528, saving model to /content/drive/My Drive/cs230 project/models/Baseline-weights-best.hdf5\n",
            "Epoch 2/150\n",
            "248/248 [==============================] - 29s 118ms/step - loss: 1.7753 - acc: 0.3219 - val_loss: 1.5590 - val_acc: 0.4099\n",
            "\n",
            "Epoch 00002: val_acc improved from 0.36528 to 0.40986, saving model to /content/drive/My Drive/cs230 project/models/Baseline-weights-best.hdf5\n",
            "Epoch 3/150\n",
            "248/248 [==============================] - 30s 121ms/step - loss: 1.6891 - acc: 0.3553 - val_loss: 1.4688 - val_acc: 0.4313\n",
            "\n",
            "Epoch 00003: val_acc improved from 0.40986 to 0.43132, saving model to /content/drive/My Drive/cs230 project/models/Baseline-weights-best.hdf5\n",
            "Epoch 4/150\n",
            "248/248 [==============================] - 30s 122ms/step - loss: 1.6090 - acc: 0.3896 - val_loss: 1.3794 - val_acc: 0.4670\n",
            "\n",
            "Epoch 00004: val_acc improved from 0.43132 to 0.46698, saving model to /content/drive/My Drive/cs230 project/models/Baseline-weights-best.hdf5\n",
            "Epoch 5/150\n",
            "248/248 [==============================] - 30s 120ms/step - loss: 1.5502 - acc: 0.4106 - val_loss: 1.3394 - val_acc: 0.4879\n",
            "\n",
            "Epoch 00005: val_acc improved from 0.46698 to 0.48788, saving model to /content/drive/My Drive/cs230 project/models/Baseline-weights-best.hdf5\n",
            "Epoch 6/150\n",
            "248/248 [==============================] - 30s 121ms/step - loss: 1.5007 - acc: 0.4340 - val_loss: 1.2920 - val_acc: 0.5082\n",
            "\n",
            "Epoch 00006: val_acc improved from 0.48788 to 0.50822, saving model to /content/drive/My Drive/cs230 project/models/Baseline-weights-best.hdf5\n",
            "Epoch 7/150\n",
            "248/248 [==============================] - 30s 122ms/step - loss: 1.4587 - acc: 0.4462 - val_loss: 1.2809 - val_acc: 0.5107\n",
            "\n",
            "Epoch 00007: val_acc improved from 0.50822 to 0.51073, saving model to /content/drive/My Drive/cs230 project/models/Baseline-weights-best.hdf5\n",
            "Epoch 8/150\n",
            "248/248 [==============================] - 30s 120ms/step - loss: 1.4237 - acc: 0.4621 - val_loss: 1.2659 - val_acc: 0.5180\n",
            "\n",
            "Epoch 00008: val_acc improved from 0.51073 to 0.51797, saving model to /content/drive/My Drive/cs230 project/models/Baseline-weights-best.hdf5\n",
            "Epoch 9/150\n",
            "248/248 [==============================] - 30s 120ms/step - loss: 1.4069 - acc: 0.4653 - val_loss: 1.2378 - val_acc: 0.5375\n",
            "\n",
            "Epoch 00009: val_acc improved from 0.51797 to 0.53748, saving model to /content/drive/My Drive/cs230 project/models/Baseline-weights-best.hdf5\n",
            "Epoch 10/150\n",
            "248/248 [==============================] - 30s 121ms/step - loss: 1.3724 - acc: 0.4806 - val_loss: 1.2355 - val_acc: 0.5283\n",
            "\n",
            "Epoch 00010: val_acc did not improve from 0.53748\n",
            "Epoch 11/150\n",
            "248/248 [==============================] - 30s 121ms/step - loss: 1.3540 - acc: 0.4845 - val_loss: 1.2108 - val_acc: 0.5469\n",
            "\n",
            "Epoch 00011: val_acc improved from 0.53748 to 0.54695, saving model to /content/drive/My Drive/cs230 project/models/Baseline-weights-best.hdf5\n",
            "Epoch 12/150\n",
            "248/248 [==============================] - 30s 121ms/step - loss: 1.3351 - acc: 0.4966 - val_loss: 1.2145 - val_acc: 0.5444\n",
            "\n",
            "Epoch 00012: val_acc did not improve from 0.54695\n",
            "Epoch 13/150\n",
            "248/248 [==============================] - 30s 120ms/step - loss: 1.3095 - acc: 0.5037 - val_loss: 1.1764 - val_acc: 0.5559\n",
            "\n",
            "Epoch 00013: val_acc improved from 0.54695 to 0.55587, saving model to /content/drive/My Drive/cs230 project/models/Baseline-weights-best.hdf5\n",
            "Epoch 14/150\n",
            "248/248 [==============================] - 30s 122ms/step - loss: 1.2926 - acc: 0.5064 - val_loss: 1.1490 - val_acc: 0.5637\n",
            "\n",
            "Epoch 00014: val_acc improved from 0.55587 to 0.56367, saving model to /content/drive/My Drive/cs230 project/models/Baseline-weights-best.hdf5\n",
            "Epoch 15/150\n",
            "248/248 [==============================] - 30s 122ms/step - loss: 1.2836 - acc: 0.5155 - val_loss: 1.1433 - val_acc: 0.5614\n",
            "\n",
            "Epoch 00015: val_acc did not improve from 0.56367\n",
            "Epoch 16/150\n",
            "248/248 [==============================] - 30s 122ms/step - loss: 1.2681 - acc: 0.5193 - val_loss: 1.1254 - val_acc: 0.5759\n",
            "\n",
            "Epoch 00016: val_acc improved from 0.56367 to 0.57593, saving model to /content/drive/My Drive/cs230 project/models/Baseline-weights-best.hdf5\n",
            "Epoch 17/150\n",
            "248/248 [==============================] - 30s 122ms/step - loss: 1.2558 - acc: 0.5255 - val_loss: 1.1473 - val_acc: 0.5692\n",
            "\n",
            "Epoch 00017: val_acc did not improve from 0.57593\n",
            "Epoch 18/150\n",
            "248/248 [==============================] - 30s 120ms/step - loss: 1.2440 - acc: 0.5296 - val_loss: 1.1115 - val_acc: 0.5756\n",
            "\n",
            "Epoch 00018: val_acc did not improve from 0.57593\n",
            "Epoch 19/150\n",
            "248/248 [==============================] - 30s 121ms/step - loss: 1.2339 - acc: 0.5330 - val_loss: 1.1060 - val_acc: 0.5851\n",
            "\n",
            "Epoch 00019: val_acc improved from 0.57593 to 0.58512, saving model to /content/drive/My Drive/cs230 project/models/Baseline-weights-best.hdf5\n",
            "Epoch 20/150\n",
            "248/248 [==============================] - 30s 122ms/step - loss: 1.2287 - acc: 0.5350 - val_loss: 1.1083 - val_acc: 0.5871\n",
            "\n",
            "Epoch 00020: val_acc improved from 0.58512 to 0.58707, saving model to /content/drive/My Drive/cs230 project/models/Baseline-weights-best.hdf5\n",
            "Epoch 21/150\n",
            "248/248 [==============================] - 30s 122ms/step - loss: 1.2084 - acc: 0.5434 - val_loss: 1.1130 - val_acc: 0.5899\n",
            "\n",
            "Epoch 00021: val_acc improved from 0.58707 to 0.58986, saving model to /content/drive/My Drive/cs230 project/models/Baseline-weights-best.hdf5\n",
            "Epoch 22/150\n",
            "248/248 [==============================] - 30s 122ms/step - loss: 1.2016 - acc: 0.5440 - val_loss: 1.1087 - val_acc: 0.5823\n",
            "\n",
            "Epoch 00022: val_acc did not improve from 0.58986\n",
            "Epoch 23/150\n",
            "248/248 [==============================] - 30s 122ms/step - loss: 1.1902 - acc: 0.5478 - val_loss: 1.0864 - val_acc: 0.5926\n",
            "\n",
            "Epoch 00023: val_acc improved from 0.58986 to 0.59264, saving model to /content/drive/My Drive/cs230 project/models/Baseline-weights-best.hdf5\n",
            "Epoch 24/150\n",
            "248/248 [==============================] - 30s 121ms/step - loss: 1.1856 - acc: 0.5485 - val_loss: 1.0841 - val_acc: 0.5963\n",
            "\n",
            "Epoch 00024: val_acc improved from 0.59264 to 0.59627, saving model to /content/drive/My Drive/cs230 project/models/Baseline-weights-best.hdf5\n",
            "Epoch 25/150\n",
            "248/248 [==============================] - 30s 123ms/step - loss: 1.1830 - acc: 0.5541 - val_loss: 1.0917 - val_acc: 0.5868\n",
            "\n",
            "Epoch 00025: val_acc did not improve from 0.59627\n",
            "Epoch 26/150\n",
            "248/248 [==============================] - 30s 122ms/step - loss: 1.1706 - acc: 0.5576 - val_loss: 1.0794 - val_acc: 0.5926\n",
            "\n",
            "Epoch 00026: val_acc did not improve from 0.59627\n",
            "Epoch 27/150\n",
            "248/248 [==============================] - 30s 122ms/step - loss: 1.1638 - acc: 0.5611 - val_loss: 1.0761 - val_acc: 0.6013\n",
            "\n",
            "Epoch 00027: val_acc improved from 0.59627 to 0.60128, saving model to /content/drive/My Drive/cs230 project/models/Baseline-weights-best.hdf5\n",
            "Epoch 28/150\n",
            "248/248 [==============================] - 30s 121ms/step - loss: 1.1604 - acc: 0.5621 - val_loss: 1.0887 - val_acc: 0.5974\n",
            "\n",
            "Epoch 00028: val_acc did not improve from 0.60128\n",
            "Epoch 29/150\n",
            "248/248 [==============================] - 30s 122ms/step - loss: 1.1510 - acc: 0.5656 - val_loss: 1.0689 - val_acc: 0.5974\n",
            "\n",
            "Epoch 00029: val_acc did not improve from 0.60128\n",
            "Epoch 30/150\n",
            "248/248 [==============================] - 30s 122ms/step - loss: 1.1478 - acc: 0.5643 - val_loss: 1.0720 - val_acc: 0.5988\n",
            "\n",
            "Epoch 00030: val_acc did not improve from 0.60128\n",
            "Epoch 31/150\n",
            "248/248 [==============================] - 31s 124ms/step - loss: 1.1397 - acc: 0.5687 - val_loss: 1.0564 - val_acc: 0.6016\n",
            "\n",
            "Epoch 00031: val_acc improved from 0.60128 to 0.60156, saving model to /content/drive/My Drive/cs230 project/models/Baseline-weights-best.hdf5\n",
            "Epoch 32/150\n",
            "248/248 [==============================] - 31s 125ms/step - loss: 1.1366 - acc: 0.5710 - val_loss: 1.0718 - val_acc: 0.6088\n",
            "\n",
            "Epoch 00032: val_acc improved from 0.60156 to 0.60880, saving model to /content/drive/My Drive/cs230 project/models/Baseline-weights-best.hdf5\n",
            "Epoch 33/150\n",
            "248/248 [==============================] - 31s 125ms/step - loss: 1.1260 - acc: 0.5753 - val_loss: 1.0628 - val_acc: 0.6105\n",
            "\n",
            "Epoch 00033: val_acc improved from 0.60880 to 0.61048, saving model to /content/drive/My Drive/cs230 project/models/Baseline-weights-best.hdf5\n",
            "Epoch 34/150\n",
            "248/248 [==============================] - 32s 127ms/step - loss: 1.1210 - acc: 0.5762 - val_loss: 1.0530 - val_acc: 0.5988\n",
            "\n",
            "Epoch 00034: val_acc did not improve from 0.61048\n",
            "Epoch 35/150\n",
            "248/248 [==============================] - 32s 131ms/step - loss: 1.1194 - acc: 0.5790 - val_loss: 1.0643 - val_acc: 0.6063\n",
            "\n",
            "Epoch 00035: val_acc did not improve from 0.61048\n",
            "Epoch 36/150\n",
            "248/248 [==============================] - 31s 124ms/step - loss: 1.1150 - acc: 0.5792 - val_loss: 1.0554 - val_acc: 0.6018\n",
            "\n",
            "Epoch 00036: val_acc did not improve from 0.61048\n",
            "Epoch 37/150\n",
            "248/248 [==============================] - 30s 123ms/step - loss: 1.1105 - acc: 0.5819 - val_loss: 1.0414 - val_acc: 0.6108\n",
            "\n",
            "Epoch 00037: val_acc improved from 0.61048 to 0.61076, saving model to /content/drive/My Drive/cs230 project/models/Baseline-weights-best.hdf5\n",
            "Epoch 38/150\n",
            "248/248 [==============================] - 31s 123ms/step - loss: 1.1071 - acc: 0.5844 - val_loss: 1.0478 - val_acc: 0.6130\n",
            "\n",
            "Epoch 00038: val_acc improved from 0.61076 to 0.61298, saving model to /content/drive/My Drive/cs230 project/models/Baseline-weights-best.hdf5\n",
            "Epoch 39/150\n",
            "248/248 [==============================] - 30s 122ms/step - loss: 1.1036 - acc: 0.5857 - val_loss: 1.0536 - val_acc: 0.6066\n",
            "\n",
            "Epoch 00039: val_acc did not improve from 0.61298\n",
            "Epoch 40/150\n",
            "248/248 [==============================] - 30s 121ms/step - loss: 1.0880 - acc: 0.5888 - val_loss: 1.0369 - val_acc: 0.6135\n",
            "\n",
            "Epoch 00040: val_acc improved from 0.61298 to 0.61354, saving model to /content/drive/My Drive/cs230 project/models/Baseline-weights-best.hdf5\n",
            "Epoch 41/150\n",
            "248/248 [==============================] - 30s 121ms/step - loss: 1.0880 - acc: 0.5873 - val_loss: 1.0327 - val_acc: 0.6239\n",
            "\n",
            "Epoch 00041: val_acc improved from 0.61354 to 0.62385, saving model to /content/drive/My Drive/cs230 project/models/Baseline-weights-best.hdf5\n",
            "Epoch 42/150\n",
            "248/248 [==============================] - 30s 122ms/step - loss: 1.0904 - acc: 0.5895 - val_loss: 1.0328 - val_acc: 0.6155\n",
            "\n",
            "Epoch 00042: val_acc did not improve from 0.62385\n",
            "Epoch 43/150\n",
            "248/248 [==============================] - 30s 121ms/step - loss: 1.0830 - acc: 0.5925 - val_loss: 1.0364 - val_acc: 0.6094\n",
            "\n",
            "Epoch 00043: val_acc did not improve from 0.62385\n",
            "Epoch 44/150\n",
            "248/248 [==============================] - 30s 121ms/step - loss: 1.0796 - acc: 0.5932 - val_loss: 1.0348 - val_acc: 0.6183\n",
            "\n",
            "Epoch 00044: val_acc did not improve from 0.62385\n",
            "Epoch 45/150\n",
            "248/248 [==============================] - 31s 123ms/step - loss: 1.0785 - acc: 0.5935 - val_loss: 1.0263 - val_acc: 0.6166\n",
            "\n",
            "Epoch 00045: val_acc did not improve from 0.62385\n",
            "Epoch 46/150\n",
            "248/248 [==============================] - 30s 122ms/step - loss: 1.0691 - acc: 0.5998 - val_loss: 1.0318 - val_acc: 0.6188\n",
            "\n",
            "Epoch 00046: val_acc did not improve from 0.62385\n",
            "Epoch 47/150\n",
            "248/248 [==============================] - 30s 121ms/step - loss: 1.0652 - acc: 0.5996 - val_loss: 1.0628 - val_acc: 0.6027\n",
            "\n",
            "Epoch 00047: val_acc did not improve from 0.62385\n",
            "Epoch 48/150\n",
            "248/248 [==============================] - 30s 122ms/step - loss: 1.0666 - acc: 0.5972 - val_loss: 1.0268 - val_acc: 0.6138\n",
            "\n",
            "Epoch 00048: val_acc did not improve from 0.62385\n",
            "Epoch 49/150\n",
            "248/248 [==============================] - 30s 121ms/step - loss: 1.0629 - acc: 0.5986 - val_loss: 1.0141 - val_acc: 0.6213\n",
            "\n",
            "Epoch 00049: val_acc did not improve from 0.62385\n",
            "Epoch 50/150\n",
            "248/248 [==============================] - 30s 121ms/step - loss: 1.0571 - acc: 0.6032 - val_loss: 1.0206 - val_acc: 0.6222\n",
            "\n",
            "Epoch 00050: val_acc did not improve from 0.62385\n",
            "Epoch 51/150\n",
            "248/248 [==============================] - 30s 122ms/step - loss: 1.0553 - acc: 0.6046 - val_loss: 1.0214 - val_acc: 0.6272\n",
            "\n",
            "Epoch 00051: val_acc improved from 0.62385 to 0.62719, saving model to /content/drive/My Drive/cs230 project/models/Baseline-weights-best.hdf5\n",
            "Epoch 52/150\n",
            "248/248 [==============================] - 30s 122ms/step - loss: 1.0559 - acc: 0.6013 - val_loss: 1.0123 - val_acc: 0.6258\n",
            "\n",
            "Epoch 00052: val_acc did not improve from 0.62719\n",
            "Epoch 53/150\n",
            "248/248 [==============================] - 30s 120ms/step - loss: 1.0482 - acc: 0.6064 - val_loss: 1.0171 - val_acc: 0.6225\n",
            "\n",
            "Epoch 00053: val_acc did not improve from 0.62719\n",
            "Epoch 54/150\n",
            "248/248 [==============================] - 29s 117ms/step - loss: 1.0407 - acc: 0.6059 - val_loss: 1.0259 - val_acc: 0.6199\n",
            "\n",
            "Epoch 00054: val_acc did not improve from 0.62719\n",
            "Epoch 55/150\n",
            "248/248 [==============================] - 30s 119ms/step - loss: 1.0451 - acc: 0.6088 - val_loss: 1.0161 - val_acc: 0.6222\n",
            "\n",
            "Epoch 00055: val_acc did not improve from 0.62719\n",
            "Epoch 56/150\n",
            "248/248 [==============================] - 29s 118ms/step - loss: 1.0423 - acc: 0.6109 - val_loss: 1.0054 - val_acc: 0.6264\n",
            "\n",
            "Epoch 00056: val_acc did not improve from 0.62719\n",
            "Epoch 57/150\n",
            "248/248 [==============================] - 29s 118ms/step - loss: 1.0338 - acc: 0.6150 - val_loss: 1.0114 - val_acc: 0.6239\n",
            "\n",
            "Epoch 00057: val_acc did not improve from 0.62719\n",
            "Epoch 58/150\n",
            "248/248 [==============================] - 29s 117ms/step - loss: 1.0339 - acc: 0.6096 - val_loss: 1.0043 - val_acc: 0.6239\n",
            "\n",
            "Epoch 00058: val_acc did not improve from 0.62719\n",
            "Epoch 59/150\n",
            "248/248 [==============================] - 29s 118ms/step - loss: 1.0288 - acc: 0.6114 - val_loss: 1.0033 - val_acc: 0.6269\n",
            "\n",
            "Epoch 00059: val_acc did not improve from 0.62719\n",
            "Epoch 60/150\n",
            "248/248 [==============================] - 29s 116ms/step - loss: 1.0256 - acc: 0.6154 - val_loss: 1.0020 - val_acc: 0.6230\n",
            "\n",
            "Epoch 00060: val_acc did not improve from 0.62719\n",
            "Epoch 61/150\n",
            "248/248 [==============================] - 29s 118ms/step - loss: 1.0275 - acc: 0.6144 - val_loss: 1.0111 - val_acc: 0.6291\n",
            "\n",
            "Epoch 00061: val_acc improved from 0.62719 to 0.62914, saving model to /content/drive/My Drive/cs230 project/models/Baseline-weights-best.hdf5\n",
            "Epoch 62/150\n",
            "248/248 [==============================] - 29s 117ms/step - loss: 1.0192 - acc: 0.6168 - val_loss: 1.0003 - val_acc: 0.6336\n",
            "\n",
            "Epoch 00062: val_acc improved from 0.62914 to 0.63360, saving model to /content/drive/My Drive/cs230 project/models/Baseline-weights-best.hdf5\n",
            "Epoch 63/150\n",
            "248/248 [==============================] - 29s 118ms/step - loss: 1.0185 - acc: 0.6158 - val_loss: 1.0015 - val_acc: 0.6280\n",
            "\n",
            "Epoch 00063: val_acc did not improve from 0.63360\n",
            "Epoch 64/150\n",
            "248/248 [==============================] - 29s 118ms/step - loss: 1.0169 - acc: 0.6173 - val_loss: 1.0030 - val_acc: 0.6264\n",
            "\n",
            "Epoch 00064: val_acc did not improve from 0.63360\n",
            "Epoch 65/150\n",
            "248/248 [==============================] - 29s 117ms/step - loss: 1.0197 - acc: 0.6153 - val_loss: 1.0046 - val_acc: 0.6266\n",
            "\n",
            "Epoch 00065: val_acc did not improve from 0.63360\n",
            "Epoch 66/150\n",
            "248/248 [==============================] - 29s 118ms/step - loss: 1.0133 - acc: 0.6195 - val_loss: 0.9904 - val_acc: 0.6322\n",
            "\n",
            "Epoch 00066: val_acc did not improve from 0.63360\n",
            "Epoch 67/150\n",
            "248/248 [==============================] - 29s 119ms/step - loss: 1.0166 - acc: 0.6180 - val_loss: 0.9999 - val_acc: 0.6305\n",
            "\n",
            "Epoch 00067: val_acc did not improve from 0.63360\n",
            "Epoch 68/150\n",
            "248/248 [==============================] - 29s 117ms/step - loss: 1.0082 - acc: 0.6238 - val_loss: 0.9888 - val_acc: 0.6361\n",
            "\n",
            "Epoch 00068: val_acc improved from 0.63360 to 0.63611, saving model to /content/drive/My Drive/cs230 project/models/Baseline-weights-best.hdf5\n",
            "Epoch 69/150\n",
            "248/248 [==============================] - 29s 117ms/step - loss: 1.0067 - acc: 0.6189 - val_loss: 0.9987 - val_acc: 0.6303\n",
            "\n",
            "Epoch 00069: val_acc did not improve from 0.63611\n",
            "Epoch 70/150\n",
            "248/248 [==============================] - 29s 117ms/step - loss: 1.0084 - acc: 0.6244 - val_loss: 0.9998 - val_acc: 0.6269\n",
            "\n",
            "Epoch 00070: val_acc did not improve from 0.63611\n",
            "Epoch 71/150\n",
            "248/248 [==============================] - 29s 117ms/step - loss: 1.0031 - acc: 0.6263 - val_loss: 0.9892 - val_acc: 0.6356\n",
            "\n",
            "Epoch 00071: val_acc did not improve from 0.63611\n",
            "Epoch 72/150\n",
            "248/248 [==============================] - 29s 118ms/step - loss: 0.9945 - acc: 0.6230 - val_loss: 0.9985 - val_acc: 0.6291\n",
            "\n",
            "Epoch 00072: val_acc did not improve from 0.63611\n",
            "Epoch 73/150\n",
            "248/248 [==============================] - 29s 117ms/step - loss: 0.9978 - acc: 0.6248 - val_loss: 1.0016 - val_acc: 0.6303\n",
            "\n",
            "Epoch 00073: val_acc did not improve from 0.63611\n",
            "Epoch 74/150\n",
            "248/248 [==============================] - 29s 117ms/step - loss: 0.9960 - acc: 0.6289 - val_loss: 0.9999 - val_acc: 0.6303\n",
            "\n",
            "Epoch 00074: val_acc did not improve from 0.63611\n",
            "Epoch 75/150\n",
            "248/248 [==============================] - 29s 118ms/step - loss: 0.9939 - acc: 0.6307 - val_loss: 0.9989 - val_acc: 0.6369\n",
            "\n",
            "Epoch 00075: val_acc improved from 0.63611 to 0.63695, saving model to /content/drive/My Drive/cs230 project/models/Baseline-weights-best.hdf5\n",
            "Epoch 76/150\n",
            "248/248 [==============================] - 29s 118ms/step - loss: 0.9873 - acc: 0.6313 - val_loss: 0.9929 - val_acc: 0.6400\n",
            "\n",
            "Epoch 00076: val_acc improved from 0.63695 to 0.64001, saving model to /content/drive/My Drive/cs230 project/models/Baseline-weights-best.hdf5\n",
            "Epoch 77/150\n",
            "248/248 [==============================] - 29s 118ms/step - loss: 0.9907 - acc: 0.6307 - val_loss: 0.9865 - val_acc: 0.6353\n",
            "\n",
            "Epoch 00077: val_acc did not improve from 0.64001\n",
            "Epoch 78/150\n",
            "248/248 [==============================] - 29s 118ms/step - loss: 0.9895 - acc: 0.6281 - val_loss: 0.9950 - val_acc: 0.6378\n",
            "\n",
            "Epoch 00078: val_acc did not improve from 0.64001\n",
            "Epoch 79/150\n",
            "248/248 [==============================] - 29s 117ms/step - loss: 0.9873 - acc: 0.6269 - val_loss: 0.9910 - val_acc: 0.6383\n",
            "\n",
            "Epoch 00079: val_acc did not improve from 0.64001\n",
            "Epoch 80/150\n",
            "248/248 [==============================] - 29s 118ms/step - loss: 0.9889 - acc: 0.6294 - val_loss: 0.9847 - val_acc: 0.6428\n",
            "\n",
            "Epoch 00080: val_acc improved from 0.64001 to 0.64280, saving model to /content/drive/My Drive/cs230 project/models/Baseline-weights-best.hdf5\n",
            "Epoch 81/150\n",
            "248/248 [==============================] - 29s 118ms/step - loss: 0.9852 - acc: 0.6302 - val_loss: 0.9870 - val_acc: 0.6411\n",
            "\n",
            "Epoch 00081: val_acc did not improve from 0.64280\n",
            "Epoch 82/150\n",
            "248/248 [==============================] - 29s 118ms/step - loss: 0.9863 - acc: 0.6293 - val_loss: 0.9962 - val_acc: 0.6322\n",
            "\n",
            "Epoch 00082: val_acc did not improve from 0.64280\n",
            "Epoch 83/150\n",
            "248/248 [==============================] - 29s 118ms/step - loss: 0.9724 - acc: 0.6326 - val_loss: 0.9848 - val_acc: 0.6358\n",
            "\n",
            "Epoch 00083: val_acc did not improve from 0.64280\n",
            "Epoch 84/150\n",
            "248/248 [==============================] - 29s 116ms/step - loss: 0.9813 - acc: 0.6312 - val_loss: 0.9906 - val_acc: 0.6369\n",
            "\n",
            "Epoch 00084: val_acc did not improve from 0.64280\n",
            "Epoch 85/150\n",
            "248/248 [==============================] - 29s 117ms/step - loss: 0.9707 - acc: 0.6391 - val_loss: 0.9929 - val_acc: 0.6389\n",
            "\n",
            "Epoch 00085: val_acc did not improve from 0.64280\n",
            "Epoch 86/150\n",
            "248/248 [==============================] - 29s 118ms/step - loss: 0.9779 - acc: 0.6352 - val_loss: 0.9903 - val_acc: 0.6381\n",
            "\n",
            "Epoch 00086: val_acc did not improve from 0.64280\n",
            "Epoch 87/150\n",
            "248/248 [==============================] - 29s 119ms/step - loss: 0.9761 - acc: 0.6362 - val_loss: 0.9942 - val_acc: 0.6375\n",
            "\n",
            "Epoch 00087: val_acc did not improve from 0.64280\n",
            "Epoch 88/150\n",
            "248/248 [==============================] - 29s 117ms/step - loss: 0.9726 - acc: 0.6325 - val_loss: 0.9883 - val_acc: 0.6386\n",
            "\n",
            "Epoch 00088: val_acc did not improve from 0.64280\n",
            "Epoch 89/150\n",
            "248/248 [==============================] - 30s 119ms/step - loss: 0.9709 - acc: 0.6362 - val_loss: 0.9841 - val_acc: 0.6417\n",
            "\n",
            "Epoch 00089: val_acc did not improve from 0.64280\n",
            "Epoch 90/150\n",
            "248/248 [==============================] - 30s 119ms/step - loss: 0.9715 - acc: 0.6344 - val_loss: 0.9848 - val_acc: 0.6445\n",
            "\n",
            "Epoch 00090: val_acc improved from 0.64280 to 0.64447, saving model to /content/drive/My Drive/cs230 project/models/Baseline-weights-best.hdf5\n",
            "Epoch 91/150\n",
            "248/248 [==============================] - 30s 120ms/step - loss: 0.9693 - acc: 0.6344 - val_loss: 0.9875 - val_acc: 0.6417\n",
            "\n",
            "Epoch 00091: val_acc did not improve from 0.64447\n",
            "Epoch 92/150\n",
            "248/248 [==============================] - 30s 119ms/step - loss: 0.9643 - acc: 0.6358 - val_loss: 0.9938 - val_acc: 0.6411\n",
            "\n",
            "Epoch 00092: val_acc did not improve from 0.64447\n",
            "Epoch 93/150\n",
            "248/248 [==============================] - 30s 120ms/step - loss: 0.9610 - acc: 0.6364 - val_loss: 0.9913 - val_acc: 0.6414\n",
            "\n",
            "Epoch 00093: val_acc did not improve from 0.64447\n",
            "Epoch 94/150\n",
            "248/248 [==============================] - 30s 120ms/step - loss: 0.9649 - acc: 0.6386 - val_loss: 0.9786 - val_acc: 0.6459\n",
            "\n",
            "Epoch 00094: val_acc improved from 0.64447 to 0.64586, saving model to /content/drive/My Drive/cs230 project/models/Baseline-weights-best.hdf5\n",
            "Epoch 95/150\n",
            "248/248 [==============================] - 30s 120ms/step - loss: 0.9612 - acc: 0.6403 - val_loss: 0.9782 - val_acc: 0.6434\n",
            "\n",
            "Epoch 00095: val_acc did not improve from 0.64586\n",
            "Epoch 96/150\n",
            "248/248 [==============================] - 30s 119ms/step - loss: 0.9595 - acc: 0.6386 - val_loss: 0.9816 - val_acc: 0.6408\n",
            "\n",
            "Epoch 00096: val_acc did not improve from 0.64586\n",
            "Epoch 97/150\n",
            "248/248 [==============================] - 30s 121ms/step - loss: 0.9563 - acc: 0.6411 - val_loss: 0.9840 - val_acc: 0.6417\n",
            "\n",
            "Epoch 00097: val_acc did not improve from 0.64586\n",
            "Epoch 98/150\n",
            "248/248 [==============================] - 31s 124ms/step - loss: 0.9578 - acc: 0.6430 - val_loss: 0.9858 - val_acc: 0.6453\n",
            "\n",
            "Epoch 00098: val_acc did not improve from 0.64586\n",
            "Epoch 99/150\n",
            "248/248 [==============================] - 31s 126ms/step - loss: 0.9612 - acc: 0.6402 - val_loss: 0.9809 - val_acc: 0.6425\n",
            "\n",
            "Epoch 00099: val_acc did not improve from 0.64586\n",
            "Epoch 100/150\n",
            "248/248 [==============================] - 30s 121ms/step - loss: 0.9539 - acc: 0.6407 - val_loss: 0.9865 - val_acc: 0.6414\n",
            "\n",
            "Epoch 00100: val_acc did not improve from 0.64586\n",
            "Epoch 101/150\n",
            "248/248 [==============================] - 30s 122ms/step - loss: 0.9536 - acc: 0.6424 - val_loss: 0.9854 - val_acc: 0.6378\n",
            "\n",
            "Epoch 00101: val_acc did not improve from 0.64586\n",
            "Epoch 102/150\n",
            "248/248 [==============================] - 30s 121ms/step - loss: 0.9466 - acc: 0.6450 - val_loss: 0.9772 - val_acc: 0.6436\n",
            "\n",
            "Epoch 00102: val_acc did not improve from 0.64586\n",
            "Epoch 103/150\n",
            "248/248 [==============================] - 30s 121ms/step - loss: 0.9495 - acc: 0.6438 - val_loss: 0.9835 - val_acc: 0.6420\n",
            "\n",
            "Epoch 00103: val_acc did not improve from 0.64586\n",
            "Epoch 104/150\n",
            "248/248 [==============================] - 30s 120ms/step - loss: 0.9492 - acc: 0.6456 - val_loss: 0.9846 - val_acc: 0.6450\n",
            "\n",
            "Epoch 00104: ReduceLROnPlateau reducing learning rate to 0.004999999888241291.\n",
            "\n",
            "Epoch 00104: val_acc did not improve from 0.64586\n",
            "Epoch 105/150\n",
            "248/248 [==============================] - 30s 120ms/step - loss: 0.9370 - acc: 0.6509 - val_loss: 0.9768 - val_acc: 0.6475\n",
            "\n",
            "Epoch 00105: val_acc improved from 0.64586 to 0.64753, saving model to /content/drive/My Drive/cs230 project/models/Baseline-weights-best.hdf5\n",
            "Epoch 106/150\n",
            "248/248 [==============================] - 30s 121ms/step - loss: 0.9365 - acc: 0.6506 - val_loss: 0.9759 - val_acc: 0.6428\n",
            "\n",
            "Epoch 00106: val_acc did not improve from 0.64753\n",
            "Epoch 107/150\n",
            "248/248 [==============================] - 30s 121ms/step - loss: 0.9291 - acc: 0.6511 - val_loss: 0.9783 - val_acc: 0.6414\n",
            "\n",
            "Epoch 00107: val_acc did not improve from 0.64753\n",
            "Epoch 108/150\n",
            "248/248 [==============================] - 30s 123ms/step - loss: 0.9358 - acc: 0.6504 - val_loss: 0.9753 - val_acc: 0.6431\n",
            "\n",
            "Epoch 00108: val_acc did not improve from 0.64753\n",
            "Epoch 109/150\n",
            "248/248 [==============================] - 30s 121ms/step - loss: 0.9295 - acc: 0.6541 - val_loss: 0.9776 - val_acc: 0.6411\n",
            "\n",
            "Epoch 00109: val_acc did not improve from 0.64753\n",
            "Epoch 110/150\n",
            "248/248 [==============================] - 30s 121ms/step - loss: 0.9260 - acc: 0.6537 - val_loss: 0.9770 - val_acc: 0.6420\n",
            "\n",
            "Epoch 00110: val_acc did not improve from 0.64753\n",
            "Epoch 111/150\n",
            "248/248 [==============================] - 30s 121ms/step - loss: 0.9273 - acc: 0.6551 - val_loss: 0.9781 - val_acc: 0.6445\n",
            "\n",
            "Epoch 00111: val_acc did not improve from 0.64753\n",
            "Epoch 112/150\n",
            "248/248 [==============================] - 30s 120ms/step - loss: 0.9261 - acc: 0.6540 - val_loss: 0.9777 - val_acc: 0.6484\n",
            "\n",
            "Epoch 00112: val_acc improved from 0.64753 to 0.64837, saving model to /content/drive/My Drive/cs230 project/models/Baseline-weights-best.hdf5\n",
            "Epoch 113/150\n",
            "248/248 [==============================] - 30s 122ms/step - loss: 0.9262 - acc: 0.6531 - val_loss: 0.9755 - val_acc: 0.6456\n",
            "\n",
            "Epoch 00113: val_acc did not improve from 0.64837\n",
            "Epoch 114/150\n",
            "248/248 [==============================] - 30s 121ms/step - loss: 0.9199 - acc: 0.6572 - val_loss: 0.9738 - val_acc: 0.6481\n",
            "\n",
            "Epoch 00114: val_acc did not improve from 0.64837\n",
            "Epoch 115/150\n",
            "248/248 [==============================] - 30s 121ms/step - loss: 0.9238 - acc: 0.6545 - val_loss: 0.9703 - val_acc: 0.6500\n",
            "\n",
            "Epoch 00115: val_acc improved from 0.64837 to 0.65004, saving model to /content/drive/My Drive/cs230 project/models/Baseline-weights-best.hdf5\n",
            "Epoch 116/150\n",
            "248/248 [==============================] - 30s 121ms/step - loss: 0.9249 - acc: 0.6552 - val_loss: 0.9731 - val_acc: 0.6428\n",
            "\n",
            "Epoch 00116: val_acc did not improve from 0.65004\n",
            "Epoch 117/150\n",
            "248/248 [==============================] - 30s 120ms/step - loss: 0.9214 - acc: 0.6544 - val_loss: 0.9702 - val_acc: 0.6428\n",
            "\n",
            "Epoch 00117: val_acc did not improve from 0.65004\n",
            "Epoch 118/150\n",
            "248/248 [==============================] - 30s 122ms/step - loss: 0.9267 - acc: 0.6548 - val_loss: 0.9715 - val_acc: 0.6470\n",
            "\n",
            "Epoch 00118: val_acc did not improve from 0.65004\n",
            "Epoch 119/150\n",
            "248/248 [==============================] - 30s 121ms/step - loss: 0.9236 - acc: 0.6531 - val_loss: 0.9670 - val_acc: 0.6459\n",
            "\n",
            "Epoch 00119: val_acc did not improve from 0.65004\n",
            "Epoch 120/150\n",
            "248/248 [==============================] - 33s 132ms/step - loss: 0.9226 - acc: 0.6545 - val_loss: 0.9663 - val_acc: 0.6537\n",
            "\n",
            "Epoch 00120: val_acc improved from 0.65004 to 0.65366, saving model to /content/drive/My Drive/cs230 project/models/Baseline-weights-best.hdf5\n",
            "Epoch 121/150\n",
            "248/248 [==============================] - 30s 122ms/step - loss: 0.9150 - acc: 0.6577 - val_loss: 0.9660 - val_acc: 0.6467\n",
            "\n",
            "Epoch 00121: val_acc did not improve from 0.65366\n",
            "Epoch 122/150\n",
            "248/248 [==============================] - 30s 122ms/step - loss: 0.9138 - acc: 0.6586 - val_loss: 0.9705 - val_acc: 0.6459\n",
            "\n",
            "Epoch 00122: val_acc did not improve from 0.65366\n",
            "Epoch 123/150\n",
            "248/248 [==============================] - 30s 122ms/step - loss: 0.9176 - acc: 0.6568 - val_loss: 0.9713 - val_acc: 0.6431\n",
            "\n",
            "Epoch 00123: val_acc did not improve from 0.65366\n",
            "Epoch 124/150\n",
            "248/248 [==============================] - 30s 122ms/step - loss: 0.9125 - acc: 0.6588 - val_loss: 0.9714 - val_acc: 0.6470\n",
            "\n",
            "Epoch 00124: val_acc did not improve from 0.65366\n",
            "Epoch 125/150\n",
            "248/248 [==============================] - 30s 122ms/step - loss: 0.9144 - acc: 0.6595 - val_loss: 0.9734 - val_acc: 0.6442\n",
            "\n",
            "Epoch 00125: val_acc did not improve from 0.65366\n",
            "Epoch 126/150\n",
            "248/248 [==============================] - 30s 122ms/step - loss: 0.9164 - acc: 0.6588 - val_loss: 0.9700 - val_acc: 0.6475\n",
            "\n",
            "Epoch 00126: val_acc did not improve from 0.65366\n",
            "Epoch 127/150\n",
            "248/248 [==============================] - 31s 125ms/step - loss: 0.9174 - acc: 0.6579 - val_loss: 0.9674 - val_acc: 0.6470\n",
            "\n",
            "Epoch 00127: val_acc did not improve from 0.65366\n",
            "Epoch 128/150\n",
            "248/248 [==============================] - 32s 131ms/step - loss: 0.9161 - acc: 0.6587 - val_loss: 0.9646 - val_acc: 0.6481\n",
            "\n",
            "Epoch 00128: val_acc did not improve from 0.65366\n",
            "Epoch 129/150\n",
            "248/248 [==============================] - 32s 130ms/step - loss: 0.9146 - acc: 0.6563 - val_loss: 0.9692 - val_acc: 0.6503\n",
            "\n",
            "Epoch 00129: val_acc did not improve from 0.65366\n",
            "Epoch 130/150\n",
            "248/248 [==============================] - 32s 129ms/step - loss: 0.9175 - acc: 0.6569 - val_loss: 0.9710 - val_acc: 0.6453\n",
            "\n",
            "Epoch 00130: ReduceLROnPlateau reducing learning rate to 0.0024999999441206455.\n",
            "\n",
            "Epoch 00130: val_acc did not improve from 0.65366\n",
            "Epoch 131/150\n",
            "248/248 [==============================] - 32s 130ms/step - loss: 0.9053 - acc: 0.6624 - val_loss: 0.9674 - val_acc: 0.6453\n",
            "\n",
            "Epoch 00131: val_acc did not improve from 0.65366\n",
            "Epoch 132/150\n",
            "248/248 [==============================] - 31s 125ms/step - loss: 0.9101 - acc: 0.6579 - val_loss: 0.9695 - val_acc: 0.6450\n",
            "\n",
            "Epoch 00132: val_acc did not improve from 0.65366\n",
            "Epoch 133/150\n",
            "248/248 [==============================] - 31s 123ms/step - loss: 0.9078 - acc: 0.6596 - val_loss: 0.9670 - val_acc: 0.6447\n",
            "\n",
            "Epoch 00133: val_acc did not improve from 0.65366\n",
            "Epoch 134/150\n",
            "248/248 [==============================] - 31s 123ms/step - loss: 0.9038 - acc: 0.6622 - val_loss: 0.9661 - val_acc: 0.6509\n",
            "\n",
            "Epoch 00134: val_acc did not improve from 0.65366\n",
            "Epoch 135/150\n",
            "248/248 [==============================] - 30s 123ms/step - loss: 0.9074 - acc: 0.6584 - val_loss: 0.9648 - val_acc: 0.6459\n",
            "\n",
            "Epoch 00135: val_acc did not improve from 0.65366\n",
            "Epoch 136/150\n",
            "248/248 [==============================] - 31s 123ms/step - loss: 0.9087 - acc: 0.6588 - val_loss: 0.9670 - val_acc: 0.6473\n",
            "\n",
            "Epoch 00136: val_acc did not improve from 0.65366\n",
            "Epoch 137/150\n",
            "248/248 [==============================] - 30s 123ms/step - loss: 0.9068 - acc: 0.6617 - val_loss: 0.9666 - val_acc: 0.6503\n",
            "\n",
            "Epoch 00137: val_acc did not improve from 0.65366\n",
            "Epoch 138/150\n",
            "248/248 [==============================] - 30s 123ms/step - loss: 0.9061 - acc: 0.6587 - val_loss: 0.9658 - val_acc: 0.6509\n",
            "\n",
            "Epoch 00138: val_acc did not improve from 0.65366\n",
            "Epoch 139/150\n",
            "110/248 [============>.................] - ETA: 16s - loss: 0.9045 - acc: 0.6637"
          ],
          "name": "stdout"
        }
      ]
    },
    {
      "cell_type": "code",
      "metadata": {
        "id": "5aUXi05NXeol"
      },
      "source": [
        "print('\\n# Evaluate on dev data')\n",
        "results_dev = baseline_model.evaluate_generator(dev_generator, 3509 // batch_size)\n",
        "print('dev loss, dev acc:', results_dev)"
      ],
      "execution_count": null,
      "outputs": []
    },
    {
      "cell_type": "code",
      "metadata": {
        "id": "iXTV7TokXfx1"
      },
      "source": [
        "print('\\n# Evaluate on test data')\n",
        "results_test = baseline_model.evaluate_generator(test_generator, 3509 // batch_size)\n",
        "print('test loss, test acc:', results_test)"
      ],
      "execution_count": null,
      "outputs": []
    },
    {
      "cell_type": "code",
      "metadata": {
        "id": "N65tgp91XiWO"
      },
      "source": [
        "# list all data in history (here dev means validation)\n",
        "print(history.history.keys())\n",
        "# Plot accuracy\n",
        "plt.plot(history.history['acc'])\n",
        "plt.plot(history.history['val_acc'])\n",
        "plt.title('model accuracy')\n",
        "plt.ylabel('accuracy')\n",
        "plt.xlabel('epoch')\n",
        "plt.legend(['train', 'dev'], loc='upper left')\n",
        "plt.show()\n",
        "# Plot loss\n",
        "plt.plot(history.history['loss'])\n",
        "plt.plot(history.history['val_loss'])\n",
        "plt.title('model loss')\n",
        "plt.ylabel('loss')\n",
        "plt.xlabel('epoch')\n",
        "plt.legend(['train', 'dev'], loc='upper left')\n",
        "plt.show()"
      ],
      "execution_count": null,
      "outputs": []
    },
    {
      "cell_type": "markdown",
      "source": [
        "### ResNet50 pretrained Model"
      ],
      "metadata": {
        "id": "wIP6Qr2RfatN"
      }
    },
    {
      "cell_type": "code",
      "metadata": {
        "id": "v60q28mDHnN9"
      },
      "source": [
        "epochs = 100\n",
        "batch_size = 128\n",
        "dropout_rate = 0.5\n",
        "FROZEN_LAYER_NUM = 170\n",
        "\n",
        "lr = 0.01\n",
        "decay = 0.0001\n",
        "\n",
        "Resize_pixelsize = 197"
      ],
      "execution_count": null,
      "outputs": []
    },
    {
      "cell_type": "code",
      "metadata": {
        "id": "itKZtFV0F7b1",
        "outputId": "22246812-3d80-4ad0-d950-27e509b19b7a",
        "colab": {
          "base_uri": "https://localhost:8080/"
        }
      },
      "source": [
        "vgg_notop = VGGFace(model='resnet50', include_top=False, input_shape=(Resize_pixelsize, Resize_pixelsize, 3), pooling='avg')\n",
        "last_layer = vgg_notop.get_layer('avg_pool').output\n",
        "x = Flatten(name='flatten')(last_layer)\n",
        "x = Dropout(dropout_rate)(x)\n",
        "x = Dense(4096, activation='relu', name='fc6')(x)\n",
        "x = Dropout(dropout_rate)(x)\n",
        "x = Dense(1024, activation='relu', name='fc7')(x)\n",
        "x = Dropout(dropout_rate)(x)\n",
        "\n",
        "batch_norm_indices = [2, 6, 9, 13, 14, 18, 21, 24, 28, 31, 34, 38, 41, 45, 46, 53, 56, 60, 63, 66, 70, 73, 76, 80, 83, 87, 88, 92, 95, 98, 102, 105, 108, 112, 115, 118, 122, 125, 128, 132, 135, 138, 142, 145, 149, 150, 154, 157, 160, 164, 167, 170]\n",
        "for i in range(FROZEN_LAYER_NUM):\n",
        "    if i not in batch_norm_indices:\n",
        "        vgg_notop.layers[i].trainable = False\n",
        "        \n",
        "out = Dense(7, activation='softmax', name='classifier')(x)\n",
        "\n",
        "resnet_model = Model(vgg_notop.input, out)\n",
        "sgd = keras.optimizers.SGD(lr=lr, momentum=0.9, decay=decay, nesterov=True)\n",
        "\n",
        "resnet_model.compile(optimizer=sgd, loss='categorical_crossentropy', metrics=['accuracy'])"
      ],
      "execution_count": null,
      "outputs": [
        {
          "output_type": "stream",
          "name": "stdout",
          "text": [
            "WARNING:tensorflow:From /tensorflow-1.15.2/python3.7/tensorflow_core/python/ops/resource_variable_ops.py:1630: calling BaseResourceVariable.__init__ (from tensorflow.python.ops.resource_variable_ops) with constraint is deprecated and will be removed in a future version.\n",
            "Instructions for updating:\n",
            "If using Keras pass *_constraint arguments to layers.\n",
            "WARNING:tensorflow:From /tensorflow-1.15.2/python3.7/keras/backend/tensorflow_backend.py:4070: The name tf.nn.max_pool is deprecated. Please use tf.nn.max_pool2d instead.\n",
            "\n",
            "WARNING:tensorflow:From /tensorflow-1.15.2/python3.7/keras/backend/tensorflow_backend.py:4074: The name tf.nn.avg_pool is deprecated. Please use tf.nn.avg_pool2d instead.\n",
            "\n",
            "Downloading data from https://github.com/rcmalli/keras-vggface/releases/download/v2.0/rcmalli_vggface_tf_notop_resnet50.h5\n",
            "94699520/94694792 [==============================] - 2s 0us/step\n"
          ]
        }
      ]
    },
    {
      "cell_type": "code",
      "metadata": {
        "outputId": "aef860ad-1ad9-4a51-dcd2-5f01b01eae25",
        "colab": {
          "base_uri": "https://localhost:8080/",
          "height": 1000
        },
        "id": "FjKyiyRyTOKf"
      },
      "source": [
        "history = resnet_model.fit_generator( generator = train_generator, validation_data=dev_generator, validation_steps=3509 // batch_size, steps_per_epoch=28709// batch_size, epochs=epochs, shuffle=True) "
      ],
      "execution_count": null,
      "outputs": [
        {
          "output_type": "stream",
          "text": [
            "WARNING:tensorflow:From /tensorflow-1.15.0/python3.6/tensorflow_core/python/ops/math_grad.py:1424: where (from tensorflow.python.ops.array_ops) is deprecated and will be removed in a future version.\n",
            "Instructions for updating:\n",
            "Use tf.where in 2.0, which has the same broadcast rule as np.where\n",
            "WARNING:tensorflow:From /usr/local/lib/python3.6/dist-packages/keras/backend/tensorflow_backend.py:1033: The name tf.assign_add is deprecated. Please use tf.compat.v1.assign_add instead.\n",
            "\n",
            "WARNING:tensorflow:From /usr/local/lib/python3.6/dist-packages/keras/backend/tensorflow_backend.py:1020: The name tf.assign is deprecated. Please use tf.compat.v1.assign instead.\n",
            "\n",
            "Epoch 1/100\n",
            "224/224 [==============================] - 264s 1s/step - loss: 3.0307 - acc: 0.3056 - val_loss: 1.3475 - val_acc: 0.5093\n",
            "Epoch 2/100\n",
            "224/224 [==============================] - 255s 1s/step - loss: 1.4237 - acc: 0.4558 - val_loss: 1.1940 - val_acc: 0.5665\n",
            "Epoch 3/100\n",
            "224/224 [==============================] - 252s 1s/step - loss: 1.3051 - acc: 0.5081 - val_loss: 1.1122 - val_acc: 0.5869\n",
            "Epoch 4/100\n",
            "224/224 [==============================] - 253s 1s/step - loss: 1.2342 - acc: 0.5373 - val_loss: 1.0782 - val_acc: 0.5929\n",
            "Epoch 5/100\n",
            "224/224 [==============================] - 253s 1s/step - loss: 1.1904 - acc: 0.5538 - val_loss: 1.0559 - val_acc: 0.6055\n",
            "Epoch 6/100\n",
            "224/224 [==============================] - 262s 1s/step - loss: 1.1502 - acc: 0.5674 - val_loss: 1.0280 - val_acc: 0.6175\n",
            "Epoch 7/100\n",
            "224/224 [==============================] - 268s 1s/step - loss: 1.1231 - acc: 0.5788 - val_loss: 1.0401 - val_acc: 0.6199\n",
            "Epoch 8/100\n",
            "224/224 [==============================] - 268s 1s/step - loss: 1.0945 - acc: 0.5887 - val_loss: 1.0129 - val_acc: 0.6322\n",
            "Epoch 9/100\n",
            "224/224 [==============================] - 265s 1s/step - loss: 1.0746 - acc: 0.5977 - val_loss: 1.0020 - val_acc: 0.6322\n",
            "Epoch 10/100\n",
            "224/224 [==============================] - 262s 1s/step - loss: 1.0497 - acc: 0.6030 - val_loss: 0.9763 - val_acc: 0.6415\n",
            "Epoch 11/100\n",
            "224/224 [==============================] - 257s 1s/step - loss: 1.0359 - acc: 0.6079 - val_loss: 0.9914 - val_acc: 0.6340\n",
            "Epoch 12/100\n",
            "224/224 [==============================] - 251s 1s/step - loss: 1.0236 - acc: 0.6164 - val_loss: 0.9723 - val_acc: 0.6385\n",
            "Epoch 13/100\n",
            "224/224 [==============================] - 248s 1s/step - loss: 0.9991 - acc: 0.6242 - val_loss: 0.9721 - val_acc: 0.6568\n",
            "Epoch 14/100\n",
            "224/224 [==============================] - 249s 1s/step - loss: 0.9878 - acc: 0.6316 - val_loss: 0.9484 - val_acc: 0.6535\n",
            "Epoch 15/100\n",
            "224/224 [==============================] - 250s 1s/step - loss: 0.9754 - acc: 0.6318 - val_loss: 0.9550 - val_acc: 0.6502\n",
            "Epoch 16/100\n",
            "224/224 [==============================] - 252s 1s/step - loss: 0.9711 - acc: 0.6342 - val_loss: 0.9669 - val_acc: 0.6496\n",
            "Epoch 17/100\n",
            "224/224 [==============================] - 256s 1s/step - loss: 0.9630 - acc: 0.6384 - val_loss: 0.9278 - val_acc: 0.6652\n",
            "Epoch 18/100\n",
            "224/224 [==============================] - 259s 1s/step - loss: 0.9425 - acc: 0.6484 - val_loss: 0.9613 - val_acc: 0.6481\n",
            "Epoch 19/100\n",
            "224/224 [==============================] - 265s 1s/step - loss: 0.9315 - acc: 0.6487 - val_loss: 0.9265 - val_acc: 0.6628\n",
            "Epoch 20/100\n",
            "224/224 [==============================] - 263s 1s/step - loss: 0.9185 - acc: 0.6554 - val_loss: 0.9403 - val_acc: 0.6589\n",
            "Epoch 21/100\n",
            "224/224 [==============================] - 262s 1s/step - loss: 0.9116 - acc: 0.6546 - val_loss: 0.9400 - val_acc: 0.6664\n",
            "Epoch 22/100\n",
            "224/224 [==============================] - 259s 1s/step - loss: 0.8979 - acc: 0.6619 - val_loss: 0.9314 - val_acc: 0.6646\n",
            "Epoch 23/100\n",
            "224/224 [==============================] - 261s 1s/step - loss: 0.8796 - acc: 0.6688 - val_loss: 0.9309 - val_acc: 0.6604\n",
            "Epoch 24/100\n",
            "224/224 [==============================] - 262s 1s/step - loss: 0.8941 - acc: 0.6641 - val_loss: 0.9297 - val_acc: 0.6697\n",
            "Epoch 25/100\n",
            "224/224 [==============================] - 264s 1s/step - loss: 0.8785 - acc: 0.6710 - val_loss: 0.9161 - val_acc: 0.6628\n",
            "Epoch 26/100\n",
            "224/224 [==============================] - 265s 1s/step - loss: 0.8641 - acc: 0.6742 - val_loss: 0.9165 - val_acc: 0.6712\n",
            "Epoch 27/100\n",
            "224/224 [==============================] - 263s 1s/step - loss: 0.8610 - acc: 0.6754 - val_loss: 0.9058 - val_acc: 0.6847\n",
            "Epoch 28/100\n",
            "224/224 [==============================] - 262s 1s/step - loss: 0.8579 - acc: 0.6742 - val_loss: 0.9052 - val_acc: 0.6709\n",
            "Epoch 29/100\n",
            "224/224 [==============================] - 264s 1s/step - loss: 0.8476 - acc: 0.6798 - val_loss: 0.9128 - val_acc: 0.6715\n",
            "Epoch 30/100\n",
            "224/224 [==============================] - 263s 1s/step - loss: 0.8371 - acc: 0.6855 - val_loss: 0.9003 - val_acc: 0.6806\n",
            "Epoch 31/100\n",
            "224/224 [==============================] - 258s 1s/step - loss: 0.8240 - acc: 0.6875 - val_loss: 0.9016 - val_acc: 0.6718\n",
            "Epoch 32/100\n",
            "224/224 [==============================] - 251s 1s/step - loss: 0.8181 - acc: 0.6900 - val_loss: 0.8988 - val_acc: 0.6802\n",
            "Epoch 33/100\n",
            "224/224 [==============================] - 248s 1s/step - loss: 0.8095 - acc: 0.6943 - val_loss: 0.8845 - val_acc: 0.6844\n",
            "Epoch 34/100\n",
            "224/224 [==============================] - 248s 1s/step - loss: 0.8074 - acc: 0.6950 - val_loss: 0.8790 - val_acc: 0.6883\n",
            "Epoch 35/100\n",
            "224/224 [==============================] - 247s 1s/step - loss: 0.7967 - acc: 0.7007 - val_loss: 0.9014 - val_acc: 0.6874\n",
            "Epoch 36/100\n",
            "224/224 [==============================] - 257s 1s/step - loss: 0.7953 - acc: 0.6977 - val_loss: 0.8860 - val_acc: 0.6898\n",
            "Epoch 37/100\n",
            "224/224 [==============================] - 254s 1s/step - loss: 0.7827 - acc: 0.7031 - val_loss: 0.8788 - val_acc: 0.6853\n",
            "Epoch 38/100\n",
            "224/224 [==============================] - 252s 1s/step - loss: 0.7796 - acc: 0.7078 - val_loss: 0.8690 - val_acc: 0.6877\n",
            "Epoch 39/100\n",
            "224/224 [==============================] - 262s 1s/step - loss: 0.7675 - acc: 0.7125 - val_loss: 0.8982 - val_acc: 0.6913\n",
            "Epoch 40/100\n",
            "224/224 [==============================] - 274s 1s/step - loss: 0.7690 - acc: 0.7085 - val_loss: 0.8843 - val_acc: 0.6883\n",
            "Epoch 41/100\n",
            "224/224 [==============================] - 268s 1s/step - loss: 0.7595 - acc: 0.7159 - val_loss: 0.8569 - val_acc: 0.6943\n",
            "Epoch 42/100\n",
            "224/224 [==============================] - 270s 1s/step - loss: 0.7591 - acc: 0.7132 - val_loss: 0.8915 - val_acc: 0.6901\n",
            "Epoch 43/100\n",
            "224/224 [==============================] - 272s 1s/step - loss: 0.7511 - acc: 0.7168 - val_loss: 0.8575 - val_acc: 0.6931\n",
            "Epoch 44/100\n",
            "224/224 [==============================] - 271s 1s/step - loss: 0.7498 - acc: 0.7142 - val_loss: 0.8680 - val_acc: 0.6907\n",
            "Epoch 45/100\n",
            "224/224 [==============================] - 272s 1s/step - loss: 0.7331 - acc: 0.7236 - val_loss: 0.8696 - val_acc: 0.6955\n",
            "Epoch 46/100\n",
            "224/224 [==============================] - 273s 1s/step - loss: 0.7287 - acc: 0.7226 - val_loss: 0.8712 - val_acc: 0.7006\n",
            "Epoch 47/100\n",
            "224/224 [==============================] - 274s 1s/step - loss: 0.7248 - acc: 0.7242 - val_loss: 0.8549 - val_acc: 0.6979\n",
            "Epoch 48/100\n",
            "224/224 [==============================] - 273s 1s/step - loss: 0.7198 - acc: 0.7287 - val_loss: 0.8748 - val_acc: 0.6916\n",
            "Epoch 49/100\n",
            "224/224 [==============================] - 274s 1s/step - loss: 0.7099 - acc: 0.7303 - val_loss: 0.8584 - val_acc: 0.6970\n",
            "Epoch 50/100\n",
            "224/224 [==============================] - 275s 1s/step - loss: 0.7097 - acc: 0.7316 - val_loss: 0.8558 - val_acc: 0.7021\n",
            "Epoch 51/100\n",
            "224/224 [==============================] - 274s 1s/step - loss: 0.7040 - acc: 0.7356 - val_loss: 0.8778 - val_acc: 0.6904\n",
            "Epoch 52/100\n",
            "224/224 [==============================] - 274s 1s/step - loss: 0.6876 - acc: 0.7393 - val_loss: 0.8625 - val_acc: 0.7000\n",
            "Epoch 53/100\n",
            "224/224 [==============================] - 278s 1s/step - loss: 0.6995 - acc: 0.7350 - val_loss: 0.8466 - val_acc: 0.7078\n",
            "Epoch 54/100\n",
            "224/224 [==============================] - 276s 1s/step - loss: 0.6813 - acc: 0.7393 - val_loss: 0.8658 - val_acc: 0.6991\n",
            "Epoch 55/100\n",
            "224/224 [==============================] - 274s 1s/step - loss: 0.6802 - acc: 0.7424 - val_loss: 0.8380 - val_acc: 0.7099\n",
            "Epoch 56/100\n",
            "224/224 [==============================] - 272s 1s/step - loss: 0.6724 - acc: 0.7447 - val_loss: 0.8540 - val_acc: 0.7132\n",
            "Epoch 57/100\n",
            "224/224 [==============================] - 273s 1s/step - loss: 0.6712 - acc: 0.7457 - val_loss: 0.8629 - val_acc: 0.6961\n",
            "Epoch 58/100\n",
            "224/224 [==============================] - 272s 1s/step - loss: 0.6647 - acc: 0.7498 - val_loss: 0.8555 - val_acc: 0.7048\n",
            "Epoch 59/100\n",
            "224/224 [==============================] - 273s 1s/step - loss: 0.6669 - acc: 0.7504 - val_loss: 0.8533 - val_acc: 0.7049\n",
            "Epoch 60/100\n",
            "224/224 [==============================] - 275s 1s/step - loss: 0.6603 - acc: 0.7474 - val_loss: 0.8493 - val_acc: 0.7054\n",
            "Epoch 61/100\n",
            "224/224 [==============================] - 273s 1s/step - loss: 0.6549 - acc: 0.7538 - val_loss: 0.8557 - val_acc: 0.7081\n",
            "Epoch 62/100\n",
            "224/224 [==============================] - 275s 1s/step - loss: 0.6442 - acc: 0.7571 - val_loss: 0.8458 - val_acc: 0.7081\n",
            "Epoch 63/100\n",
            "224/224 [==============================] - 277s 1s/step - loss: 0.6429 - acc: 0.7554 - val_loss: 0.8509 - val_acc: 0.7129\n",
            "Epoch 64/100\n",
            "224/224 [==============================] - 278s 1s/step - loss: 0.6356 - acc: 0.7601 - val_loss: 0.8548 - val_acc: 0.7003\n",
            "Epoch 65/100\n",
            "224/224 [==============================] - 276s 1s/step - loss: 0.6273 - acc: 0.7616 - val_loss: 0.8476 - val_acc: 0.7078\n",
            "Epoch 66/100\n",
            "224/224 [==============================] - 275s 1s/step - loss: 0.6199 - acc: 0.7670 - val_loss: 0.8439 - val_acc: 0.7177\n",
            "Epoch 67/100\n",
            "224/224 [==============================] - 278s 1s/step - loss: 0.6195 - acc: 0.7618 - val_loss: 0.8620 - val_acc: 0.7084\n",
            "Epoch 68/100\n",
            "224/224 [==============================] - 279s 1s/step - loss: 0.6112 - acc: 0.7695 - val_loss: 0.8562 - val_acc: 0.7081\n",
            "Epoch 69/100\n",
            "224/224 [==============================] - 278s 1s/step - loss: 0.6077 - acc: 0.7686 - val_loss: 0.8385 - val_acc: 0.7162\n",
            "Epoch 70/100\n",
            "224/224 [==============================] - 275s 1s/step - loss: 0.6049 - acc: 0.7696 - val_loss: 0.8461 - val_acc: 0.7102\n",
            "Epoch 71/100\n",
            "224/224 [==============================] - 274s 1s/step - loss: 0.5964 - acc: 0.7723 - val_loss: 0.8294 - val_acc: 0.7189\n",
            "Epoch 72/100\n",
            "224/224 [==============================] - 274s 1s/step - loss: 0.6086 - acc: 0.7696 - val_loss: 0.8550 - val_acc: 0.7084\n",
            "Epoch 73/100\n",
            "224/224 [==============================] - 271s 1s/step - loss: 0.5938 - acc: 0.7765 - val_loss: 0.8424 - val_acc: 0.7112\n",
            "Epoch 74/100\n",
            "224/224 [==============================] - 273s 1s/step - loss: 0.5877 - acc: 0.7788 - val_loss: 0.8511 - val_acc: 0.7081\n",
            "Epoch 75/100\n",
            "224/224 [==============================] - 273s 1s/step - loss: 0.5766 - acc: 0.7823 - val_loss: 0.8324 - val_acc: 0.7162\n",
            "Epoch 76/100\n",
            "224/224 [==============================] - 272s 1s/step - loss: 0.5801 - acc: 0.7815 - val_loss: 0.8459 - val_acc: 0.7084\n",
            "Epoch 77/100\n",
            "224/224 [==============================] - 274s 1s/step - loss: 0.5754 - acc: 0.7845 - val_loss: 0.8471 - val_acc: 0.7168\n",
            "Epoch 78/100\n",
            "224/224 [==============================] - 272s 1s/step - loss: 0.5746 - acc: 0.7846 - val_loss: 0.8631 - val_acc: 0.7057\n",
            "Epoch 79/100\n",
            "224/224 [==============================] - 274s 1s/step - loss: 0.5646 - acc: 0.7886 - val_loss: 0.8459 - val_acc: 0.7198\n",
            "Epoch 80/100\n",
            "224/224 [==============================] - 276s 1s/step - loss: 0.5736 - acc: 0.7825 - val_loss: 0.8329 - val_acc: 0.7129\n",
            "Epoch 81/100\n",
            "224/224 [==============================] - 274s 1s/step - loss: 0.5647 - acc: 0.7886 - val_loss: 0.8497 - val_acc: 0.7045\n",
            "Epoch 82/100\n",
            "224/224 [==============================] - 272s 1s/step - loss: 0.5554 - acc: 0.7896 - val_loss: 0.8637 - val_acc: 0.7081\n",
            "Epoch 83/100\n",
            "224/224 [==============================] - 272s 1s/step - loss: 0.5547 - acc: 0.7900 - val_loss: 0.8403 - val_acc: 0.7168\n",
            "Epoch 84/100\n",
            "224/224 [==============================] - 273s 1s/step - loss: 0.5368 - acc: 0.7972 - val_loss: 0.8346 - val_acc: 0.7105\n",
            "Epoch 85/100\n",
            "224/224 [==============================] - 272s 1s/step - loss: 0.5431 - acc: 0.7951 - val_loss: 0.8689 - val_acc: 0.7081\n",
            "Epoch 86/100\n",
            "224/224 [==============================] - 263s 1s/step - loss: 0.5426 - acc: 0.7951 - val_loss: 0.8410 - val_acc: 0.7099\n",
            "Epoch 87/100\n",
            "224/224 [==============================] - 272s 1s/step - loss: 0.5363 - acc: 0.7980 - val_loss: 0.8499 - val_acc: 0.7051\n",
            "Epoch 88/100\n",
            "224/224 [==============================] - 271s 1s/step - loss: 0.5384 - acc: 0.7973 - val_loss: 0.8440 - val_acc: 0.7098\n",
            "Epoch 89/100\n",
            "224/224 [==============================] - 271s 1s/step - loss: 0.5316 - acc: 0.7984 - val_loss: 0.8539 - val_acc: 0.7069\n",
            "\n",
            "Epoch 00089: ReduceLROnPlateau reducing learning rate to 0.004999999888241291.\n",
            "Epoch 90/100\n",
            "224/224 [==============================] - 270s 1s/step - loss: 0.5222 - acc: 0.8035 - val_loss: 0.8488 - val_acc: 0.7144\n",
            "Epoch 91/100\n",
            "224/224 [==============================] - 271s 1s/step - loss: 0.5190 - acc: 0.8029 - val_loss: 0.8432 - val_acc: 0.7117\n",
            "Epoch 92/100\n",
            "224/224 [==============================] - 273s 1s/step - loss: 0.5137 - acc: 0.8047 - val_loss: 0.8529 - val_acc: 0.7129\n",
            "Epoch 93/100\n",
            "224/224 [==============================] - 273s 1s/step - loss: 0.5114 - acc: 0.8106 - val_loss: 0.8369 - val_acc: 0.7126\n",
            "Epoch 94/100\n",
            "224/224 [==============================] - 272s 1s/step - loss: 0.5028 - acc: 0.8103 - val_loss: 0.8724 - val_acc: 0.7126\n",
            "Epoch 95/100\n",
            "224/224 [==============================] - 273s 1s/step - loss: 0.4967 - acc: 0.8140 - val_loss: 0.8617 - val_acc: 0.7033\n",
            "Epoch 96/100\n",
            "224/224 [==============================] - 274s 1s/step - loss: 0.5058 - acc: 0.8088 - val_loss: 0.8249 - val_acc: 0.7213\n",
            "Epoch 97/100\n",
            "224/224 [==============================] - 272s 1s/step - loss: 0.4964 - acc: 0.8122 - val_loss: 0.8640 - val_acc: 0.7048\n",
            "Epoch 98/100\n",
            "224/224 [==============================] - 271s 1s/step - loss: 0.5070 - acc: 0.8098 - val_loss: 0.8378 - val_acc: 0.7156\n",
            "Epoch 99/100\n",
            "224/224 [==============================] - 271s 1s/step - loss: 0.4948 - acc: 0.8145 - val_loss: 0.8635 - val_acc: 0.7087\n",
            "Epoch 100/100\n",
            "224/224 [==============================] - 274s 1s/step - loss: 0.4856 - acc: 0.8166 - val_loss: 0.8355 - val_acc: 0.7192\n"
          ],
          "name": "stdout"
        }
      ]
    },
    {
      "cell_type": "code",
      "metadata": {
        "id": "JSSv08SHF0bC",
        "outputId": "fcbf1deb-f88a-4795-f537-c300778b8e4e",
        "colab": {
          "base_uri": "https://localhost:8080/",
          "height": 71
        }
      },
      "source": [
        "print('\\n# Evaluate on dev data')\n",
        "results_dev = resnet_model.evaluate_generator(dev_generator, 3509 // batch_size)\n",
        "print('dev loss, dev acc:', results_dev)"
      ],
      "execution_count": null,
      "outputs": [
        {
          "output_type": "stream",
          "text": [
            "\n",
            "# Evaluate on dev data\n",
            "dev loss, dev acc: [0.8601535028881497, 0.7106481481481481]\n"
          ],
          "name": "stdout"
        }
      ]
    },
    {
      "cell_type": "code",
      "metadata": {
        "id": "Ev4sDYDlOsqk",
        "outputId": "ce1e70b2-5c49-40e3-9305-d997ae154638",
        "colab": {
          "base_uri": "https://localhost:8080/",
          "height": 71
        }
      },
      "source": [
        "print('\\n# Evaluate on test data')\n",
        "results_test = resnet_model.evaluate_generator(test_generator, 3509 // batch_size)\n",
        "print('test loss, test acc:', results_test)"
      ],
      "execution_count": null,
      "outputs": [
        {
          "output_type": "stream",
          "text": [
            "\n",
            "# Evaluate on test data\n",
            "test loss, test acc: [0.7965417526386402, 0.7265625]\n"
          ],
          "name": "stdout"
        }
      ]
    },
    {
      "cell_type": "code",
      "metadata": {
        "id": "m9f7smhHUQus",
        "outputId": "637b9233-f0e1-429f-f631-5a15a24c1c6a",
        "colab": {
          "base_uri": "https://localhost:8080/",
          "height": 591
        }
      },
      "source": [
        "# list all data in history\n",
        "print(history.history.keys())\n",
        "\n",
        "plt.plot(history.history['acc'])\n",
        "plt.plot(history.history['val_acc'])\n",
        "plt.title('model accuracy')\n",
        "plt.ylabel('accuracy')\n",
        "plt.xlabel('epoch')\n",
        "plt.legend(['train', 'dev'], loc='upper left')\n",
        "plt.show()\n",
        "\n",
        "plt.plot(history.history['loss'])\n",
        "plt.plot(history.history['val_loss'])\n",
        "plt.title('model loss')\n",
        "plt.ylabel('loss')\n",
        "plt.xlabel('epoch')\n",
        "plt.legend(['train', 'dev'], loc='upper left')\n",
        "plt.show()"
      ],
      "execution_count": null,
      "outputs": [
        {
          "output_type": "stream",
          "text": [
            "dict_keys(['val_loss', 'val_acc', 'loss', 'acc', 'lr'])\n"
          ],
          "name": "stdout"
        },
        {
          "output_type": "display_data",
          "data": {
            "image/png": "[encoded data removed]",
            "text/plain": [
              "<Figure size 432x288 with 1 Axes>"
            ]
          },
          "metadata": {
            "tags": []
          }
        },
        {
          "output_type": "display_data",
          "data": {
            "image/png": "[encoded data removed]",
            "text/plain": [
              "<Figure size 432x288 with 1 Axes>"
            ]
          },
          "metadata": {
            "tags": []
          }
        }
      ]
    },
    {
      "cell_type": "markdown",
      "source": [
        "##### Using Class Weights"
      ],
      "metadata": {
        "id": "hFkPta7Ps0-t"
      }
    },
    {
      "cell_type": "code",
      "metadata": {
        "id": "2pPTatHrtJ3v"
      },
      "source": [
        "epochs = 50\n",
        "batch_size = 128\n",
        "dropout_rate = 0.5\n",
        "FROZEN_LAYER_NUM = 170\n",
        "\n",
        "ADAM_LEARNING_RATE = 0.001\n",
        "lr = 0.01\n",
        "decay = 0.0001\n",
        "\n",
        "Resize_pixelsize = 197"
      ],
      "execution_count": null,
      "outputs": []
    },
    {
      "cell_type": "code",
      "metadata": {
        "outputId": "adc17a95-2f3e-4b71-a336-abb760b59f94",
        "colab": {
          "base_uri": "https://localhost:8080/",
          "height": 667
        },
        "id": "Mt1Fkb21tJ3v"
      },
      "source": [
        "vgg_notop = VGGFace(model='resnet50', include_top=False, input_shape=(Resize_pixelsize, Resize_pixelsize, 3), pooling='avg')\n",
        "last_layer = vgg_notop.get_layer('avg_pool').output\n",
        "x = Flatten(name='flatten')(last_layer)\n",
        "x = Dropout(dropout_rate)(x)\n",
        "x = Dense(4096, activation='relu', name='fc6')(x)\n",
        "x = Dropout(dropout_rate)(x)\n",
        "x = Dense(1024, activation='relu', name='fc7')(x)\n",
        "x = Dropout(dropout_rate)(x)\n",
        "    \n",
        "batch_norm_indices = [2, 6, 9, 13, 14, 18, 21, 24, 28, 31, 34, 38, 41, 45, 46, 53, 56, 60, 63, 66, 70, 73, 76, 80, 83, 87, 88, 92, 95, 98, 102, 105, 108, 112, 115, 118, 122, 125, 128, 132, 135, 138, 142, 145, 149, 150, 154, 157, 160, 164, 167, 170]\n",
        "for i in range(FROZEN_LAYER_NUM):\n",
        "    if i not in batch_norm_indices:\n",
        "        vgg_notop.layers[i].trainable = False\n",
        "\n",
        "out = Dense(7, activation='softmax', name='classifier')(x)\n",
        "\n",
        "resnet_model_cweights = Model(vgg_notop.input, out)\n",
        "\n",
        "sgd = keras.optimizers.SGD(lr=lr, momentum=0.9, decay=decay, nesterov=True)\n",
        "resnet_model_cweights.compile(optimizer=sgd, loss='categorical_crossentropy', metrics=['accuracy'])"
      ],
      "execution_count": null,
      "outputs": [
        {
          "output_type": "stream",
          "text": [
            "WARNING:tensorflow:From /usr/local/lib/python3.6/dist-packages/keras/backend/tensorflow_backend.py:66: The name tf.get_default_graph is deprecated. Please use tf.compat.v1.get_default_graph instead.\n",
            "\n",
            "WARNING:tensorflow:From /usr/local/lib/python3.6/dist-packages/keras/backend/tensorflow_backend.py:541: The name tf.placeholder is deprecated. Please use tf.compat.v1.placeholder instead.\n",
            "\n",
            "WARNING:tensorflow:From /usr/local/lib/python3.6/dist-packages/keras/backend/tensorflow_backend.py:4432: The name tf.random_uniform is deprecated. Please use tf.random.uniform instead.\n",
            "\n",
            "WARNING:tensorflow:From /usr/local/lib/python3.6/dist-packages/keras/backend/tensorflow_backend.py:190: The name tf.get_default_session is deprecated. Please use tf.compat.v1.get_default_session instead.\n",
            "\n",
            "WARNING:tensorflow:From /usr/local/lib/python3.6/dist-packages/keras/backend/tensorflow_backend.py:197: The name tf.ConfigProto is deprecated. Please use tf.compat.v1.ConfigProto instead.\n",
            "\n",
            "WARNING:tensorflow:From /usr/local/lib/python3.6/dist-packages/keras/backend/tensorflow_backend.py:203: The name tf.Session is deprecated. Please use tf.compat.v1.Session instead.\n",
            "\n",
            "WARNING:tensorflow:From /usr/local/lib/python3.6/dist-packages/keras/backend/tensorflow_backend.py:207: The name tf.global_variables is deprecated. Please use tf.compat.v1.global_variables instead.\n",
            "\n",
            "WARNING:tensorflow:From /usr/local/lib/python3.6/dist-packages/keras/backend/tensorflow_backend.py:216: The name tf.is_variable_initialized is deprecated. Please use tf.compat.v1.is_variable_initialized instead.\n",
            "\n",
            "WARNING:tensorflow:From /usr/local/lib/python3.6/dist-packages/keras/backend/tensorflow_backend.py:223: The name tf.variables_initializer is deprecated. Please use tf.compat.v1.variables_initializer instead.\n",
            "\n",
            "WARNING:tensorflow:From /usr/local/lib/python3.6/dist-packages/keras/backend/tensorflow_backend.py:2041: The name tf.nn.fused_batch_norm is deprecated. Please use tf.compat.v1.nn.fused_batch_norm instead.\n",
            "\n",
            "WARNING:tensorflow:From /usr/local/lib/python3.6/dist-packages/keras/backend/tensorflow_backend.py:148: The name tf.placeholder_with_default is deprecated. Please use tf.compat.v1.placeholder_with_default instead.\n",
            "\n",
            "WARNING:tensorflow:From /usr/local/lib/python3.6/dist-packages/keras/backend/tensorflow_backend.py:4267: The name tf.nn.max_pool is deprecated. Please use tf.nn.max_pool2d instead.\n",
            "\n",
            "WARNING:tensorflow:From /usr/local/lib/python3.6/dist-packages/keras/backend/tensorflow_backend.py:4271: The name tf.nn.avg_pool is deprecated. Please use tf.nn.avg_pool2d instead.\n",
            "\n",
            "Downloading data from https://github.com/rcmalli/keras-vggface/releases/download/v2.0/rcmalli_vggface_tf_notop_resnet50.h5\n",
            "94699520/94694792 [==============================] - 1s 0us/step\n",
            "WARNING:tensorflow:From /usr/local/lib/python3.6/dist-packages/keras/backend/tensorflow_backend.py:3733: calling dropout (from tensorflow.python.ops.nn_ops) with keep_prob is deprecated and will be removed in a future version.\n",
            "Instructions for updating:\n",
            "Please use `rate` instead of `keep_prob`. Rate should be set to `rate = 1 - keep_prob`.\n",
            "WARNING:tensorflow:From /usr/local/lib/python3.6/dist-packages/keras/optimizers.py:793: The name tf.train.Optimizer is deprecated. Please use tf.compat.v1.train.Optimizer instead.\n",
            "\n",
            "WARNING:tensorflow:From /usr/local/lib/python3.6/dist-packages/keras/backend/tensorflow_backend.py:3576: The name tf.log is deprecated. Please use tf.math.log instead.\n",
            "\n"
          ],
          "name": "stdout"
        }
      ]
    },
    {
      "cell_type": "code",
      "metadata": {
        "id": "GyHmZ5GRBdRl"
      },
      "source": [
        "from sklearn.utils import class_weight\n",
        "file_stream = file_io.FileIO('/content/drive/My Drive/cs230 project/collab/fer2013/dev.csv', mode='r')\n",
        "data = pd.read_csv(file_stream)\n",
        "data[' pixels'] = data[' pixels'].apply(lambda x: [int(pixel) for pixel in x.split()])\n",
        "X, Y = data[' pixels'].tolist(), data['emotion'].values\n",
        "class_weights = class_weight.compute_class_weight('balanced',\n",
        "                                                    np.unique(Y),\n",
        "                                                    Y)\n"
      ],
      "execution_count": null,
      "outputs": []
    },
    {
      "cell_type": "code",
      "metadata": {
        "id": "pLISdlaStbUn",
        "outputId": "5d0ba7d9-de13-41c8-ac76-841892d3ddec",
        "colab": {
          "base_uri": "https://localhost:8080/",
          "height": 1000
        }
      },
      "source": [
        "history = resnet_model_cweights.fit_generator( generator = train_generator, validation_data=dev_generator, steps_per_epoch=28709// batch_size, validation_steps=3509 // batch_size, shuffle=True, epochs=epochs, class_weight=class_weights ) "
      ],
      "execution_count": null,
      "outputs": [
        {
          "output_type": "stream",
          "text": [
            "WARNING:tensorflow:From /tensorflow-1.15.0/python3.6/tensorflow_core/python/ops/math_grad.py:1424: where (from tensorflow.python.ops.array_ops) is deprecated and will be removed in a future version.\n",
            "Instructions for updating:\n",
            "Use tf.where in 2.0, which has the same broadcast rule as np.where\n",
            "WARNING:tensorflow:From /usr/local/lib/python3.6/dist-packages/keras/backend/tensorflow_backend.py:1033: The name tf.assign_add is deprecated. Please use tf.compat.v1.assign_add instead.\n",
            "\n",
            "WARNING:tensorflow:From /usr/local/lib/python3.6/dist-packages/keras/backend/tensorflow_backend.py:1020: The name tf.assign is deprecated. Please use tf.compat.v1.assign instead.\n",
            "\n",
            "Epoch 1/100\n",
            "224/224 [==============================] - 289s 1s/step - loss: 1.9871 - acc: 0.3442 - val_loss: 1.3152 - val_acc: 0.5000\n",
            "Epoch 2/100\n",
            "224/224 [==============================] - 281s 1s/step - loss: 1.3912 - acc: 0.4737 - val_loss: 1.1570 - val_acc: 0.5734\n",
            "Epoch 3/100\n",
            "224/224 [==============================] - 280s 1s/step - loss: 1.2821 - acc: 0.5175 - val_loss: 1.1171 - val_acc: 0.5929\n",
            "Epoch 4/100\n",
            "224/224 [==============================] - 282s 1s/step - loss: 1.2177 - acc: 0.5430 - val_loss: 1.0938 - val_acc: 0.5875\n",
            "Epoch 5/100\n",
            "224/224 [==============================] - 282s 1s/step - loss: 1.1654 - acc: 0.5644 - val_loss: 1.0511 - val_acc: 0.6157\n",
            "Epoch 6/100\n",
            "224/224 [==============================] - 282s 1s/step - loss: 1.1429 - acc: 0.5725 - val_loss: 1.0393 - val_acc: 0.6109\n",
            "Epoch 7/100\n",
            "224/224 [==============================] - 282s 1s/step - loss: 1.1071 - acc: 0.5876 - val_loss: 0.9923 - val_acc: 0.6436\n",
            "Epoch 8/100\n",
            "224/224 [==============================] - 280s 1s/step - loss: 1.0827 - acc: 0.5932 - val_loss: 1.0189 - val_acc: 0.6133\n",
            "Epoch 9/100\n",
            "224/224 [==============================] - 279s 1s/step - loss: 1.0675 - acc: 0.6012 - val_loss: 1.0019 - val_acc: 0.6307\n",
            "Epoch 10/100\n",
            "224/224 [==============================] - 278s 1s/step - loss: 1.0491 - acc: 0.6073 - val_loss: 0.9926 - val_acc: 0.6280\n",
            "Epoch 11/100\n",
            "224/224 [==============================] - 279s 1s/step - loss: 1.0260 - acc: 0.6191 - val_loss: 0.9909 - val_acc: 0.6415\n",
            "Epoch 12/100\n",
            "224/224 [==============================] - 278s 1s/step - loss: 1.0007 - acc: 0.6255 - val_loss: 0.9617 - val_acc: 0.6454\n",
            "Epoch 13/100\n",
            "224/224 [==============================] - 280s 1s/step - loss: 1.0014 - acc: 0.6217 - val_loss: 0.9729 - val_acc: 0.6430\n",
            "Epoch 14/100\n",
            "224/224 [==============================] - 282s 1s/step - loss: 0.9813 - acc: 0.6301 - val_loss: 0.9580 - val_acc: 0.6565\n",
            "Epoch 15/100\n",
            "224/224 [==============================] - 280s 1s/step - loss: 0.9704 - acc: 0.6370 - val_loss: 0.9397 - val_acc: 0.6568\n",
            "Epoch 16/100\n",
            "224/224 [==============================] - 282s 1s/step - loss: 0.9533 - acc: 0.6405 - val_loss: 0.9551 - val_acc: 0.6529\n",
            "Epoch 17/100\n",
            "224/224 [==============================] - 281s 1s/step - loss: 0.9444 - acc: 0.6457 - val_loss: 0.9366 - val_acc: 0.6649\n",
            "Epoch 18/100\n",
            "224/224 [==============================] - 280s 1s/step - loss: 0.9392 - acc: 0.6470 - val_loss: 0.9596 - val_acc: 0.6613\n",
            "Epoch 19/100\n",
            "224/224 [==============================] - 281s 1s/step - loss: 0.9202 - acc: 0.6538 - val_loss: 0.9261 - val_acc: 0.6718\n",
            "Epoch 20/100\n",
            "224/224 [==============================] - 280s 1s/step - loss: 0.9140 - acc: 0.6563 - val_loss: 0.9377 - val_acc: 0.6739\n",
            "Epoch 21/100\n",
            "224/224 [==============================] - 277s 1s/step - loss: 0.9005 - acc: 0.6605 - val_loss: 0.9302 - val_acc: 0.6724\n",
            "Epoch 22/100\n",
            "224/224 [==============================] - 278s 1s/step - loss: 0.8908 - acc: 0.6669 - val_loss: 0.9090 - val_acc: 0.6817\n",
            "Epoch 23/100\n",
            "224/224 [==============================] - 277s 1s/step - loss: 0.8845 - acc: 0.6653 - val_loss: 0.9169 - val_acc: 0.6862\n",
            "Epoch 24/100\n",
            "224/224 [==============================] - 280s 1s/step - loss: 0.8817 - acc: 0.6684 - val_loss: 0.9086 - val_acc: 0.6751\n",
            "Epoch 25/100\n",
            "224/224 [==============================] - 279s 1s/step - loss: 0.8605 - acc: 0.6774 - val_loss: 0.9265 - val_acc: 0.6676\n",
            "Epoch 26/100\n",
            "224/224 [==============================] - 279s 1s/step - loss: 0.8529 - acc: 0.6745 - val_loss: 0.8938 - val_acc: 0.6793\n",
            "Epoch 27/100\n",
            "224/224 [==============================] - 280s 1s/step - loss: 0.8593 - acc: 0.6747 - val_loss: 0.9198 - val_acc: 0.6844\n",
            "Epoch 28/100\n",
            "224/224 [==============================] - 280s 1s/step - loss: 0.8387 - acc: 0.6862 - val_loss: 0.8847 - val_acc: 0.6832\n",
            "Epoch 29/100\n",
            "224/224 [==============================] - 281s 1s/step - loss: 0.8432 - acc: 0.6801 - val_loss: 0.8986 - val_acc: 0.6838\n",
            "Epoch 30/100\n",
            "224/224 [==============================] - 280s 1s/step - loss: 0.8255 - acc: 0.6892 - val_loss: 0.8989 - val_acc: 0.6887\n",
            "Epoch 31/100\n",
            "224/224 [==============================] - 280s 1s/step - loss: 0.8197 - acc: 0.6911 - val_loss: 0.8900 - val_acc: 0.6889\n",
            "Epoch 32/100\n",
            "224/224 [==============================] - 280s 1s/step - loss: 0.8105 - acc: 0.6934 - val_loss: 0.8953 - val_acc: 0.6847\n",
            "Epoch 33/100\n",
            "224/224 [==============================] - 280s 1s/step - loss: 0.8032 - acc: 0.6941 - val_loss: 0.8849 - val_acc: 0.6910\n",
            "Epoch 34/100\n",
            "224/224 [==============================] - 282s 1s/step - loss: 0.7928 - acc: 0.6987 - val_loss: 0.8827 - val_acc: 0.6928\n",
            "Epoch 35/100\n",
            "224/224 [==============================] - 278s 1s/step - loss: 0.7902 - acc: 0.7005 - val_loss: 0.8751 - val_acc: 0.6946\n",
            "Epoch 36/100\n",
            "224/224 [==============================] - 279s 1s/step - loss: 0.7901 - acc: 0.7018 - val_loss: 0.8858 - val_acc: 0.6880\n",
            "Epoch 37/100\n",
            "224/224 [==============================] - 279s 1s/step - loss: 0.7774 - acc: 0.7038 - val_loss: 0.8921 - val_acc: 0.6808\n",
            "Epoch 38/100\n",
            "224/224 [==============================] - 281s 1s/step - loss: 0.7641 - acc: 0.7132 - val_loss: 0.8814 - val_acc: 0.6826\n",
            "Epoch 39/100\n",
            "224/224 [==============================] - 280s 1s/step - loss: 0.7625 - acc: 0.7115 - val_loss: 0.8738 - val_acc: 0.6916\n",
            "Epoch 40/100\n",
            "224/224 [==============================] - 280s 1s/step - loss: 0.7493 - acc: 0.7169 - val_loss: 0.8792 - val_acc: 0.6907\n",
            "Epoch 41/100\n",
            "224/224 [==============================] - 282s 1s/step - loss: 0.7542 - acc: 0.7146 - val_loss: 0.8715 - val_acc: 0.6895\n",
            "Epoch 42/100\n",
            "224/224 [==============================] - 282s 1s/step - loss: 0.7382 - acc: 0.7205 - val_loss: 0.8793 - val_acc: 0.6895\n",
            "Epoch 43/100\n",
            "224/224 [==============================] - 281s 1s/step - loss: 0.7424 - acc: 0.7191 - val_loss: 0.8676 - val_acc: 0.7036\n",
            "Epoch 44/100\n",
            "224/224 [==============================] - 278s 1s/step - loss: 0.7319 - acc: 0.7229 - val_loss: 0.8709 - val_acc: 0.6942\n",
            "Epoch 45/100\n",
            "224/224 [==============================] - 276s 1s/step - loss: 0.7245 - acc: 0.7262 - val_loss: 0.8689 - val_acc: 0.6943\n",
            "Epoch 46/100\n",
            "224/224 [==============================] - 275s 1s/step - loss: 0.7240 - acc: 0.7252 - val_loss: 0.8644 - val_acc: 0.7000\n",
            "Epoch 47/100\n",
            "224/224 [==============================] - 276s 1s/step - loss: 0.7104 - acc: 0.7337 - val_loss: 0.8557 - val_acc: 0.6976\n",
            "Epoch 48/100\n",
            "224/224 [==============================] - 279s 1s/step - loss: 0.7067 - acc: 0.7322 - val_loss: 0.8853 - val_acc: 0.6976\n",
            "Epoch 49/100\n",
            "224/224 [==============================] - 281s 1s/step - loss: 0.6943 - acc: 0.7370 - val_loss: 0.8441 - val_acc: 0.7063\n",
            "Epoch 50/100\n",
            "224/224 [==============================] - 281s 1s/step - loss: 0.6936 - acc: 0.7368 - val_loss: 0.8653 - val_acc: 0.7006\n",
            "Epoch 51/100\n",
            "224/224 [==============================] - 280s 1s/step - loss: 0.6930 - acc: 0.7376 - val_loss: 0.8680 - val_acc: 0.7090\n",
            "Epoch 52/100\n",
            "224/224 [==============================] - 281s 1s/step - loss: 0.6847 - acc: 0.7381 - val_loss: 0.8647 - val_acc: 0.6991\n",
            "Epoch 53/100\n",
            "224/224 [==============================] - 278s 1s/step - loss: 0.6808 - acc: 0.7435 - val_loss: 0.8496 - val_acc: 0.7066\n",
            "Epoch 54/100\n",
            "224/224 [==============================] - 279s 1s/step - loss: 0.6716 - acc: 0.7427 - val_loss: 0.8678 - val_acc: 0.6994\n",
            "Epoch 55/100\n",
            "224/224 [==============================] - 280s 1s/step - loss: 0.6662 - acc: 0.7490 - val_loss: 0.8553 - val_acc: 0.7009\n",
            "Epoch 56/100\n",
            "224/224 [==============================] - 283s 1s/step - loss: 0.6586 - acc: 0.7496 - val_loss: 0.8380 - val_acc: 0.7039\n",
            "Epoch 57/100\n",
            "224/224 [==============================] - 283s 1s/step - loss: 0.6539 - acc: 0.7509 - val_loss: 0.8564 - val_acc: 0.7018\n",
            "Epoch 58/100\n",
            "224/224 [==============================] - 279s 1s/step - loss: 0.6576 - acc: 0.7508 - val_loss: 0.8529 - val_acc: 0.7072\n",
            "Epoch 59/100\n",
            "224/224 [==============================] - 278s 1s/step - loss: 0.6383 - acc: 0.7571 - val_loss: 0.8484 - val_acc: 0.7127\n",
            "Epoch 60/100\n",
            "224/224 [==============================] - 277s 1s/step - loss: 0.6292 - acc: 0.7600 - val_loss: 0.8534 - val_acc: 0.7081\n",
            "Epoch 61/100\n",
            "224/224 [==============================] - 273s 1s/step - loss: 0.6438 - acc: 0.7561 - val_loss: 0.8454 - val_acc: 0.7063\n",
            "Epoch 62/100\n",
            "224/224 [==============================] - 275s 1s/step - loss: 0.6392 - acc: 0.7585 - val_loss: 0.8728 - val_acc: 0.6943\n",
            "Epoch 63/100\n",
            "224/224 [==============================] - 279s 1s/step - loss: 0.6244 - acc: 0.7632 - val_loss: 0.8215 - val_acc: 0.7204\n",
            "Epoch 64/100\n",
            "224/224 [==============================] - 279s 1s/step - loss: 0.6263 - acc: 0.7648 - val_loss: 0.8899 - val_acc: 0.7051\n",
            "Epoch 65/100\n",
            "224/224 [==============================] - 279s 1s/step - loss: 0.6196 - acc: 0.7670 - val_loss: 0.8310 - val_acc: 0.7048\n",
            "Epoch 66/100\n",
            "224/224 [==============================] - 279s 1s/step - loss: 0.6072 - acc: 0.7734 - val_loss: 0.8543 - val_acc: 0.7090\n",
            "Epoch 67/100\n",
            "224/224 [==============================] - 279s 1s/step - loss: 0.6139 - acc: 0.7677 - val_loss: 0.8788 - val_acc: 0.6955\n",
            "Epoch 68/100\n",
            "224/224 [==============================] - 279s 1s/step - loss: 0.5923 - acc: 0.7755 - val_loss: 0.8408 - val_acc: 0.7117\n",
            "Epoch 69/100\n",
            "224/224 [==============================] - 279s 1s/step - loss: 0.6023 - acc: 0.7716 - val_loss: 0.8529 - val_acc: 0.7012\n",
            "Epoch 70/100\n",
            "224/224 [==============================] - 281s 1s/step - loss: 0.5842 - acc: 0.7804 - val_loss: 0.8348 - val_acc: 0.7054\n",
            "Epoch 71/100\n",
            "224/224 [==============================] - 282s 1s/step - loss: 0.5946 - acc: 0.7756 - val_loss: 0.8629 - val_acc: 0.7042\n",
            "Epoch 72/100\n",
            "224/224 [==============================] - 281s 1s/step - loss: 0.5764 - acc: 0.7806 - val_loss: 0.8474 - val_acc: 0.7084\n",
            "Epoch 73/100\n",
            "224/224 [==============================] - 276s 1s/step - loss: 0.5859 - acc: 0.7784 - val_loss: 0.8499 - val_acc: 0.7057\n",
            "\n",
            "Epoch 00073: ReduceLROnPlateau reducing learning rate to 0.004999999888241291.\n",
            "Epoch 74/100\n",
            "224/224 [==============================] - 275s 1s/step - loss: 0.5619 - acc: 0.7884 - val_loss: 0.8465 - val_acc: 0.7066\n",
            "Epoch 75/100\n",
            "224/224 [==============================] - 276s 1s/step - loss: 0.5654 - acc: 0.7883 - val_loss: 0.8553 - val_acc: 0.7030\n",
            "Epoch 76/100\n",
            "224/224 [==============================] - 282s 1s/step - loss: 0.5579 - acc: 0.7924 - val_loss: 0.8409 - val_acc: 0.7036\n",
            "Epoch 77/100\n",
            "224/224 [==============================] - 284s 1s/step - loss: 0.5482 - acc: 0.7951 - val_loss: 0.8601 - val_acc: 0.7012\n",
            "Epoch 78/100\n",
            "224/224 [==============================] - 284s 1s/step - loss: 0.5559 - acc: 0.7910 - val_loss: 0.8469 - val_acc: 0.7009\n",
            "Epoch 79/100\n",
            "224/224 [==============================] - 280s 1s/step - loss: 0.5520 - acc: 0.7901 - val_loss: 0.8387 - val_acc: 0.7093\n",
            "Epoch 80/100\n",
            "224/224 [==============================] - 273s 1s/step - loss: 0.5512 - acc: 0.7923 - val_loss: 0.8400 - val_acc: 0.7075\n",
            "Epoch 81/100\n",
            "224/224 [==============================] - 272s 1s/step - loss: 0.5401 - acc: 0.7959 - val_loss: 0.8532 - val_acc: 0.7018\n",
            "Epoch 82/100\n",
            "224/224 [==============================] - 273s 1s/step - loss: 0.5450 - acc: 0.7946 - val_loss: 0.8416 - val_acc: 0.7081\n",
            "Epoch 83/100\n",
            "224/224 [==============================] - 272s 1s/step - loss: 0.5424 - acc: 0.7945 - val_loss: 0.8654 - val_acc: 0.6994\n",
            "\n",
            "Epoch 00083: ReduceLROnPlateau reducing learning rate to 0.0024999999441206455.\n",
            "Epoch 84/100\n",
            "224/224 [==============================] - 278s 1s/step - loss: 0.5365 - acc: 0.7988 - val_loss: 0.8292 - val_acc: 0.7102\n",
            "Epoch 85/100\n",
            "224/224 [==============================] - 277s 1s/step - loss: 0.5261 - acc: 0.8018 - val_loss: 0.8516 - val_acc: 0.7012\n",
            "Epoch 86/100\n",
            "224/224 [==============================] - 276s 1s/step - loss: 0.5281 - acc: 0.8004 - val_loss: 0.8403 - val_acc: 0.7048\n",
            "Epoch 87/100\n",
            "224/224 [==============================] - 275s 1s/step - loss: 0.5229 - acc: 0.8020 - val_loss: 0.8504 - val_acc: 0.7072\n",
            "Epoch 88/100\n",
            "224/224 [==============================] - 278s 1s/step - loss: 0.5286 - acc: 0.8023 - val_loss: 0.8519 - val_acc: 0.7052\n",
            "Epoch 89/100\n",
            "224/224 [==============================] - 278s 1s/step - loss: 0.5270 - acc: 0.8011 - val_loss: 0.8377 - val_acc: 0.7111\n",
            "Epoch 90/100\n",
            "224/224 [==============================] - 274s 1s/step - loss: 0.5194 - acc: 0.8048 - val_loss: 0.8628 - val_acc: 0.7000\n",
            "Epoch 91/100\n",
            "224/224 [==============================] - 277s 1s/step - loss: 0.5277 - acc: 0.7999 - val_loss: 0.8365 - val_acc: 0.7099\n",
            "Epoch 92/100\n",
            "224/224 [==============================] - 274s 1s/step - loss: 0.5204 - acc: 0.8038 - val_loss: 0.8545 - val_acc: 0.7090\n",
            "Epoch 93/100\n",
            "224/224 [==============================] - 277s 1s/step - loss: 0.5233 - acc: 0.8031 - val_loss: 0.8359 - val_acc: 0.7060\n",
            "\n",
            "Epoch 00093: ReduceLROnPlateau reducing learning rate to 0.0012499999720603228.\n",
            "Epoch 94/100\n",
            "224/224 [==============================] - 280s 1s/step - loss: 0.5140 - acc: 0.8060 - val_loss: 0.8565 - val_acc: 0.7015\n",
            "Epoch 95/100\n",
            "224/224 [==============================] - 280s 1s/step - loss: 0.5148 - acc: 0.8062 - val_loss: 0.8380 - val_acc: 0.7144\n",
            "Epoch 96/100\n",
            "224/224 [==============================] - 282s 1s/step - loss: 0.5167 - acc: 0.8082 - val_loss: 0.8657 - val_acc: 0.6943\n",
            "Epoch 97/100\n",
            "224/224 [==============================] - 280s 1s/step - loss: 0.5144 - acc: 0.8083 - val_loss: 0.8372 - val_acc: 0.7195\n",
            "Epoch 98/100\n",
            "224/224 [==============================] - 277s 1s/step - loss: 0.5141 - acc: 0.8076 - val_loss: 0.8468 - val_acc: 0.7048\n",
            "Epoch 99/100\n",
            "224/224 [==============================] - 272s 1s/step - loss: 0.5120 - acc: 0.8077 - val_loss: 0.8479 - val_acc: 0.7072\n",
            "Epoch 100/100\n",
            "224/224 [==============================] - 272s 1s/step - loss: 0.5162 - acc: 0.8069 - val_loss: 0.8522 - val_acc: 0.7075\n"
          ],
          "name": "stdout"
        }
      ]
    },
    {
      "cell_type": "code",
      "metadata": {
        "outputId": "c47570c0-c700-49f4-c441-44814bd78e59",
        "colab": {
          "base_uri": "https://localhost:8080/",
          "height": 71
        },
        "id": "6SeuLlREtJ3w"
      },
      "source": [
        "print('\\n# Evaluate on dev data')\n",
        "results_dev = resnet_model_cweights.evaluate_generator(dev_generator, 3509 // batch_size)\n",
        "print('dev loss, dev acc:', results_dev)"
      ],
      "execution_count": null,
      "outputs": [
        {
          "output_type": "stream",
          "text": [
            "\n",
            "# Evaluate on dev data\n",
            "dev loss, dev acc: [0.8531583790425901, 0.7071759259259259]\n"
          ],
          "name": "stdout"
        }
      ]
    },
    {
      "cell_type": "code",
      "metadata": {
        "outputId": "8ae0fd86-ff1b-41ac-8d3a-903657b6b605",
        "colab": {
          "base_uri": "https://localhost:8080/",
          "height": 71
        },
        "id": "QgPp8uLGtJ3w"
      },
      "source": [
        "print('\\n# Evaluate on test data')\n",
        "results_test = resnet_model_cweights.evaluate_generator(test_generator, 3509 // batch_size)\n",
        "print('test loss, test acc:', results_test)"
      ],
      "execution_count": null,
      "outputs": [
        {
          "output_type": "stream",
          "text": [
            "\n",
            "# Evaluate on test data\n",
            "test loss, test acc: [0.7922037023085134, 0.7239583333333334]\n"
          ],
          "name": "stdout"
        }
      ]
    },
    {
      "cell_type": "code",
      "metadata": {
        "outputId": "d48da751-2594-4d09-ef1f-96af8528a683",
        "colab": {
          "base_uri": "https://localhost:8080/",
          "height": 591
        },
        "id": "QB-99YSKtJ3w"
      },
      "source": [
        "# list all data in history\n",
        "print(history.history.keys())\n",
        "\n",
        "plt.plot(history.history['acc'])\n",
        "plt.plot(history.history['val_acc'])\n",
        "plt.title('model accuracy')\n",
        "plt.ylabel('accuracy')\n",
        "plt.xlabel('epoch')\n",
        "plt.legend(['train', 'dev'], loc='upper left')\n",
        "plt.show()\n",
        "\n",
        "plt.plot(history.history['loss'])\n",
        "plt.plot(history.history['val_loss'])\n",
        "plt.title('model loss')\n",
        "plt.ylabel('loss')\n",
        "plt.xlabel('epoch')\n",
        "plt.legend(['train', 'dev'], loc='upper left')\n",
        "plt.show()"
      ],
      "execution_count": null,
      "outputs": [
        {
          "output_type": "stream",
          "text": [
            "dict_keys(['val_loss', 'val_acc', 'loss', 'acc', 'lr'])\n"
          ],
          "name": "stdout"
        },
        {
          "output_type": "display_data",
          "data": {
            "image/png": "[encoded data removed]",
            "text/plain": [
              "<Figure size 432x288 with 1 Axes>"
            ]
          },
          "metadata": {
            "tags": []
          }
        },
        {
          "output_type": "display_data",
          "data": {
            "image/png": "[encoded data removed]",
            "text/plain": [
              "<Figure size 432x288 with 1 Axes>"
            ]
          },
          "metadata": {
            "tags": []
          }
        }
      ]
    },
    {
      "cell_type": "markdown",
      "source": [
        "### SeNet50 pretrained Model"
      ],
      "metadata": {
        "id": "bNESPL3W3Iuh"
      }
    },
    {
      "cell_type": "code",
      "metadata": {
        "id": "HBXFShbN3fNa"
      },
      "source": [
        "epochs = 100\n",
        "batch_size = 128\n",
        "dropout_rate = 0.5\n",
        "FROZEN_LAYER_NUM = 201\n",
        "lr = 0.01\n",
        "decay = 0.0001\n",
        "Resize_pixelsize = 197"
      ],
      "execution_count": null,
      "outputs": []
    },
    {
      "cell_type": "code",
      "metadata": {
        "outputId": "ef7fa73c-0a40-405c-8d41-64a5ffe037a3",
        "colab": {
          "base_uri": "https://localhost:8080/"
        },
        "id": "npIIwnY13fNb"
      },
      "source": [
        "vgg_notop = VGGFace(model='senet50', include_top=False, input_shape=(Resize_pixelsize, Resize_pixelsize, 3), pooling='avg')\n",
        "last_layer = vgg_notop.get_layer('avg_pool').output\n",
        "x = Flatten(name='flatten')(last_layer)\n",
        "x = Dropout(dropout_rate)(x)\n",
        "x = Dense(4096, activation='relu', name='fc6')(x)\n",
        "x = Dropout(dropout_rate)(x)\n",
        "x = Dense(1024, activation='relu', name='fc7')(x)\n",
        "x = Dropout(dropout_rate)(x)\n",
        "\n",
        "\n",
        "batch_norm_indices = [2, 6, 9, 12, 21, 25, 28, 31, 42, 45, 48, 59, 62, 65, 74, 78, 81, 84, 95, 98, 101, 112, 115, 118, 129, 132, 135, 144, 148, 151, 154, 165, 168, 171, 182, 185, 188, 199, 202, 205, 216, 219, 222, 233, 236, 239, 248, 252, 255, 258, 269, 272, 275]    \n",
        "for i in range(FROZEN_LAYER_NUM):\n",
        "    if i not in batch_norm_indices:\n",
        "        vgg_notop.layers[i].trainable = False\n",
        "\n",
        "\n",
        "out = Dense(7, activation='softmax', name='classifier')(x)\n",
        "\n",
        "senet_model = Model(vgg_notop.input, out)\n",
        "\n",
        "\n",
        "#optim = keras.optimizers.Adam(lr=ADAM_LEARNING_RATE, beta_1=0.9, beta_2=0.999, epsilon=1e-08, decay=0.0)\n",
        "sgd = keras.optimizers.SGD(lr=lr, momentum=0.9, decay=decay, nesterov=True)\n",
        "#rlrop = keras.callbacks.ReduceLROnPlateau(monitor='val_acc',mode='max',factor=0.5, patience=10, min_lr=0.00001, verbose=1)\n",
        "\n",
        "senet_model.compile(optimizer=sgd, loss='categorical_crossentropy', metrics=['accuracy'])"
      ],
      "execution_count": null,
      "outputs": [
        {
          "output_type": "stream",
          "name": "stdout",
          "text": [
            "WARNING:tensorflow:From /tensorflow-1.15.2/python3.7/tensorflow_core/python/ops/resource_variable_ops.py:1630: calling BaseResourceVariable.__init__ (from tensorflow.python.ops.resource_variable_ops) with constraint is deprecated and will be removed in a future version.\n",
            "Instructions for updating:\n",
            "If using Keras pass *_constraint arguments to layers.\n",
            "WARNING:tensorflow:From /tensorflow-1.15.2/python3.7/keras/backend/tensorflow_backend.py:4070: The name tf.nn.max_pool is deprecated. Please use tf.nn.max_pool2d instead.\n",
            "\n",
            "WARNING:tensorflow:From /tensorflow-1.15.2/python3.7/keras/backend/tensorflow_backend.py:4074: The name tf.nn.avg_pool is deprecated. Please use tf.nn.avg_pool2d instead.\n",
            "\n",
            "Downloading data from https://github.com/rcmalli/keras-vggface/releases/download/v2.0/rcmalli_vggface_tf_notop_senet50.h5\n",
            "104947712/104944616 [==============================] - 1s 0us/step\n"
          ]
        }
      ]
    },
    {
      "cell_type": "code",
      "metadata": {
        "outputId": "c4f6da09-20e4-4b04-d2cb-efccdda0d88e",
        "colab": {
          "base_uri": "https://localhost:8080/",
          "height": 1000
        },
        "id": "CmSysM62PjXO"
      },
      "source": [
        "history = senet_model.fit_generator( generator = train_generator, validation_data=dev_generator, epochs=epochs,  shuffle=True ) "
      ],
      "execution_count": null,
      "outputs": [
        {
          "output_type": "stream",
          "text": [
            "WARNING:tensorflow:From /tensorflow-1.15.0/python3.6/tensorflow_core/python/ops/math_grad.py:1424: where (from tensorflow.python.ops.array_ops) is deprecated and will be removed in a future version.\n",
            "Instructions for updating:\n",
            "Use tf.where in 2.0, which has the same broadcast rule as np.where\n",
            "WARNING:tensorflow:From /usr/local/lib/python3.6/dist-packages/keras/backend/tensorflow_backend.py:1033: The name tf.assign_add is deprecated. Please use tf.compat.v1.assign_add instead.\n",
            "\n",
            "WARNING:tensorflow:From /usr/local/lib/python3.6/dist-packages/keras/backend/tensorflow_backend.py:1020: The name tf.assign is deprecated. Please use tf.compat.v1.assign instead.\n",
            "\n",
            "Epoch 1/100\n",
            "238/238 [==============================] - 309s 1s/step - loss: 1.8741 - acc: 0.2840 - val_loss: 1.8226 - val_acc: 0.3435\n",
            "Epoch 2/100\n",
            "238/238 [==============================] - 299s 1s/step - loss: 1.4471 - acc: 0.4375 - val_loss: 1.3253 - val_acc: 0.4948\n",
            "Epoch 3/100\n",
            "238/238 [==============================] - 294s 1s/step - loss: 1.2316 - acc: 0.5125 - val_loss: 1.1254 - val_acc: 0.5793\n",
            "Epoch 4/100\n",
            "238/238 [==============================] - 292s 1s/step - loss: 1.0696 - acc: 0.6065 - val_loss: 1.1040 - val_acc: 0.6057\n",
            "Epoch 5/100\n",
            "238/238 [==============================] - 296s 1s/step - loss: 0.9776 - acc: 0.6420 - val_loss: 1.0684 - val_acc: 0.6188\n",
            "Epoch 6/100\n",
            "238/238 [==============================] - 296s 1s/step - loss: 0.9207 - acc: 0.6650 - val_loss: 1.0465 - val_acc: 0.6135\n",
            "Epoch 7/100\n",
            "238/238 [==============================] - 293s 1s/step - loss: 0.8839 - acc: 0.6780 - val_loss: 0.9908 - val_acc: 0.6383\n",
            "Epoch 8/100\n",
            "238/238 [==============================] - 294s 1s/step - loss: 0.8436 - acc: 0.6939 - val_loss: 0.9639 - val_acc: 0.6537\n",
            "Epoch 9/100\n",
            "238/238 [==============================] - 295s 1s/step - loss: 0.8109 - acc: 0.7032 - val_loss: 0.9058 - val_acc: 0.6701\n",
            "Epoch 10/100\n",
            "238/238 [==============================] - 297s 1s/step - loss: 0.7801 - acc: 0.7194 - val_loss: 0.9678 - val_acc: 0.6517\n",
            "Epoch 11/100\n",
            "238/238 [==============================] - 297s 1s/step - loss: 0.7539 - acc: 0.7288 - val_loss: 0.9729 - val_acc: 0.6631\n",
            "Epoch 12/100\n",
            "238/238 [==============================] - 297s 1s/step - loss: 0.7304 - acc: 0.7353 - val_loss: 1.0328 - val_acc: 0.6339\n",
            "Epoch 13/100\n",
            "238/238 [==============================] - 296s 1s/step - loss: 0.7068 - acc: 0.7463 - val_loss: 0.9377 - val_acc: 0.6695\n",
            "Epoch 14/100\n",
            "238/238 [==============================] - 296s 1s/step - loss: 0.6823 - acc: 0.7533 - val_loss: 0.9383 - val_acc: 0.6743\n",
            "Epoch 15/100\n",
            "238/238 [==============================] - 299s 1s/step - loss: 0.6639 - acc: 0.7608 - val_loss: 0.8806 - val_acc: 0.6952\n",
            "Epoch 16/100\n",
            "238/238 [==============================] - 298s 1s/step - loss: 0.6380 - acc: 0.7720 - val_loss: 0.8852 - val_acc: 0.6874\n",
            "Epoch 17/100\n",
            "238/238 [==============================] - 298s 1s/step - loss: 0.6215 - acc: 0.7758 - val_loss: 0.9070 - val_acc: 0.6787\n",
            "Epoch 18/100\n",
            "238/238 [==============================] - 296s 1s/step - loss: 0.5977 - acc: 0.7843 - val_loss: 0.9309 - val_acc: 0.6799\n",
            "Epoch 19/100\n",
            "238/238 [==============================] - 294s 1s/step - loss: 0.5724 - acc: 0.7959 - val_loss: 0.9592 - val_acc: 0.6818\n",
            "Epoch 20/100\n",
            "238/238 [==============================] - 294s 1s/step - loss: 0.5563 - acc: 0.8003 - val_loss: 0.9386 - val_acc: 0.6963\n",
            "Epoch 21/100\n",
            "238/238 [==============================] - 298s 1s/step - loss: 0.5342 - acc: 0.8080 - val_loss: 0.9030 - val_acc: 0.6996\n",
            "Epoch 22/100\n",
            "238/238 [==============================] - 299s 1s/step - loss: 0.5199 - acc: 0.8161 - val_loss: 0.9116 - val_acc: 0.6991\n",
            "Epoch 23/100\n",
            "238/238 [==============================] - 298s 1s/step - loss: 0.4953 - acc: 0.8235 - val_loss: 1.0249 - val_acc: 0.6721\n",
            "Epoch 24/100\n",
            "238/238 [==============================] - 295s 1s/step - loss: 0.4788 - acc: 0.8311 - val_loss: 1.0976 - val_acc: 0.6698\n",
            "Epoch 25/100\n",
            "238/238 [==============================] - 296s 1s/step - loss: 0.4638 - acc: 0.8358 - val_loss: 1.0257 - val_acc: 0.6768\n",
            "Epoch 26/100\n",
            "238/238 [==============================] - 297s 1s/step - loss: 0.4382 - acc: 0.8442 - val_loss: 1.0300 - val_acc: 0.6918\n",
            "Epoch 27/100\n",
            "238/238 [==============================] - 294s 1s/step - loss: 0.4217 - acc: 0.8497 - val_loss: 1.0381 - val_acc: 0.6807\n",
            "Epoch 28/100\n",
            "238/238 [==============================] - 298s 1s/step - loss: 0.4127 - acc: 0.8519 - val_loss: 0.9972 - val_acc: 0.6885\n",
            "Epoch 29/100\n",
            "238/238 [==============================] - 297s 1s/step - loss: 0.3948 - acc: 0.8603 - val_loss: 1.0567 - val_acc: 0.6924\n",
            "Epoch 30/100\n",
            "238/238 [==============================] - 297s 1s/step - loss: 0.3777 - acc: 0.8645 - val_loss: 1.0673 - val_acc: 0.6999\n",
            "Epoch 31/100\n",
            "238/238 [==============================] - 296s 1s/step - loss: 0.3640 - acc: 0.8710 - val_loss: 1.2573 - val_acc: 0.6486\n",
            "Epoch 32/100\n",
            "238/238 [==============================] - 295s 1s/step - loss: 0.3471 - acc: 0.8778 - val_loss: 1.0282 - val_acc: 0.6971\n",
            "Epoch 33/100\n",
            "238/238 [==============================] - 295s 1s/step - loss: 0.3391 - acc: 0.8810 - val_loss: 1.1366 - val_acc: 0.6977\n",
            "Epoch 34/100\n",
            "238/238 [==============================] - 297s 1s/step - loss: 0.3173 - acc: 0.8888 - val_loss: 1.2153 - val_acc: 0.6879\n",
            "Epoch 35/100\n",
            "238/238 [==============================] - 298s 1s/step - loss: 0.3101 - acc: 0.8896 - val_loss: 1.0622 - val_acc: 0.6927\n",
            "Epoch 36/100\n",
            "238/238 [==============================] - 299s 1s/step - loss: 0.3000 - acc: 0.8943 - val_loss: 1.1708 - val_acc: 0.6902\n",
            "Epoch 37/100\n",
            "238/238 [==============================] - 297s 1s/step - loss: 0.2842 - acc: 0.9024 - val_loss: 1.2906 - val_acc: 0.6885\n",
            "\n",
            "Epoch 38/100\n",
            "238/238 [==============================] - 296s 1s/step - loss: 0.2720 - acc: 0.9035 - val_loss: 1.2999 - val_acc: 0.6776\n",
            "Epoch 39/100\n",
            "238/238 [==============================] - 298s 1s/step - loss: 0.2635 - acc: 0.9072 - val_loss: 1.2563 - val_acc: 0.6868\n",
            "Epoch 40/100\n",
            "238/238 [==============================] - 298s 1s/step - loss: 0.2565 - acc: 0.9106 - val_loss: 1.1673 - val_acc: 0.6871\n",
            "\n",
            "Epoch 00040: ReduceLROnPlateau reducing learning rate to 0.004999999888241291.\n",
            "Epoch 41/100\n",
            "238/238 [==============================] - 299s 1s/step - loss: 0.1979 - acc: 0.9319 - val_loss: 1.2500 - val_acc: 0.7019\n",
            "Epoch 42/100\n",
            "238/238 [==============================] - 297s 1s/step - loss: 0.1730 - acc: 0.9391 - val_loss: 1.4119 - val_acc: 0.7047\n",
            "Epoch 43/100\n",
            "238/238 [==============================] - 298s 1s/step - loss: 0.1609 - acc: 0.9442 - val_loss: 1.4804 - val_acc: 0.7021\n",
            "Epoch 44/100\n",
            "238/238 [==============================] - 298s 1s/step - loss: 0.1549 - acc: 0.9459 - val_loss: 1.5197 - val_acc: 0.6999\n",
            "Epoch 45/100\n",
            "238/238 [==============================] - 298s 1s/step - loss: 0.1491 - acc: 0.9483 - val_loss: 1.3931 - val_acc: 0.7133\n",
            "Epoch 46/100\n",
            "238/238 [==============================] - 299s 1s/step - loss: 0.1412 - acc: 0.9492 - val_loss: 1.4903 - val_acc: 0.6941\n",
            "Epoch 47/100\n",
            "238/238 [==============================] - 296s 1s/step - loss: 0.1316 - acc: 0.9543 - val_loss: 1.4453 - val_acc: 0.7127\n",
            "Epoch 48/100\n",
            "238/238 [==============================] - 297s 1s/step - loss: 0.1342 - acc: 0.9535 - val_loss: 1.4610 - val_acc: 0.7177\n",
            "Epoch 49/100\n",
            "238/238 [==============================] - 296s 1s/step - loss: 0.1279 - acc: 0.9555 - val_loss: 1.5512 - val_acc: 0.7013\n",
            "Epoch 50/100\n",
            "238/238 [==============================] - 293s 1s/step - loss: 0.1241 - acc: 0.9569 - val_loss: 1.5607 - val_acc: 0.7041\n",
            "Epoch 51/100\n",
            "238/238 [==============================] - 296s 1s/step - loss: 0.1163 - acc: 0.9604 - val_loss: 1.6500 - val_acc: 0.7038\n",
            "Epoch 52/100\n",
            "238/238 [==============================] - 295s 1s/step - loss: 0.1239 - acc: 0.9559 - val_loss: 1.5917 - val_acc: 0.6930\n",
            "Epoch 53/100\n",
            "238/238 [==============================] - 296s 1s/step - loss: 0.1110 - acc: 0.9604 - val_loss: 1.5128 - val_acc: 0.6974\n",
            "Epoch 54/100\n",
            "238/238 [==============================] - 297s 1s/step - loss: 0.1079 - acc: 0.9631 - val_loss: 1.6296 - val_acc: 0.7035\n",
            "Epoch 55/100\n",
            "238/238 [==============================] - 296s 1s/step - loss: 0.1085 - acc: 0.9624 - val_loss: 1.6439 - val_acc: 0.6943\n",
            "Epoch 56/100\n",
            "238/238 [==============================] - 297s 1s/step - loss: 0.1052 - acc: 0.9630 - val_loss: 1.5733 - val_acc: 0.7088\n",
            "Epoch 57/100\n",
            "238/238 [==============================] - 300s 1s/step - loss: 0.1012 - acc: 0.9646 - val_loss: 1.6714 - val_acc: 0.7030\n",
            "Epoch 58/100\n",
            "238/238 [==============================] - 299s 1s/step - loss: 0.0985 - acc: 0.9650 - val_loss: 1.6363 - val_acc: 0.6996\n",
            "\n",
            "Epoch 00058: ReduceLROnPlateau reducing learning rate to 0.0024999999441206455.\n",
            "Epoch 59/100\n",
            "238/238 [==============================] - 300s 1s/step - loss: 0.0803 - acc: 0.9719 - val_loss: 1.7202 - val_acc: 0.7133\n",
            "Epoch 60/100\n",
            "238/238 [==============================] - 298s 1s/step - loss: 0.0728 - acc: 0.9748 - val_loss: 1.7580 - val_acc: 0.7133\n",
            "Epoch 61/100\n",
            "238/238 [==============================] - 297s 1s/step - loss: 0.0686 - acc: 0.9762 - val_loss: 1.7719 - val_acc: 0.7097\n",
            "Epoch 62/100\n",
            "238/238 [==============================] - 295s 1s/step - loss: 0.0704 - acc: 0.9755 - val_loss: 1.8019 - val_acc: 0.7077\n",
            "Epoch 63/100\n",
            "238/238 [==============================] - 297s 1s/step - loss: 0.0690 - acc: 0.9755 - val_loss: 1.7823 - val_acc: 0.7044\n",
            "Epoch 64/100\n",
            "238/238 [==============================] - 298s 1s/step - loss: 0.0688 - acc: 0.9752 - val_loss: 1.7739 - val_acc: 0.7116\n",
            "Epoch 65/100\n",
            "238/238 [==============================] - 296s 1s/step - loss: 0.0654 - acc: 0.9769 - val_loss: 1.7649 - val_acc: 0.7127\n",
            "Epoch 66/100\n",
            "238/238 [==============================] - 295s 1s/step - loss: 0.0634 - acc: 0.9768 - val_loss: 1.7978 - val_acc: 0.7150\n",
            "Epoch 67/100\n",
            "238/238 [==============================] - 295s 1s/step - loss: 0.0658 - acc: 0.9778 - val_loss: 1.8685 - val_acc: 0.7111\n",
            "Epoch 68/100\n",
            "238/238 [==============================] - 293s 1s/step - loss: 0.0633 - acc: 0.9769 - val_loss: 1.8268 - val_acc: 0.7069\n",
            "\n",
            "Epoch 00068: ReduceLROnPlateau reducing learning rate to 0.0012499999720603228.\n",
            "Epoch 69/100\n",
            "238/238 [==============================] - 294s 1s/step - loss: 0.0566 - acc: 0.9802 - val_loss: 1.8181 - val_acc: 0.7105\n",
            "Epoch 70/100\n",
            "238/238 [==============================] - 296s 1s/step - loss: 0.0548 - acc: 0.9818 - val_loss: 1.8547 - val_acc: 0.7080\n",
            "Epoch 71/100\n",
            "238/238 [==============================] - 298s 1s/step - loss: 0.0499 - acc: 0.9813 - val_loss: 1.8624 - val_acc: 0.7116\n",
            "Epoch 72/100\n",
            "238/238 [==============================] - 296s 1s/step - loss: 0.0558 - acc: 0.9805 - val_loss: 1.8594 - val_acc: 0.7055\n",
            "Epoch 73/100\n",
            "238/238 [==============================] - 296s 1s/step - loss: 0.0537 - acc: 0.9812 - val_loss: 1.8668 - val_acc: 0.7119\n",
            "Epoch 74/100\n",
            "238/238 [==============================] - 296s 1s/step - loss: 0.0523 - acc: 0.9816 - val_loss: 1.8548 - val_acc: 0.7097\n",
            "Epoch 75/100\n",
            "238/238 [==============================] - 297s 1s/step - loss: 0.0495 - acc: 0.9821 - val_loss: 1.8881 - val_acc: 0.7108\n",
            "Epoch 76/100\n",
            "238/238 [==============================] - 297s 1s/step - loss: 0.0497 - acc: 0.9822 - val_loss: 1.8949 - val_acc: 0.7088\n",
            "Epoch 77/100\n",
            "238/238 [==============================] - 293s 1s/step - loss: 0.0486 - acc: 0.9833 - val_loss: 1.8767 - val_acc: 0.7108\n",
            "Epoch 78/100\n",
            "238/238 [==============================] - 295s 1s/step - loss: 0.0482 - acc: 0.9824 - val_loss: 1.8747 - val_acc: 0.7105\n",
            "\n",
            "Epoch 00078: ReduceLROnPlateau reducing learning rate to 0.0006249999860301614.\n",
            "Epoch 79/100\n",
            "238/238 [==============================] - 295s 1s/step - loss: 0.0451 - acc: 0.9836 - val_loss: 1.9330 - val_acc: 0.7116\n",
            "Epoch 80/100\n",
            "238/238 [==============================] - 296s 1s/step - loss: 0.0438 - acc: 0.9848 - val_loss: 1.9007 - val_acc: 0.7122\n",
            "Epoch 81/100\n",
            "238/238 [==============================] - 298s 1s/step - loss: 0.0454 - acc: 0.9840 - val_loss: 1.9130 - val_acc: 0.7119\n",
            "Epoch 82/100\n",
            "238/238 [==============================] - 296s 1s/step - loss: 0.0434 - acc: 0.9846 - val_loss: 1.9163 - val_acc: 0.7111\n",
            "Epoch 83/100\n",
            "238/238 [==============================] - 296s 1s/step - loss: 0.0423 - acc: 0.9849 - val_loss: 1.9357 - val_acc: 0.7116\n",
            "Epoch 84/100\n",
            "238/238 [==============================] - 295s 1s/step - loss: 0.0433 - acc: 0.9851 - val_loss: 1.9275 - val_acc: 0.7136\n",
            "Epoch 85/100\n",
            "238/238 [==============================] - 295s 1s/step - loss: 0.0440 - acc: 0.9838 - val_loss: 1.9437 - val_acc: 0.7136\n",
            "Epoch 86/100\n",
            "238/238 [==============================] - 295s 1s/step - loss: 0.0431 - acc: 0.9843 - val_loss: 1.9451 - val_acc: 0.7122\n",
            "Epoch 87/100\n",
            "238/238 [==============================] - 299s 1s/step - loss: 0.0428 - acc: 0.9846 - val_loss: 1.9480 - val_acc: 0.7152\n",
            "Epoch 88/100\n",
            "238/238 [==============================] - 297s 1s/step - loss: 0.0415 - acc: 0.9847 - val_loss: 1.9699 - val_acc: 0.7127\n",
            "\n",
            "Epoch 00088: ReduceLROnPlateau reducing learning rate to 0.0003124999930150807.\n",
            "Epoch 89/100\n",
            "238/238 [==============================] - 294s 1s/step - loss: 0.0414 - acc: 0.9846 - val_loss: 1.9673 - val_acc: 0.7127\n",
            "Epoch 90/100\n",
            "238/238 [==============================] - 297s 1s/step - loss: 0.0402 - acc: 0.9855 - val_loss: 1.9741 - val_acc: 0.7133\n",
            "Epoch 91/100\n",
            "238/238 [==============================] - 296s 1s/step - loss: 0.0390 - acc: 0.9859 - val_loss: 1.9680 - val_acc: 0.7152\n",
            "Epoch 92/100\n",
            "238/238 [==============================] - 294s 1s/step - loss: 0.0408 - acc: 0.9854 - val_loss: 1.9696 - val_acc: 0.7108\n",
            "Epoch 93/100\n",
            "238/238 [==============================] - 294s 1s/step - loss: 0.0389 - acc: 0.9857 - val_loss: 1.9706 - val_acc: 0.7133\n",
            "Epoch 94/100\n",
            "238/238 [==============================] - 291s 1s/step - loss: 0.0378 - acc: 0.9856 - val_loss: 1.9758 - val_acc: 0.7138\n",
            "Epoch 95/100\n",
            "238/238 [==============================] - 288s 1s/step - loss: 0.0403 - acc: 0.9855 - val_loss: 1.9799 - val_acc: 0.7122\n",
            "Epoch 96/100\n",
            "238/238 [==============================] - 289s 1s/step - loss: 0.0397 - acc: 0.9866 - val_loss: 1.9727 - val_acc: 0.7138\n",
            "Epoch 97/100\n",
            "238/238 [==============================] - 290s 1s/step - loss: 0.0387 - acc: 0.9856 - val_loss: 1.9781 - val_acc: 0.7144\n",
            "Epoch 98/100\n",
            "238/238 [==============================] - 291s 1s/step - loss: 0.0392 - acc: 0.9853 - val_loss: 1.9819 - val_acc: 0.7122\n",
            "\n",
            "Epoch 00098: ReduceLROnPlateau reducing learning rate to 0.00015624999650754035.\n",
            "Epoch 99/100\n",
            "238/238 [==============================] - 292s 1s/step - loss: 0.0376 - acc: 0.9859 - val_loss: 1.9878 - val_acc: 0.7136\n",
            "Epoch 100/100\n",
            "238/238 [==============================] - 293s 1s/step - loss: 0.0378 - acc: 0.9853 - val_loss: 1.9902 - val_acc: 0.7147\n"
          ],
          "name": "stdout"
        }
      ]
    },
    {
      "cell_type": "code",
      "metadata": {
        "colab": {
          "base_uri": "https://localhost:8080/",
          "height": 68
        },
        "outputId": "a7179cab-5f0b-4414-e049-ec5a6ce50967",
        "id": "IcDvp5ne3fNc"
      },
      "source": [
        "print('\\n# Evaluate on dev data')\n",
        "results_dev = senet_model.evaluate_generator(dev_generator, 3509 // batch_size)\n",
        "print('dev loss, dev acc:', results_dev)"
      ],
      "execution_count": null,
      "outputs": [
        {
          "output_type": "stream",
          "text": [
            "\n",
            "# Evaluate on dev data\n",
            "dev loss, dev acc: [1.9868577674583152, 0.7144097222222222]\n"
          ],
          "name": "stdout"
        }
      ]
    },
    {
      "cell_type": "code",
      "metadata": {
        "colab": {
          "base_uri": "https://localhost:8080/",
          "height": 68
        },
        "outputId": "aa5ea7f8-b78d-4459-fd5f-5013490b7ecf",
        "id": "kPgrRgk03fNd"
      },
      "source": [
        "print('\\n# Evaluate on test data')\n",
        "results_test = senet_model.evaluate_generator(test_generator, 3509 // batch_size)\n",
        "print('test loss, test acc:', results_test)"
      ],
      "execution_count": null,
      "outputs": [
        {
          "output_type": "stream",
          "text": [
            "\n",
            "# Evaluate on test data\n",
            "test loss, test acc: [1.8666118206801239, 0.7254050925925926]\n"
          ],
          "name": "stdout"
        }
      ]
    },
    {
      "cell_type": "code",
      "metadata": {
        "colab": {
          "base_uri": "https://localhost:8080/",
          "height": 590
        },
        "outputId": "53028197-9731-4dc2-a13e-2cfaeec79e96",
        "id": "mNd_B0_a3fNd"
      },
      "source": [
        "# list all data in history\n",
        "print(history.history.keys())\n",
        "\n",
        "plt.plot(history.history['acc'])\n",
        "plt.plot(history.history['val_acc'])\n",
        "plt.title('model accuracy')\n",
        "plt.ylabel('accuracy')\n",
        "plt.xlabel('epoch')\n",
        "plt.legend(['train', 'dev'], loc='upper left')\n",
        "plt.show()\n",
        "\n",
        "plt.plot(history.history['loss'])\n",
        "plt.plot(history.history['val_loss'])\n",
        "plt.title('model loss')\n",
        "plt.ylabel('loss')\n",
        "plt.xlabel('epoch')\n",
        "plt.legend(['train', 'dev'], loc='upper left')\n",
        "plt.show()"
      ],
      "execution_count": null,
      "outputs": [
        {
          "output_type": "stream",
          "text": [
            "dict_keys(['val_loss', 'val_acc', 'loss', 'acc', 'lr'])\n"
          ],
          "name": "stdout"
        },
        {
          "output_type": "display_data",
          "data": {
            "image/png": "[encoded data removed]",
            "text/plain": [
              "<Figure size 432x288 with 1 Axes>"
            ]
          },
          "metadata": {
            "tags": []
          }
        },
        {
          "output_type": "display_data",
          "data": {
            "image/png": "[encoded data removed]",
            "text/plain": [
              "<Figure size 432x288 with 1 Axes>"
            ]
          },
          "metadata": {
            "tags": []
          }
        }
      ]
    },
    {
      "cell_type": "markdown",
      "source": [
        "##### Using Class Weights"
      ],
      "metadata": {
        "id": "Tba-k23-tO-F"
      }
    },
    {
      "cell_type": "code",
      "metadata": {
        "id": "dHxmjVa3taBn"
      },
      "source": [
        "epochs = 100\n",
        "batch_size = 64\n",
        "dropout_rate = 0.5\n",
        "FROZEN_LAYER_NUM = 199\n",
        "\n",
        "lr = 0.01\n",
        "decay = 0.0001\n",
        "\n",
        "Resize_pixelsize = 197"
      ],
      "execution_count": null,
      "outputs": []
    },
    {
      "cell_type": "code",
      "metadata": {
        "outputId": "04ff3b2c-0da3-470b-f21b-4bcaa87a47a4",
        "colab": {
          "base_uri": "https://localhost:8080/",
          "height": 632
        },
        "id": "-U7aUUcMtaBn"
      },
      "source": [
        "vgg_notop = VGGFace(model='senet50', include_top=False, input_shape=(Resize_pixelsize, Resize_pixelsize, 3), pooling='avg')\n",
        "last_layer = vgg_notop.get_layer('avg_pool').output\n",
        "x = Flatten(name='flatten')(last_layer)\n",
        "x = Dropout(dropout_rate)(x)\n",
        "x = Dense(4096, activation='relu', name='fc6')(x)\n",
        "x = Dropout(dropout_rate)(x)\n",
        "x = Dense(1024, activation='relu', name='fc7')(x)\n",
        "x = Dropout(dropout_rate)(x)\n",
        "\n",
        "batch_norm_indices = [2, 6, 9, 12, 21, 25, 28, 31, 42, 45, 48, 59, 62, 65, 74, 78, 81, 84, 95, 98, 101, 112, 115, 118, 129, 132, 135, 144, 148, 151, 154, 165, 168, 171, 182, 185, 188, 199, 202, 205, 216, 219, 222, 233, 236, 239, 248, 252, 255, 258, 269, 272, 275]    \n",
        "for i in range(FROZEN_LAYER_NUM):\n",
        "    if i not in batch_norm_indices:\n",
        "        vgg_notop.layers[i].trainable = False\n",
        "\n",
        "out = Dense(7, activation='softmax', name='classifier')(x)\n",
        "\n",
        "senet_model_cweights = Model(vgg_notop.input, out)\n",
        "\n",
        "sgd = keras.optimizers.SGD(lr=lr, momentum=0.9, decay=decay, nesterov=True)\n",
        "senet_model_cweights.compile(optimizer=sgd, loss='categorical_crossentropy', metrics=['accuracy'])"
      ],
      "execution_count": null,
      "outputs": [
        {
          "output_type": "stream",
          "text": [
            "WARNING:tensorflow:From /usr/local/lib/python3.6/dist-packages/keras/backend/tensorflow_backend.py:66: The name tf.get_default_graph is deprecated. Please use tf.compat.v1.get_default_graph instead.\n",
            "\n",
            "WARNING:tensorflow:From /usr/local/lib/python3.6/dist-packages/keras/backend/tensorflow_backend.py:541: The name tf.placeholder is deprecated. Please use tf.compat.v1.placeholder instead.\n",
            "\n",
            "WARNING:tensorflow:From /usr/local/lib/python3.6/dist-packages/keras/backend/tensorflow_backend.py:4432: The name tf.random_uniform is deprecated. Please use tf.random.uniform instead.\n",
            "\n",
            "WARNING:tensorflow:From /usr/local/lib/python3.6/dist-packages/keras/backend/tensorflow_backend.py:190: The name tf.get_default_session is deprecated. Please use tf.compat.v1.get_default_session instead.\n",
            "\n",
            "WARNING:tensorflow:From /usr/local/lib/python3.6/dist-packages/keras/backend/tensorflow_backend.py:197: The name tf.ConfigProto is deprecated. Please use tf.compat.v1.ConfigProto instead.\n",
            "\n",
            "WARNING:tensorflow:From /usr/local/lib/python3.6/dist-packages/keras/backend/tensorflow_backend.py:203: The name tf.Session is deprecated. Please use tf.compat.v1.Session instead.\n",
            "\n",
            "WARNING:tensorflow:From /usr/local/lib/python3.6/dist-packages/keras/backend/tensorflow_backend.py:207: The name tf.global_variables is deprecated. Please use tf.compat.v1.global_variables instead.\n",
            "\n",
            "WARNING:tensorflow:From /usr/local/lib/python3.6/dist-packages/keras/backend/tensorflow_backend.py:216: The name tf.is_variable_initialized is deprecated. Please use tf.compat.v1.is_variable_initialized instead.\n",
            "\n",
            "WARNING:tensorflow:From /usr/local/lib/python3.6/dist-packages/keras/backend/tensorflow_backend.py:223: The name tf.variables_initializer is deprecated. Please use tf.compat.v1.variables_initializer instead.\n",
            "\n",
            "WARNING:tensorflow:From /usr/local/lib/python3.6/dist-packages/keras/backend/tensorflow_backend.py:2041: The name tf.nn.fused_batch_norm is deprecated. Please use tf.compat.v1.nn.fused_batch_norm instead.\n",
            "\n",
            "WARNING:tensorflow:From /usr/local/lib/python3.6/dist-packages/keras/backend/tensorflow_backend.py:148: The name tf.placeholder_with_default is deprecated. Please use tf.compat.v1.placeholder_with_default instead.\n",
            "\n",
            "WARNING:tensorflow:From /usr/local/lib/python3.6/dist-packages/keras/backend/tensorflow_backend.py:4267: The name tf.nn.max_pool is deprecated. Please use tf.nn.max_pool2d instead.\n",
            "\n",
            "WARNING:tensorflow:From /usr/local/lib/python3.6/dist-packages/keras/backend/tensorflow_backend.py:4271: The name tf.nn.avg_pool is deprecated. Please use tf.nn.avg_pool2d instead.\n",
            "\n",
            "Downloading data from https://github.com/rcmalli/keras-vggface/releases/download/v2.0/rcmalli_vggface_tf_notop_senet50.h5\n",
            "104947712/104944616 [==============================] - 2s 0us/step\n",
            "WARNING:tensorflow:From /usr/local/lib/python3.6/dist-packages/keras/backend/tensorflow_backend.py:3733: calling dropout (from tensorflow.python.ops.nn_ops) with keep_prob is deprecated and will be removed in a future version.\n",
            "Instructions for updating:\n",
            "Please use `rate` instead of `keep_prob`. Rate should be set to `rate = 1 - keep_prob`.\n",
            "WARNING:tensorflow:From /usr/local/lib/python3.6/dist-packages/keras/optimizers.py:793: The name tf.train.Optimizer is deprecated. Please use tf.compat.v1.train.Optimizer instead.\n",
            "\n",
            "WARNING:tensorflow:From /usr/local/lib/python3.6/dist-packages/keras/backend/tensorflow_backend.py:3576: The name tf.log is deprecated. Please use tf.math.log instead.\n",
            "\n"
          ],
          "name": "stdout"
        }
      ]
    },
    {
      "cell_type": "code",
      "metadata": {
        "id": "4sFeoh3eGX_R"
      },
      "source": [
        "from sklearn.utils import class_weight\n",
        "file_stream = file_io.FileIO('/content/drive/My Drive/cs230 project/collab/fer2013/dev.csv', mode='r')\n",
        "data = pd.read_csv(file_stream)\n",
        "\n",
        "data[' pixels'] = data[' pixels'].apply(lambda x: [int(pixel) for pixel in x.split()])\n",
        "\n",
        "# Retrieve train input and target\n",
        "X, Y = data[' pixels'].tolist(), data['emotion'].values\n",
        "\n",
        "class_weights = class_weight.compute_class_weight('balanced',\n",
        "                                                    np.unique(Y),\n",
        "                                                    Y)"
      ],
      "execution_count": null,
      "outputs": []
    },
    {
      "cell_type": "code",
      "metadata": {
        "outputId": "8b0dd587-4538-4365-e70f-1d589479af57",
        "colab": {
          "base_uri": "https://localhost:8080/",
          "height": 1000
        },
        "id": "MemDlKCItaBo"
      },
      "source": [
        "history = senet_model_cweights.fit_generator( generator = train_generator, validation_data=dev_generator,  shuffle=True, epochs=epochs, class_weight=class_weights ) "
      ],
      "execution_count": null,
      "outputs": [
        {
          "output_type": "stream",
          "text": [
            "WARNING:tensorflow:From /tensorflow-1.15.0/python3.6/tensorflow_core/python/ops/math_grad.py:1424: where (from tensorflow.python.ops.array_ops) is deprecated and will be removed in a future version.\n",
            "Instructions for updating:\n",
            "Use tf.where in 2.0, which has the same broadcast rule as np.where\n",
            "WARNING:tensorflow:From /usr/local/lib/python3.6/dist-packages/keras/backend/tensorflow_backend.py:1033: The name tf.assign_add is deprecated. Please use tf.compat.v1.assign_add instead.\n",
            "\n",
            "WARNING:tensorflow:From /usr/local/lib/python3.6/dist-packages/keras/backend/tensorflow_backend.py:1020: The name tf.assign is deprecated. Please use tf.compat.v1.assign instead.\n",
            "\n",
            "Epoch 1/100\n",
            "238/238 [==============================] - 304s 1s/step - loss: 1.9286 - acc: 0.2698 - val_loss: 1.8309 - val_acc: 0.3062\n",
            "Epoch 2/100\n",
            "238/238 [==============================] - 293s 1s/step - loss: 1.5619 - acc: 0.3853 - val_loss: 1.7079 - val_acc: 0.3670\n",
            "Epoch 3/100\n",
            "238/238 [==============================] - 290s 1s/step - loss: 1.2920 - acc: 0.5045 - val_loss: 1.2253 - val_acc: 0.5425\n",
            "Epoch 4/100\n",
            "238/238 [==============================] - 290s 1s/step - loss: 1.0966 - acc: 0.5979 - val_loss: 1.0938 - val_acc: 0.6138\n",
            "Epoch 5/100\n",
            "238/238 [==============================] - 291s 1s/step - loss: 1.0018 - acc: 0.6344 - val_loss: 1.0025 - val_acc: 0.6225\n",
            "Epoch 6/100\n",
            "238/238 [==============================] - 290s 1s/step - loss: 0.9410 - acc: 0.6540 - val_loss: 1.0018 - val_acc: 0.6367\n",
            "Epoch 7/100\n",
            "238/238 [==============================] - 290s 1s/step - loss: 0.8925 - acc: 0.6747 - val_loss: 1.0524 - val_acc: 0.6289\n",
            "Epoch 8/100\n",
            "238/238 [==============================] - 290s 1s/step - loss: 0.8576 - acc: 0.6869 - val_loss: 0.9567 - val_acc: 0.6626\n",
            "Epoch 9/100\n",
            "238/238 [==============================] - 289s 1s/step - loss: 0.8220 - acc: 0.7035 - val_loss: 1.0365 - val_acc: 0.6397\n",
            "Epoch 10/100\n",
            "238/238 [==============================] - 290s 1s/step - loss: 0.7972 - acc: 0.7099 - val_loss: 0.9300 - val_acc: 0.6601\n",
            "Epoch 11/100\n",
            "238/238 [==============================] - 290s 1s/step - loss: 0.7684 - acc: 0.7218 - val_loss: 0.9203 - val_acc: 0.6640\n",
            "Epoch 12/100\n",
            "238/238 [==============================] - 292s 1s/step - loss: 0.7374 - acc: 0.7339 - val_loss: 0.8976 - val_acc: 0.6799\n",
            "Epoch 13/100\n",
            "238/238 [==============================] - 291s 1s/step - loss: 0.7203 - acc: 0.7388 - val_loss: 0.9236 - val_acc: 0.6637\n",
            "Epoch 14/100\n",
            "238/238 [==============================] - 292s 1s/step - loss: 0.6913 - acc: 0.7511 - val_loss: 0.9009 - val_acc: 0.6863\n",
            "Epoch 15/100\n",
            "238/238 [==============================] - 291s 1s/step - loss: 0.6752 - acc: 0.7586 - val_loss: 0.9153 - val_acc: 0.6826\n",
            "Epoch 16/100\n",
            "238/238 [==============================] - 292s 1s/step - loss: 0.6508 - acc: 0.7665 - val_loss: 0.9233 - val_acc: 0.6645\n",
            "Epoch 17/100\n",
            "238/238 [==============================] - 292s 1s/step - loss: 0.6285 - acc: 0.7754 - val_loss: 0.9636 - val_acc: 0.6799\n",
            "Epoch 18/100\n",
            "238/238 [==============================] - 297s 1s/step - loss: 0.6061 - acc: 0.7812 - val_loss: 0.9318 - val_acc: 0.6888\n",
            "Epoch 19/100\n",
            "238/238 [==============================] - 291s 1s/step - loss: 0.5843 - acc: 0.7904 - val_loss: 0.9421 - val_acc: 0.6874\n",
            "Epoch 20/100\n",
            "238/238 [==============================] - 291s 1s/step - loss: 0.5682 - acc: 0.7966 - val_loss: 0.9347 - val_acc: 0.6885\n",
            "Epoch 21/100\n",
            "238/238 [==============================] - 292s 1s/step - loss: 0.5411 - acc: 0.8054 - val_loss: 1.0244 - val_acc: 0.6651\n",
            "Epoch 22/100\n",
            "238/238 [==============================] - 293s 1s/step - loss: 0.5347 - acc: 0.8118 - val_loss: 0.9597 - val_acc: 0.6838\n",
            "Epoch 23/100\n",
            "238/238 [==============================] - 292s 1s/step - loss: 0.5034 - acc: 0.8196 - val_loss: 0.9656 - val_acc: 0.6857\n",
            "Epoch 24/100\n",
            "238/238 [==============================] - 291s 1s/step - loss: 0.4907 - acc: 0.8270 - val_loss: 0.9795 - val_acc: 0.6776\n",
            "Epoch 25/100\n",
            "238/238 [==============================] - 292s 1s/step - loss: 0.4718 - acc: 0.8317 - val_loss: 1.0614 - val_acc: 0.6640\n",
            "Epoch 26/100\n",
            "238/238 [==============================] - 292s 1s/step - loss: 0.4516 - acc: 0.8386 - val_loss: 1.1931 - val_acc: 0.6570\n",
            "Epoch 27/100\n",
            "238/238 [==============================] - 293s 1s/step - loss: 0.4353 - acc: 0.8446 - val_loss: 0.9835 - val_acc: 0.6935\n",
            "Epoch 28/100\n",
            "238/238 [==============================] - 292s 1s/step - loss: 0.4200 - acc: 0.8502 - val_loss: 1.0621 - val_acc: 0.6907\n",
            "Epoch 29/100\n",
            "238/238 [==============================] - 291s 1s/step - loss: 0.4071 - acc: 0.8572 - val_loss: 1.0959 - val_acc: 0.6812\n",
            "Epoch 30/100\n",
            "238/238 [==============================] - 291s 1s/step - loss: 0.3896 - acc: 0.8623 - val_loss: 1.0924 - val_acc: 0.6932\n",
            "Epoch 31/100\n",
            "238/238 [==============================] - 292s 1s/step - loss: 0.3767 - acc: 0.8665 - val_loss: 1.2562 - val_acc: 0.6612\n",
            "Epoch 32/100\n",
            "238/238 [==============================] - 291s 1s/step - loss: 0.3601 - acc: 0.8740 - val_loss: 1.0748 - val_acc: 0.6890\n",
            "Epoch 33/100\n",
            "238/238 [==============================] - 291s 1s/step - loss: 0.3534 - acc: 0.8744 - val_loss: 1.1720 - val_acc: 0.6832\n",
            "Epoch 34/100\n",
            "238/238 [==============================] - 293s 1s/step - loss: 0.3327 - acc: 0.8833 - val_loss: 1.2600 - val_acc: 0.6734\n",
            "Epoch 35/100\n",
            "238/238 [==============================] - 290s 1s/step - loss: 0.3240 - acc: 0.8849 - val_loss: 1.1130 - val_acc: 0.6851\n",
            "Epoch 36/100\n",
            "238/238 [==============================] - 293s 1s/step - loss: 0.3064 - acc: 0.8916 - val_loss: 1.1135 - val_acc: 0.6829\n",
            "Epoch 37/100\n",
            "238/238 [==============================] - 292s 1s/step - loss: 0.2918 - acc: 0.8976 - val_loss: 1.1713 - val_acc: 0.6776\n",
            "\n",
            "Epoch 00037: ReduceLROnPlateau reducing learning rate to 0.004999999888241291.\n",
            "Epoch 38/100\n",
            "238/238 [==============================] - 290s 1s/step - loss: 0.2315 - acc: 0.9185 - val_loss: 1.2643 - val_acc: 0.7130\n",
            "Epoch 39/100\n",
            "238/238 [==============================] - 292s 1s/step - loss: 0.2158 - acc: 0.9239 - val_loss: 1.2481 - val_acc: 0.7088\n",
            "Epoch 40/100\n",
            "238/238 [==============================] - 292s 1s/step - loss: 0.2042 - acc: 0.9305 - val_loss: 1.3244 - val_acc: 0.6927\n",
            "Epoch 41/100\n",
            "238/238 [==============================] - 291s 1s/step - loss: 0.1900 - acc: 0.9344 - val_loss: 1.3064 - val_acc: 0.7060\n",
            "Epoch 42/100\n",
            "238/238 [==============================] - 291s 1s/step - loss: 0.1853 - acc: 0.9366 - val_loss: 1.3902 - val_acc: 0.6943\n",
            "Epoch 43/100\n",
            "238/238 [==============================] - 292s 1s/step - loss: 0.1793 - acc: 0.9382 - val_loss: 1.3389 - val_acc: 0.7086\n",
            "Epoch 44/100\n",
            "238/238 [==============================] - 292s 1s/step - loss: 0.1682 - acc: 0.9421 - val_loss: 1.3948 - val_acc: 0.7063\n",
            "Epoch 45/100\n",
            "238/238 [==============================] - 291s 1s/step - loss: 0.1677 - acc: 0.9411 - val_loss: 1.4519 - val_acc: 0.6957\n",
            "Epoch 46/100\n",
            "238/238 [==============================] - 294s 1s/step - loss: 0.1614 - acc: 0.9444 - val_loss: 1.3742 - val_acc: 0.6982\n",
            "Epoch 47/100\n",
            "238/238 [==============================] - 292s 1s/step - loss: 0.1557 - acc: 0.9475 - val_loss: 1.4159 - val_acc: 0.7038\n",
            "Epoch 48/100\n",
            "238/238 [==============================] - 291s 1s/step - loss: 0.1517 - acc: 0.9480 - val_loss: 1.4185 - val_acc: 0.7097\n",
            "\n",
            "Epoch 00048: ReduceLROnPlateau reducing learning rate to 0.0024999999441206455.\n",
            "Epoch 49/100\n",
            "238/238 [==============================] - 294s 1s/step - loss: 0.1274 - acc: 0.9569 - val_loss: 1.4387 - val_acc: 0.7060\n",
            "Epoch 50/100\n",
            "238/238 [==============================] - 292s 1s/step - loss: 0.1115 - acc: 0.9598 - val_loss: 1.4947 - val_acc: 0.7122\n",
            "Epoch 51/100\n",
            "238/238 [==============================] - 297s 1s/step - loss: 0.1096 - acc: 0.9624 - val_loss: 1.5335 - val_acc: 0.7099\n",
            "Epoch 52/100\n",
            "238/238 [==============================] - 294s 1s/step - loss: 0.1083 - acc: 0.9618 - val_loss: 1.5424 - val_acc: 0.7125\n",
            "Epoch 53/100\n",
            "238/238 [==============================] - 293s 1s/step - loss: 0.1025 - acc: 0.9647 - val_loss: 1.5267 - val_acc: 0.7069\n",
            "Epoch 54/100\n",
            "238/238 [==============================] - 293s 1s/step - loss: 0.1002 - acc: 0.9650 - val_loss: 1.5535 - val_acc: 0.7122\n",
            "Epoch 55/100\n",
            "238/238 [==============================] - 292s 1s/step - loss: 0.0946 - acc: 0.9678 - val_loss: 1.5999 - val_acc: 0.7136\n",
            "Epoch 56/100\n",
            "238/238 [==============================] - 293s 1s/step - loss: 0.0994 - acc: 0.9666 - val_loss: 1.4954 - val_acc: 0.7083\n",
            "Epoch 57/100\n",
            "238/238 [==============================] - 292s 1s/step - loss: 0.0944 - acc: 0.9674 - val_loss: 1.5839 - val_acc: 0.7108\n",
            "Epoch 58/100\n",
            "238/238 [==============================] - 292s 1s/step - loss: 0.0921 - acc: 0.9691 - val_loss: 1.6673 - val_acc: 0.7127\n",
            "Epoch 59/100\n",
            "238/238 [==============================] - 293s 1s/step - loss: 0.0892 - acc: 0.9695 - val_loss: 1.6237 - val_acc: 0.7105\n",
            "Epoch 60/100\n",
            "238/238 [==============================] - 293s 1s/step - loss: 0.0876 - acc: 0.9702 - val_loss: 1.6213 - val_acc: 0.7108\n",
            "Epoch 61/100\n",
            "238/238 [==============================] - 293s 1s/step - loss: 0.0861 - acc: 0.9704 - val_loss: 1.6579 - val_acc: 0.7122\n",
            "Epoch 62/100\n",
            "238/238 [==============================] - 292s 1s/step - loss: 0.0849 - acc: 0.9712 - val_loss: 1.5693 - val_acc: 0.7099\n",
            "Epoch 63/100\n",
            "238/238 [==============================] - 293s 1s/step - loss: 0.0819 - acc: 0.9714 - val_loss: 1.6248 - val_acc: 0.7116\n",
            "Epoch 64/100\n",
            "238/238 [==============================] - 291s 1s/step - loss: 0.0848 - acc: 0.9709 - val_loss: 1.7080 - val_acc: 0.7122\n",
            "Epoch 65/100\n",
            "238/238 [==============================] - 293s 1s/step - loss: 0.0825 - acc: 0.9712 - val_loss: 1.6478 - val_acc: 0.7136\n",
            "\n",
            "Epoch 00065: ReduceLROnPlateau reducing learning rate to 0.0012499999720603228.\n",
            "Epoch 66/100\n",
            "238/238 [==============================] - 292s 1s/step - loss: 0.0742 - acc: 0.9739 - val_loss: 1.6337 - val_acc: 0.7141\n",
            "Epoch 67/100\n",
            "238/238 [==============================] - 293s 1s/step - loss: 0.0664 - acc: 0.9769 - val_loss: 1.6322 - val_acc: 0.7133\n",
            "Epoch 68/100\n",
            "238/238 [==============================] - 292s 1s/step - loss: 0.0671 - acc: 0.9755 - val_loss: 1.7225 - val_acc: 0.7197\n",
            "Epoch 69/100\n",
            "238/238 [==============================] - 292s 1s/step - loss: 0.0623 - acc: 0.9777 - val_loss: 1.7324 - val_acc: 0.7152\n",
            "Epoch 70/100\n",
            "238/238 [==============================] - 293s 1s/step - loss: 0.0677 - acc: 0.9764 - val_loss: 1.7170 - val_acc: 0.7169\n",
            "Epoch 71/100\n",
            "238/238 [==============================] - 293s 1s/step - loss: 0.0628 - acc: 0.9771 - val_loss: 1.7341 - val_acc: 0.7169\n",
            "Epoch 72/100\n",
            "238/238 [==============================] - 293s 1s/step - loss: 0.0613 - acc: 0.9774 - val_loss: 1.7655 - val_acc: 0.7158\n",
            "Epoch 73/100\n",
            "238/238 [==============================] - 293s 1s/step - loss: 0.0655 - acc: 0.9760 - val_loss: 1.7788 - val_acc: 0.7180\n",
            "Epoch 74/100\n",
            "238/238 [==============================] - 293s 1s/step - loss: 0.0577 - acc: 0.9798 - val_loss: 1.7498 - val_acc: 0.7158\n",
            "Epoch 75/100\n",
            "238/238 [==============================] - 293s 1s/step - loss: 0.0618 - acc: 0.9788 - val_loss: 1.7415 - val_acc: 0.7205\n",
            "Epoch 76/100\n",
            "238/238 [==============================] - 292s 1s/step - loss: 0.0593 - acc: 0.9779 - val_loss: 1.7481 - val_acc: 0.7186\n",
            "Epoch 77/100\n",
            "238/238 [==============================] - 292s 1s/step - loss: 0.0566 - acc: 0.9813 - val_loss: 1.7929 - val_acc: 0.7133\n",
            "Epoch 78/100\n",
            "238/238 [==============================] - 298s 1s/step - loss: 0.0624 - acc: 0.9783 - val_loss: 1.7912 - val_acc: 0.7138\n",
            "Epoch 79/100\n",
            "Epoch 78/100\n",
            "238/238 [==============================] - 298s 1s/step - loss: 0.0610 - acc: 0.9783 - val_loss: 1.7777 - val_acc: 0.7169\n",
            "Epoch 80/100\n",
            "238/238 [==============================] - 298s 1s/step - loss: 0.0587 - acc: 0.9793 - val_loss: 1.7775 - val_acc: 0.7166\n",
            "Epoch 81/100\n",
            "238/238 [==============================] - 297s 1s/step - loss: 0.0540 - acc: 0.9808 - val_loss: 1.8083 - val_acc: 0.7141\n",
            "Epoch 82/100\n",
            "238/238 [==============================] - 299s 1s/step - loss: 0.0578 - acc: 0.9793 - val_loss: 1.7897 - val_acc: 0.7133\n",
            "Epoch 83/100\n",
            "238/238 [==============================] - 298s 1s/step - loss: 0.0540 - acc: 0.9814 - val_loss: 1.8114 - val_acc: 0.7105\n",
            "Epoch 84/100\n",
            "238/238 [==============================] - 298s 1s/step - loss: 0.0589 - acc: 0.9799 - val_loss: 1.7968 - val_acc: 0.7125\n",
            "Epoch 85/100\n",
            "238/238 [==============================] - 299s 1s/step - loss: 0.0549 - acc: 0.9804 - val_loss: 1.8346 - val_acc: 0.7138\n",
            "\n",
            "Epoch 00085: ReduceLROnPlateau reducing learning rate to 0.0006249999860301614.\n",
            "Epoch 86/100\n",
            "238/238 [==============================] - 299s 1s/step - loss: 0.0529 - acc: 0.9809 - val_loss: 1.8162 - val_acc: 0.7197\n",
            "Epoch 87/100\n",
            "238/238 [==============================] - 296s 1s/step - loss: 0.0543 - acc: 0.9810 - val_loss: 1.7974 - val_acc: 0.7164\n",
            "Epoch 88/100\n",
            "238/238 [==============================] - 293s 1s/step - loss: 0.0497 - acc: 0.9826 - val_loss: 1.8164 - val_acc: 0.7122\n",
            "Epoch 89/100\n",
            "238/238 [==============================] - 297s 1s/step - loss: 0.0481 - acc: 0.9832 - val_loss: 1.8189 - val_acc: 0.7122\n",
            "Epoch 90/100\n",
            "238/238 [==============================] - 297s 1s/step - loss: 0.0507 - acc: 0.9824 - val_loss: 1.8363 - val_acc: 0.7150\n",
            "Epoch 91/100\n",
            "\n",
            "238/238 [==============================] - 297s 1s/step - loss: 0.0464 - acc: 0.9830 - val_loss: 1.8458 - val_acc: 0.7133\n",
            "Epoch 92/100\n",
            "238/238 [==============================] - 297s 1s/step - loss: 0.0491 - acc: 0.9820 - val_loss: 1.8683 - val_acc: 0.7180\n",
            "Epoch 93/100\n",
            "238/238 [==============================] - 295s 1s/step - loss: 0.0491 - acc: 0.9826 - val_loss: 1.8522 - val_acc: 0.7158\n",
            "Epoch 94/100\n",
            "238/238 [==============================] - 294s 1s/step - loss: 0.0460 - acc: 0.9836 - val_loss: 1.8493 - val_acc: 0.7200\n",
            "Epoch 95/100\n",
            "238/238 [==============================] - 295s 1s/step - loss: 0.0478 - acc: 0.9836 - val_loss: 1.8648 - val_acc: 0.7164\n",
            "\n",
            "Epoch 00095: ReduceLROnPlateau reducing learning rate to 0.0003124999930150807.\n",
            "Epoch 96/100\n",
            "238/238 [==============================] - 296s 1s/step - loss: 0.0476 - acc: 0.9833 - val_loss: 1.8551 - val_acc: 0.7166\n",
            "Epoch 97/100\n",
            "238/238 [==============================] - 296s 1s/step - loss: 0.0472 - acc: 0.9825 - val_loss: 1.8611 - val_acc: 0.7166\n",
            "Epoch 98/100\n",
            "238/238 [==============================] - 294s 1s/step - loss: 0.0470 - acc: 0.9833 - val_loss: 1.8692 - val_acc: 0.7147\n",
            "Epoch 99/100\n",
            "238/238 [==============================] - 295s 1s/step - loss: 0.0443 - acc: 0.9843 - val_loss: 1.8743 - val_acc: 0.7158\n",
            "Epoch 100/100\n",
            "238/238 [==============================] - 297s 1s/step - loss: 0.0467 - acc: 0.9832 - val_loss: 1.8815 - val_acc: 0.7133\n"
          ],
          "name": "stdout"
        }
      ]
    },
    {
      "cell_type": "code",
      "metadata": {
        "colab": {
          "base_uri": "https://localhost:8080/",
          "height": 68
        },
        "outputId": "4a627349-854b-4df6-9009-331ca7bbc604",
        "id": "dLyeb3CDtaBo"
      },
      "source": [
        "print('\\n# Evaluate on dev data')\n",
        "results_dev = senet_model_cweights.evaluate_generator(dev_generator, 3509 // batch_size)\n",
        "print('dev loss, dev acc:', results_dev)"
      ],
      "execution_count": null,
      "outputs": [
        {
          "output_type": "stream",
          "text": [
            "\n",
            "# Evaluate on dev data\n",
            "dev loss, dev acc: [1.8830583846127544, 0.7135416666666666]\n"
          ],
          "name": "stdout"
        }
      ]
    },
    {
      "cell_type": "code",
      "metadata": {
        "colab": {
          "base_uri": "https://localhost:8080/",
          "height": 68
        },
        "outputId": "fad7c216-c266-4f76-ce47-fd8c2d194d96",
        "id": "JKmkHM64taBo"
      },
      "source": [
        "print('\\n# Evaluate on test data')\n",
        "results_test = senet_model_cweights.evaluate_generator(test_generator, 3509 // batch_size)\n",
        "print('test loss, test acc:', results_test)"
      ],
      "execution_count": null,
      "outputs": [
        {
          "output_type": "stream",
          "text": [
            "\n",
            "# Evaluate on test data\n",
            "test loss, test acc: [1.8335271411471896, 0.7155671296296297]\n"
          ],
          "name": "stdout"
        }
      ]
    },
    {
      "cell_type": "code",
      "metadata": {
        "colab": {
          "base_uri": "https://localhost:8080/",
          "height": 590
        },
        "outputId": "aaab3605-a12b-4fb8-834a-9993a91402f4",
        "id": "CC-ye2n9taBo"
      },
      "source": [
        "# list all data in history\n",
        "print(history.history.keys())\n",
        "\n",
        "plt.plot(history.history['acc'])\n",
        "plt.plot(history.history['val_acc'])\n",
        "plt.title('model accuracy')\n",
        "plt.ylabel('accuracy')\n",
        "plt.xlabel('epoch')\n",
        "plt.legend(['train', 'dev'], loc='upper left')\n",
        "plt.show()\n",
        "\n",
        "plt.plot(history.history['loss'])\n",
        "plt.plot(history.history['val_loss'])\n",
        "plt.title('model loss')\n",
        "plt.ylabel('loss')\n",
        "plt.xlabel('epoch')\n",
        "plt.legend(['train', 'dev'], loc='upper left')\n",
        "plt.show()"
      ],
      "execution_count": null,
      "outputs": [
        {
          "output_type": "stream",
          "text": [
            "dict_keys(['val_loss', 'val_acc', 'loss', 'acc', 'lr'])\n"
          ],
          "name": "stdout"
        },
        {
          "output_type": "display_data",
          "data": {
            "image/png": "[encoded data removed]",
            "text/plain": [
              "<Figure size 432x288 with 1 Axes>"
            ]
          },
          "metadata": {
            "tags": []
          }
        },
        {
          "output_type": "display_data",
          "data": {
            "image/png": "[encoded data removed]",
            "text/plain": [
              "<Figure size 432x288 with 1 Axes>"
            ]
          },
          "metadata": {
            "tags": []
          }
        }
      ]
    },
    {
      "cell_type": "markdown",
      "source": [
        "### VGG16 pretrained Model"
      ],
      "metadata": {
        "id": "E5Yzy2h23gEn"
      }
    },
    {
      "cell_type": "code",
      "metadata": {
        "id": "Ud-gLPFJ3qWq"
      },
      "source": [
        "epochs = 50\n",
        "batch_size = 128\n",
        "dropout_rate = 0.5\n",
        "FROZEN_LAYER_NUM = 19\n",
        "lr = 0.01\n",
        "decay = 0.0001\n",
        "Resize_pixelsize = 197"
      ],
      "execution_count": null,
      "outputs": []
    },
    {
      "cell_type": "code",
      "metadata": {
        "outputId": "1e44d823-47b8-4ff7-847a-6c10cd5bed10",
        "colab": {
          "base_uri": "https://localhost:8080/"
        },
        "id": "1415jXo53qWr"
      },
      "source": [
        "vgg_notop = VGGFace(model='vgg16', include_top=False, input_shape=(Resize_pixelsize, Resize_pixelsize, 3), pooling='avg')\n",
        "print(vgg_notop.summary())\n",
        "last_layer = vgg_notop.get_layer('pool5').output\n",
        "x = Flatten(name='flatten')(last_layer)\n",
        "x = Dropout(dropout_rate)(x)\n",
        "x = Dense(4096, activation='relu', name='fc6')(x)\n",
        "x = Dropout(dropout_rate)(x)\n",
        "x = Dense(1024, activation='relu', name='fc7')(x)\n",
        "\n",
        "for i in range(FROZEN_LAYER_NUM):\n",
        "    vgg_notop.layers[i].trainable = False\n",
        "\n",
        "print(vgg_notop.get_layer('pool5').trainable)\n",
        "\n",
        "out = Dense(7, activation='softmax', name='classifier')(x)\n",
        "\n",
        "vgg_model = Model(vgg_notop.input, out)\n",
        "\n",
        "sgd = keras.optimizers.SGD(lr=lr, momentum=0.9, decay=decay, nesterov=True)\n",
        "\n",
        "vgg_model.compile(optimizer=sgd, loss='categorical_crossentropy', metrics=['accuracy'])"
      ],
      "execution_count": null,
      "outputs": [
        {
          "output_type": "stream",
          "name": "stdout",
          "text": [
            "WARNING:tensorflow:From /tensorflow-1.15.2/python3.7/tensorflow_core/python/ops/resource_variable_ops.py:1630: calling BaseResourceVariable.__init__ (from tensorflow.python.ops.resource_variable_ops) with constraint is deprecated and will be removed in a future version.\n",
            "Instructions for updating:\n",
            "If using Keras pass *_constraint arguments to layers.\n",
            "WARNING:tensorflow:From /tensorflow-1.15.2/python3.7/keras/backend/tensorflow_backend.py:4070: The name tf.nn.max_pool is deprecated. Please use tf.nn.max_pool2d instead.\n",
            "\n",
            "Downloading data from https://github.com/rcmalli/keras-vggface/releases/download/v2.0/rcmalli_vggface_tf_notop_vgg16.h5\n",
            "58916864/58909280 [==============================] - 0s 0us/step\n",
            "Model: \"vggface_vgg16\"\n",
            "_________________________________________________________________\n",
            "Layer (type)                 Output Shape              Param #   \n",
            "=================================================================\n",
            "input_1 (InputLayer)         (None, 197, 197, 3)       0         \n",
            "_________________________________________________________________\n",
            "conv1_1 (Conv2D)             (None, 197, 197, 64)      1792      \n",
            "_________________________________________________________________\n",
            "conv1_2 (Conv2D)             (None, 197, 197, 64)      36928     \n",
            "_________________________________________________________________\n",
            "pool1 (MaxPooling2D)         (None, 98, 98, 64)        0         \n",
            "_________________________________________________________________\n",
            "conv2_1 (Conv2D)             (None, 98, 98, 128)       73856     \n",
            "_________________________________________________________________\n",
            "conv2_2 (Conv2D)             (None, 98, 98, 128)       147584    \n",
            "_________________________________________________________________\n",
            "pool2 (MaxPooling2D)         (None, 49, 49, 128)       0         \n",
            "_________________________________________________________________\n",
            "conv3_1 (Conv2D)             (None, 49, 49, 256)       295168    \n",
            "_________________________________________________________________\n",
            "conv3_2 (Conv2D)             (None, 49, 49, 256)       590080    \n",
            "_________________________________________________________________\n",
            "conv3_3 (Conv2D)             (None, 49, 49, 256)       590080    \n",
            "_________________________________________________________________\n",
            "pool3 (MaxPooling2D)         (None, 24, 24, 256)       0         \n",
            "_________________________________________________________________\n",
            "conv4_1 (Conv2D)             (None, 24, 24, 512)       1180160   \n",
            "_________________________________________________________________\n",
            "conv4_2 (Conv2D)             (None, 24, 24, 512)       2359808   \n",
            "_________________________________________________________________\n",
            "conv4_3 (Conv2D)             (None, 24, 24, 512)       2359808   \n",
            "_________________________________________________________________\n",
            "pool4 (MaxPooling2D)         (None, 12, 12, 512)       0         \n",
            "_________________________________________________________________\n",
            "conv5_1 (Conv2D)             (None, 12, 12, 512)       2359808   \n",
            "_________________________________________________________________\n",
            "conv5_2 (Conv2D)             (None, 12, 12, 512)       2359808   \n",
            "_________________________________________________________________\n",
            "conv5_3 (Conv2D)             (None, 12, 12, 512)       2359808   \n",
            "_________________________________________________________________\n",
            "pool5 (MaxPooling2D)         (None, 6, 6, 512)         0         \n",
            "_________________________________________________________________\n",
            "global_average_pooling2d_1 ( (None, 512)               0         \n",
            "=================================================================\n",
            "Total params: 14,714,688\n",
            "Trainable params: 14,714,688\n",
            "Non-trainable params: 0\n",
            "_________________________________________________________________\n",
            "None\n",
            "False\n"
          ]
        }
      ]
    },
    {
      "cell_type": "code",
      "metadata": {
        "outputId": "1616b9d0-a3e3-4540-9e52-012137a44bf9",
        "colab": {
          "base_uri": "https://localhost:8080/",
          "height": 1000
        },
        "id": "QYbaanKuUln5"
      },
      "source": [
        "history = vgg_model.fit_generator( generator = train_generator, validation_data=dev_generator,  steps_per_epoch=28709// batch_size, validation_steps=3509 // batch_size, shuffle=True, epochs=epochs) "
      ],
      "execution_count": null,
      "outputs": [
        {
          "output_type": "stream",
          "text": [
            "WARNING:tensorflow:From /tensorflow-1.15.0/python3.6/tensorflow_core/python/ops/math_grad.py:1424: where (from tensorflow.python.ops.array_ops) is deprecated and will be removed in a future version.\n",
            "Instructions for updating:\n",
            "Use tf.where in 2.0, which has the same broadcast rule as np.where\n",
            "WARNING:tensorflow:From /usr/local/lib/python3.6/dist-packages/keras/backend/tensorflow_backend.py:1033: The name tf.assign_add is deprecated. Please use tf.compat.v1.assign_add instead.\n",
            "\n",
            "WARNING:tensorflow:From /usr/local/lib/python3.6/dist-packages/keras/backend/tensorflow_backend.py:1020: The name tf.assign is deprecated. Please use tf.compat.v1.assign instead.\n",
            "\n",
            "Epoch 1/100\n",
            "224/224 [==============================] - 267s 1s/step - loss: 1.4812 - acc: 0.4389 - val_loss: 1.1683 - val_acc: 0.5738\n",
            "Epoch 2/100\n",
            "224/224 [==============================] - 261s 1s/step - loss: 1.2183 - acc: 0.5448 - val_loss: 1.1045 - val_acc: 0.5914\n",
            "Epoch 3/100\n",
            "224/224 [==============================] - 262s 1s/step - loss: 1.1617 - acc: 0.5703 - val_loss: 1.0900 - val_acc: 0.5827\n",
            "Epoch 4/100\n",
            "224/224 [==============================] - 263s 1s/step - loss: 1.1333 - acc: 0.5815 - val_loss: 1.0612 - val_acc: 0.6034\n",
            "Epoch 5/100\n",
            "224/224 [==============================] - 275s 1s/step - loss: 1.1125 - acc: 0.5880 - val_loss: 1.0419 - val_acc: 0.6163\n",
            "Epoch 6/100\n",
            "224/224 [==============================] - 270s 1s/step - loss: 1.0946 - acc: 0.5934 - val_loss: 1.0408 - val_acc: 0.6124\n",
            "Epoch 7/100\n",
            "224/224 [==============================] - 275s 1s/step - loss: 1.0659 - acc: 0.6041 - val_loss: 1.0170 - val_acc: 0.6160\n",
            "Epoch 8/100\n",
            "224/224 [==============================] - 279s 1s/step - loss: 1.0556 - acc: 0.6071 - val_loss: 1.0417 - val_acc: 0.6076\n",
            "Epoch 9/100\n",
            "224/224 [==============================] - 278s 1s/step - loss: 1.0434 - acc: 0.6096 - val_loss: 0.9741 - val_acc: 0.6394\n",
            "Epoch 10/100\n",
            "224/224 [==============================] - 276s 1s/step - loss: 1.0308 - acc: 0.6179 - val_loss: 1.0118 - val_acc: 0.6232\n",
            "Epoch 11/100\n",
            "224/224 [==============================] - 278s 1s/step - loss: 1.0186 - acc: 0.6173 - val_loss: 0.9870 - val_acc: 0.6235\n",
            "Epoch 12/100\n",
            "224/224 [==============================] - 279s 1s/step - loss: 1.0078 - acc: 0.6230 - val_loss: 0.9989 - val_acc: 0.6301\n",
            "Epoch 13/100\n",
            "224/224 [==============================] - 278s 1s/step - loss: 0.9971 - acc: 0.6292 - val_loss: 0.9800 - val_acc: 0.6334\n",
            "Epoch 14/100\n",
            "224/224 [==============================] - 279s 1s/step - loss: 0.9822 - acc: 0.6359 - val_loss: 0.9767 - val_acc: 0.6370\n",
            "Epoch 15/100\n",
            "224/224 [==============================] - 266s 1s/step - loss: 0.9806 - acc: 0.6347 - val_loss: 0.9674 - val_acc: 0.6398\n",
            "Epoch 16/100\n",
            "224/224 [==============================] - 256s 1s/step - loss: 0.9640 - acc: 0.6422 - val_loss: 0.9614 - val_acc: 0.6382\n",
            "Epoch 17/100\n",
            "224/224 [==============================] - 254s 1s/step - loss: 0.9555 - acc: 0.6431 - val_loss: 0.9586 - val_acc: 0.6526\n",
            "Epoch 18/100\n",
            "224/224 [==============================] - 263s 1s/step - loss: 0.9537 - acc: 0.6449 - val_loss: 0.9597 - val_acc: 0.6457\n",
            "Epoch 19/100\n",
            "224/224 [==============================] - 271s 1s/step - loss: 0.9417 - acc: 0.6510 - val_loss: 0.9432 - val_acc: 0.6460\n",
            "Epoch 20/100\n",
            "224/224 [==============================] - 268s 1s/step - loss: 0.9304 - acc: 0.6548 - val_loss: 0.9569 - val_acc: 0.6544\n",
            "Epoch 21/100\n",
            "224/224 [==============================] - 265s 1s/step - loss: 0.9311 - acc: 0.6541 - val_loss: 0.9512 - val_acc: 0.6481\n",
            "Epoch 22/100\n",
            "224/224 [==============================] - 263s 1s/step - loss: 0.9098 - acc: 0.6622 - val_loss: 0.9398 - val_acc: 0.6607\n",
            "Epoch 23/100\n",
            "224/224 [==============================] - 257s 1s/step - loss: 0.9092 - acc: 0.6624 - val_loss: 0.9610 - val_acc: 0.6481\n",
            "Epoch 24/100\n",
            "224/224 [==============================] - 271s 1s/step - loss: 0.9044 - acc: 0.6621 - val_loss: 0.9245 - val_acc: 0.6646\n",
            "Epoch 25/100\n",
            "224/224 [==============================] - 287s 1s/step - loss: 0.8969 - acc: 0.6664 - val_loss: 0.9195 - val_acc: 0.6631\n",
            "Epoch 26/100\n",
            "224/224 [==============================] - 287s 1s/step - loss: 0.8866 - acc: 0.6718 - val_loss: 0.9552 - val_acc: 0.6457\n",
            "Epoch 27/100\n",
            "224/224 [==============================] - 289s 1s/step - loss: 0.8817 - acc: 0.6704 - val_loss: 0.9243 - val_acc: 0.6673\n",
            "Epoch 28/100\n",
            "224/224 [==============================] - 290s 1s/step - loss: 0.8683 - acc: 0.6803 - val_loss: 0.9352 - val_acc: 0.6589\n",
            "Epoch 29/100\n",
            "224/224 [==============================] - 283s 1s/step - loss: 0.8693 - acc: 0.6784 - val_loss: 0.9405 - val_acc: 0.6523\n",
            "Epoch 30/100\n",
            "224/224 [==============================] - 291s 1s/step - loss: 0.8635 - acc: 0.6826 - val_loss: 0.9212 - val_acc: 0.6644\n",
            "Epoch 31/100\n",
            "224/224 [==============================] - 286s 1s/step - loss: 0.8514 - acc: 0.6839 - val_loss: 0.9424 - val_acc: 0.6598\n",
            "Epoch 32/100\n",
            "224/224 [==============================] - 284s 1s/step - loss: 0.8515 - acc: 0.6814 - val_loss: 0.9283 - val_acc: 0.6658\n",
            "Epoch 33/100\n",
            "224/224 [==============================] - 282s 1s/step - loss: 0.8376 - acc: 0.6894 - val_loss: 0.9153 - val_acc: 0.6646\n",
            "Epoch 34/100\n",
            "224/224 [==============================] - 278s 1s/step - loss: 0.8320 - acc: 0.6911 - val_loss: 0.9134 - val_acc: 0.6643\n",
            "Epoch 35/100\n",
            "224/224 [==============================] - 278s 1s/step - loss: 0.8335 - acc: 0.6918 - val_loss: 0.9014 - val_acc: 0.6760\n",
            "Epoch 36/100\n",
            "224/224 [==============================] - 276s 1s/step - loss: 0.8204 - acc: 0.6949 - val_loss: 0.9460 - val_acc: 0.6592\n",
            "Epoch 37/100\n",
            "224/224 [==============================] - 272s 1s/step - loss: 0.8179 - acc: 0.6957 - val_loss: 0.8993 - val_acc: 0.6709\n",
            "Epoch 38/100\n",
            "224/224 [==============================] - 275s 1s/step - loss: 0.8035 - acc: 0.7031 - val_loss: 0.9136 - val_acc: 0.6652\n",
            "Epoch 39/100\n",
            "224/224 [==============================] - 278s 1s/step - loss: 0.7996 - acc: 0.7037 - val_loss: 0.9275 - val_acc: 0.6673\n",
            "Epoch 40/100\n",
            "224/224 [==============================] - 272s 1s/step - loss: 0.7950 - acc: 0.7045 - val_loss: 0.9176 - val_acc: 0.6706\n",
            "Epoch 41/100\n",
            "224/224 [==============================] - 273s 1s/step - loss: 0.7912 - acc: 0.7098 - val_loss: 0.9042 - val_acc: 0.6745\n",
            "Epoch 42/100\n",
            "224/224 [==============================] - 276s 1s/step - loss: 0.7838 - acc: 0.7099 - val_loss: 0.9139 - val_acc: 0.6733\n",
            "Epoch 43/100\n",
            "224/224 [==============================] - 275s 1s/step - loss: 0.7698 - acc: 0.7147 - val_loss: 0.9132 - val_acc: 0.6655\n",
            "Epoch 44/100\n",
            "224/224 [==============================] - 277s 1s/step - loss: 0.7680 - acc: 0.7146 - val_loss: 0.9145 - val_acc: 0.6687\n",
            "Epoch 45/100\n",
            "224/224 [==============================] - 282s 1s/step - loss: 0.7659 - acc: 0.7172 - val_loss: 0.9156 - val_acc: 0.6706\n",
            "\n",
            "Epoch 00045: ReduceLROnPlateau reducing learning rate to 0.004999999888241291.\n",
            "Epoch 46/100\n",
            "224/224 [==============================] - 278s 1s/step - loss: 0.7577 - acc: 0.7205 - val_loss: 0.9035 - val_acc: 0.6760\n",
            "Epoch 47/100\n",
            "224/224 [==============================] - 278s 1s/step - loss: 0.7425 - acc: 0.7261 - val_loss: 0.8989 - val_acc: 0.6787\n",
            "Epoch 48/100\n",
            "224/224 [==============================] - 278s 1s/step - loss: 0.7329 - acc: 0.7279 - val_loss: 0.9275 - val_acc: 0.6754\n",
            "Epoch 49/100\n",
            "224/224 [==============================] - 280s 1s/step - loss: 0.7406 - acc: 0.7270 - val_loss: 0.8888 - val_acc: 0.6784\n",
            "Epoch 50/100\n",
            "224/224 [==============================] - 277s 1s/step - loss: 0.7340 - acc: 0.7267 - val_loss: 0.9205 - val_acc: 0.6670\n",
            "Epoch 51/100\n",
            "224/224 [==============================] - 280s 1s/step - loss: 0.7263 - acc: 0.7341 - val_loss: 0.9131 - val_acc: 0.6769\n",
            "Epoch 52/100\n",
            "224/224 [==============================] - 276s 1s/step - loss: 0.7170 - acc: 0.7349 - val_loss: 0.9029 - val_acc: 0.6718\n",
            "Epoch 53/100\n",
            "224/224 [==============================] - 275s 1s/step - loss: 0.7240 - acc: 0.7307 - val_loss: 0.8955 - val_acc: 0.6808\n",
            "Epoch 54/100\n",
            "224/224 [==============================] - 278s 1s/step - loss: 0.7180 - acc: 0.7341 - val_loss: 0.9010 - val_acc: 0.6811\n",
            "Epoch 55/100\n",
            "224/224 [==============================] - 280s 1s/step - loss: 0.7084 - acc: 0.7402 - val_loss: 0.9100 - val_acc: 0.6718\n",
            "Epoch 56/100\n",
            "224/224 [==============================] - 279s 1s/step - loss: 0.7151 - acc: 0.7350 - val_loss: 0.9087 - val_acc: 0.6742\n",
            "Epoch 57/100\n",
            "224/224 [==============================] - 280s 1s/step - loss: 0.7044 - acc: 0.7394 - val_loss: 0.9017 - val_acc: 0.6790\n",
            "Epoch 58/100\n",
            "224/224 [==============================] - 281s 1s/step - loss: 0.7020 - acc: 0.7414 - val_loss: 0.9016 - val_acc: 0.6829\n",
            "Epoch 59/100\n",
            "224/224 [==============================] - 281s 1s/step - loss: 0.6950 - acc: 0.7453 - val_loss: 0.9054 - val_acc: 0.6759\n",
            "Epoch 60/100\n",
            "224/224 [==============================] - 280s 1s/step - loss: 0.6959 - acc: 0.7431 - val_loss: 0.9143 - val_acc: 0.6748\n",
            "Epoch 61/100\n",
            "224/224 [==============================] - 278s 1s/step - loss: 0.6908 - acc: 0.7446 - val_loss: 0.9013 - val_acc: 0.6823\n",
            "Epoch 62/100\n",
            "224/224 [==============================] - 278s 1s/step - loss: 0.6880 - acc: 0.7458 - val_loss: 0.9273 - val_acc: 0.6730\n",
            "Epoch 63/100\n",
            "224/224 [==============================] - 280s 1s/step - loss: 0.6937 - acc: 0.7436 - val_loss: 0.8934 - val_acc: 0.6898\n",
            "Epoch 64/100\n",
            "224/224 [==============================] - 283s 1s/step - loss: 0.6793 - acc: 0.7489 - val_loss: 0.9183 - val_acc: 0.6799\n",
            "Epoch 65/100\n",
            "224/224 [==============================] - 279s 1s/step - loss: 0.6899 - acc: 0.7455 - val_loss: 0.8907 - val_acc: 0.6763\n",
            "Epoch 66/100\n",
            "224/224 [==============================] - 279s 1s/step - loss: 0.6707 - acc: 0.7521 - val_loss: 0.9061 - val_acc: 0.6895\n",
            "Epoch 67/100\n",
            "224/224 [==============================] - 276s 1s/step - loss: 0.6827 - acc: 0.7506 - val_loss: 0.8908 - val_acc: 0.6769\n",
            "Epoch 68/100\n",
            "224/224 [==============================] - 270s 1s/step - loss: 0.6740 - acc: 0.7527 - val_loss: 0.9184 - val_acc: 0.6817\n",
            "Epoch 69/100\n",
            "224/224 [==============================] - 271s 1s/step - loss: 0.6720 - acc: 0.7536 - val_loss: 0.9218 - val_acc: 0.6718\n",
            "Epoch 70/100\n",
            "224/224 [==============================] - 267s 1s/step - loss: 0.6635 - acc: 0.7572 - val_loss: 0.9007 - val_acc: 0.6868\n",
            "Epoch 71/100\n",
            "224/224 [==============================] - 268s 1s/step - loss: 0.6611 - acc: 0.7588 - val_loss: 0.8952 - val_acc: 0.6895\n",
            "Epoch 72/100\n",
            "224/224 [==============================] - 272s 1s/step - loss: 0.6632 - acc: 0.7594 - val_loss: 0.9061 - val_acc: 0.6826\n",
            "Epoch 73/100\n",
            "224/224 [==============================] - 266s 1s/step - loss: 0.6675 - acc: 0.7554 - val_loss: 0.9063 - val_acc: 0.6858\n",
            "\n",
            "Epoch 00073: ReduceLROnPlateau reducing learning rate to 0.0024999999441206455.\n",
            "Epoch 74/100\n",
            "224/224 [==============================] - 263s 1s/step - loss: 0.6525 - acc: 0.7586 - val_loss: 0.9041 - val_acc: 0.6841\n",
            "Epoch 75/100\n",
            "224/224 [==============================] - 267s 1s/step - loss: 0.6463 - acc: 0.7656 - val_loss: 0.8993 - val_acc: 0.6868\n",
            "Epoch 76/100\n",
            "224/224 [==============================] - 271s 1s/step - loss: 0.6530 - acc: 0.7581 - val_loss: 0.9189 - val_acc: 0.6784\n",
            "Epoch 77/100\n",
            "224/224 [==============================] - 274s 1s/step - loss: 0.6470 - acc: 0.7630 - val_loss: 0.9108 - val_acc: 0.6838\n",
            "Epoch 78/100\n",
            "224/224 [==============================] - 273s 1s/step - loss: 0.6494 - acc: 0.7613 - val_loss: 0.8904 - val_acc: 0.6841\n",
            "Epoch 79/100\n",
            "224/224 [==============================] - 263s 1s/step - loss: 0.6377 - acc: 0.7650 - val_loss: 0.9153 - val_acc: 0.6835\n",
            "Epoch 80/100\n",
            "224/224 [==============================] - 260s 1s/step - loss: 0.6436 - acc: 0.7626 - val_loss: 0.9251 - val_acc: 0.6721\n",
            "Epoch 81/100\n",
            "224/224 [==============================] - 264s 1s/step - loss: 0.6381 - acc: 0.7684 - val_loss: 0.8768 - val_acc: 0.6934\n",
            "Epoch 82/100\n",
            "224/224 [==============================] - 257s 1s/step - loss: 0.6366 - acc: 0.7644 - val_loss: 0.9288 - val_acc: 0.6736\n",
            "Epoch 83/100\n",
            "224/224 [==============================] - 259s 1s/step - loss: 0.6393 - acc: 0.7639 - val_loss: 0.8914 - val_acc: 0.6859\n",
            "Epoch 84/100\n",
            "224/224 [==============================] - 259s 1s/step - loss: 0.6284 - acc: 0.7684 - val_loss: 0.9290 - val_acc: 0.6823\n",
            "Epoch 85/100\n",
            "224/224 [==============================] - 274s 1s/step - loss: 0.6313 - acc: 0.7681 - val_loss: 0.8921 - val_acc: 0.6910\n",
            "Epoch 86/100\n",
            "224/224 [==============================] - 277s 1s/step - loss: 0.6319 - acc: 0.7676 - val_loss: 0.9117 - val_acc: 0.6841\n",
            "Epoch 87/100\n",
            "224/224 [==============================] - 282s 1s/step - loss: 0.6361 - acc: 0.7694 - val_loss: 0.8965 - val_acc: 0.6877\n",
            "Epoch 88/100\n",
            "224/224 [==============================] - 283s 1s/step - loss: 0.6225 - acc: 0.7740 - val_loss: 0.9122 - val_acc: 0.6814\n",
            "Epoch 89/100\n",
            "224/224 [==============================] - 284s 1s/step - loss: 0.6243 - acc: 0.7723 - val_loss: 0.9073 - val_acc: 0.6838\n",
            "Epoch 90/100\n",
            "224/224 [==============================] - 285s 1s/step - loss: 0.6230 - acc: 0.7715 - val_loss: 0.9017 - val_acc: 0.6805\n",
            "Epoch 91/100\n",
            "224/224 [==============================] - 286s 1s/step - loss: 0.6352 - acc: 0.7660 - val_loss: 0.9261 - val_acc: 0.6817\n",
            "\n",
            "Epoch 00091: ReduceLROnPlateau reducing learning rate to 0.0012499999720603228.\n",
            "Epoch 92/100\n",
            "224/224 [==============================] - 281s 1s/step - loss: 0.6270 - acc: 0.7743 - val_loss: 0.9010 - val_acc: 0.6910\n",
            "Epoch 93/100\n",
            "224/224 [==============================] - 275s 1s/step - loss: 0.6196 - acc: 0.7741 - val_loss: 0.9126 - val_acc: 0.6781\n",
            "Epoch 94/100\n",
            "224/224 [==============================] - 274s 1s/step - loss: 0.6215 - acc: 0.7722 - val_loss: 0.8943 - val_acc: 0.6901\n",
            "Epoch 95/100\n",
            "224/224 [==============================] - 273s 1s/step - loss: 0.6155 - acc: 0.7756 - val_loss: 0.8957 - val_acc: 0.6871\n",
            "Epoch 96/100\n",
            "224/224 [==============================] - 274s 1s/step - loss: 0.6228 - acc: 0.7720 - val_loss: 0.9366 - val_acc: 0.6862\n",
            "Epoch 97/100\n",
            "224/224 [==============================] - 276s 1s/step - loss: 0.6188 - acc: 0.7734 - val_loss: 0.8737 - val_acc: 0.6859\n",
            "Epoch 98/100\n",
            "224/224 [==============================] - 275s 1s/step - loss: 0.6147 - acc: 0.7749 - val_loss: 0.9272 - val_acc: 0.6757\n",
            "Epoch 99/100\n",
            "224/224 [==============================] - 270s 1s/step - loss: 0.6160 - acc: 0.7767 - val_loss: 0.8895 - val_acc: 0.6949\n",
            "Epoch 100/100\n",
            "224/224 [==============================] - 274s 1s/step - loss: 0.6142 - acc: 0.7737 - val_loss: 0.9235 - val_acc: 0.6820\n"
          ],
          "name": "stdout"
        }
      ]
    },
    {
      "cell_type": "code",
      "metadata": {
        "outputId": "df3b0590-fdfc-4c68-9140-b127fea4e193",
        "colab": {
          "base_uri": "https://localhost:8080/",
          "height": 71
        },
        "id": "Fktx26ej3qWs"
      },
      "source": [
        "print('\\n# Evaluate on dev data')\n",
        "results_dev = vgg_model.evaluate_generator(dev_generator, 3509 // batch_size)\n",
        "print('dev loss, dev acc:', results_dev)"
      ],
      "execution_count": null,
      "outputs": [
        {
          "output_type": "stream",
          "text": [
            "\n",
            "# Evaluate on dev data\n",
            "dev loss, dev acc: [0.9100893073611789, 0.6863425925925926]\n"
          ],
          "name": "stdout"
        }
      ]
    },
    {
      "cell_type": "code",
      "metadata": {
        "outputId": "d11d8882-bc2b-49f0-eb20-aa1562b19169",
        "colab": {
          "base_uri": "https://localhost:8080/",
          "height": 71
        },
        "id": "0M_TS8zM3qWt"
      },
      "source": [
        "print('\\n# Evaluate on test data')\n",
        "results_test = vgg_model.evaluate_generator(test_generator, 3509 // batch_size)\n",
        "print('test loss, test acc:', results_test)"
      ],
      "execution_count": null,
      "outputs": [
        {
          "output_type": "stream",
          "text": [
            "\n",
            "# Evaluate on test data\n",
            "test loss, test acc: [0.8456436241114581, 0.7022569444444444]\n"
          ],
          "name": "stdout"
        }
      ]
    },
    {
      "cell_type": "code",
      "metadata": {
        "outputId": "24f0c0b2-1d35-4ee9-d804-b746a01bfae1",
        "colab": {
          "base_uri": "https://localhost:8080/",
          "height": 591
        },
        "id": "9zedS3Nq3qWu"
      },
      "source": [
        "# list all data in history\n",
        "print(history.history.keys())\n",
        "\n",
        "plt.plot(history.history['acc'])\n",
        "plt.plot(history.history['val_acc'])\n",
        "plt.title('model accuracy')\n",
        "plt.ylabel('accuracy')\n",
        "plt.xlabel('epoch')\n",
        "plt.legend(['train', 'dev'], loc='upper left')\n",
        "plt.show()\n",
        "\n",
        "plt.plot(history.history['loss'])\n",
        "plt.plot(history.history['val_loss'])\n",
        "plt.title('model loss')\n",
        "plt.ylabel('loss')\n",
        "plt.xlabel('epoch')\n",
        "plt.legend(['train', 'dev'], loc='upper left')\n",
        "plt.show()"
      ],
      "execution_count": null,
      "outputs": [
        {
          "output_type": "stream",
          "text": [
            "dict_keys(['val_loss', 'val_acc', 'loss', 'acc', 'lr'])\n"
          ],
          "name": "stdout"
        },
        {
          "output_type": "display_data",
          "data": {
            "image/png": "[encoded data removed]",
            "text/plain": [
              "<Figure size 432x288 with 1 Axes>"
            ]
          },
          "metadata": {
            "tags": []
          }
        },
        {
          "output_type": "display_data",
          "data": {
            "image/png": "[encoded data removed]",
            "text/plain": [
              "<Figure size 432x288 with 1 Axes>"
            ]
          },
          "metadata": {
            "tags": []
          }
        }
      ]
    },
    {
      "cell_type": "markdown",
      "source": [
        "##### Using Class Weights"
      ],
      "metadata": {
        "id": "uMKDADCjteud"
      }
    },
    {
      "cell_type": "code",
      "metadata": {
        "id": "Bg_dtpd4tsIL"
      },
      "source": [
        "epochs = 100\n",
        "batch_size = 128\n",
        "dropout_rate = 0.5\n",
        "FROZEN_LAYER_NUM = 19\n",
        "lr = 0.01\n",
        "decay = 0.0001\n",
        "Resize_pixelsize = 197"
      ],
      "execution_count": null,
      "outputs": []
    },
    {
      "cell_type": "code",
      "metadata": {
        "outputId": "99c2a8c4-46ad-41f9-fcc9-bdd5a5c0f1b4",
        "colab": {
          "base_uri": "https://localhost:8080/",
          "height": 1000
        },
        "id": "A-6jGBPktsIL"
      },
      "source": [
        "vgg_notop = VGGFace(model='vgg16', include_top=False, input_shape=(Resize_pixelsize, Resize_pixelsize, 3), pooling='avg')\n",
        "print(vgg_notop.summary())\n",
        "last_layer = vgg_notop.get_layer('pool5').output\n",
        "x = Flatten(name='flatten')(last_layer)\n",
        "x = Dropout(dropout_rate)(x)\n",
        "x = Dense(4096, activation='relu', name='fc6')(x)\n",
        "x = Dropout(dropout_rate)(x)\n",
        "x = Dense(1024, activation='relu', name='fc7')(x)\n",
        "\n",
        "for i in range(FROZEN_LAYER_NUM):\n",
        "    vgg_notop.layers[i].trainable = False\n",
        "\n",
        "print(vgg_notop.get_layer('pool5').trainable)\n",
        "\n",
        "out = Dense(7, activation='softmax', name='classifier')(x)\n",
        "\n",
        "vgg_model_cweights = Model(vgg_notop.input, out)\n",
        "\n",
        "\n",
        "optim = keras.optimizers.Adam(lr=ADAM_LEARNING_RATE, beta_1=0.9, beta_2=0.999, epsilon=1e-08, decay=0.0)\n",
        "#optim = keras.optimizers.Adam(lr=0.0005, beta_1=0.9, beta_2=0.999, epsilon=1e-08, decay=0.0)\n",
        "sgd = keras.optimizers.SGD(lr=lr, momentum=0.9, decay=decay, nesterov=True)\n",
        "rlrop = keras.callbacks.ReduceLROnPlateau(monitor='val_acc',mode='max',factor=0.5, patience=10, min_lr=0.00001, verbose=1)\n",
        "\n",
        "vgg_model_cweights.compile(optimizer=sgd, loss='categorical_crossentropy', metrics=['accuracy'])"
      ],
      "execution_count": null,
      "outputs": [
        {
          "output_type": "stream",
          "text": [
            "WARNING:tensorflow:From /usr/local/lib/python3.6/dist-packages/keras/backend/tensorflow_backend.py:66: The name tf.get_default_graph is deprecated. Please use tf.compat.v1.get_default_graph instead.\n",
            "\n",
            "WARNING:tensorflow:From /usr/local/lib/python3.6/dist-packages/keras/backend/tensorflow_backend.py:541: The name tf.placeholder is deprecated. Please use tf.compat.v1.placeholder instead.\n",
            "\n",
            "WARNING:tensorflow:From /usr/local/lib/python3.6/dist-packages/keras/backend/tensorflow_backend.py:4432: The name tf.random_uniform is deprecated. Please use tf.random.uniform instead.\n",
            "\n",
            "WARNING:tensorflow:From /usr/local/lib/python3.6/dist-packages/keras/backend/tensorflow_backend.py:4267: The name tf.nn.max_pool is deprecated. Please use tf.nn.max_pool2d instead.\n",
            "\n",
            "Downloading data from https://github.com/rcmalli/keras-vggface/releases/download/v2.0/rcmalli_vggface_tf_notop_vgg16.h5\n",
            "58916864/58909280 [==============================] - 1s 0us/step\n",
            "WARNING:tensorflow:From /usr/local/lib/python3.6/dist-packages/keras/backend/tensorflow_backend.py:190: The name tf.get_default_session is deprecated. Please use tf.compat.v1.get_default_session instead.\n",
            "\n",
            "WARNING:tensorflow:From /usr/local/lib/python3.6/dist-packages/keras/backend/tensorflow_backend.py:197: The name tf.ConfigProto is deprecated. Please use tf.compat.v1.ConfigProto instead.\n",
            "\n",
            "WARNING:tensorflow:From /usr/local/lib/python3.6/dist-packages/keras/backend/tensorflow_backend.py:203: The name tf.Session is deprecated. Please use tf.compat.v1.Session instead.\n",
            "\n",
            "WARNING:tensorflow:From /usr/local/lib/python3.6/dist-packages/keras/backend/tensorflow_backend.py:207: The name tf.global_variables is deprecated. Please use tf.compat.v1.global_variables instead.\n",
            "\n",
            "WARNING:tensorflow:From /usr/local/lib/python3.6/dist-packages/keras/backend/tensorflow_backend.py:216: The name tf.is_variable_initialized is deprecated. Please use tf.compat.v1.is_variable_initialized instead.\n",
            "\n",
            "WARNING:tensorflow:From /usr/local/lib/python3.6/dist-packages/keras/backend/tensorflow_backend.py:223: The name tf.variables_initializer is deprecated. Please use tf.compat.v1.variables_initializer instead.\n",
            "\n",
            "Model: \"vggface_vgg16\"\n",
            "_________________________________________________________________\n",
            "Layer (type)                 Output Shape              Param #   \n",
            "=================================================================\n",
            "input_1 (InputLayer)         (None, 197, 197, 3)       0         \n",
            "_________________________________________________________________\n",
            "conv1_1 (Conv2D)             (None, 197, 197, 64)      1792      \n",
            "_________________________________________________________________\n",
            "conv1_2 (Conv2D)             (None, 197, 197, 64)      36928     \n",
            "_________________________________________________________________\n",
            "pool1 (MaxPooling2D)         (None, 98, 98, 64)        0         \n",
            "_________________________________________________________________\n",
            "conv2_1 (Conv2D)             (None, 98, 98, 128)       73856     \n",
            "_________________________________________________________________\n",
            "conv2_2 (Conv2D)             (None, 98, 98, 128)       147584    \n",
            "_________________________________________________________________\n",
            "pool2 (MaxPooling2D)         (None, 49, 49, 128)       0         \n",
            "_________________________________________________________________\n",
            "conv3_1 (Conv2D)             (None, 49, 49, 256)       295168    \n",
            "_________________________________________________________________\n",
            "conv3_2 (Conv2D)             (None, 49, 49, 256)       590080    \n",
            "_________________________________________________________________\n",
            "conv3_3 (Conv2D)             (None, 49, 49, 256)       590080    \n",
            "_________________________________________________________________\n",
            "pool3 (MaxPooling2D)         (None, 24, 24, 256)       0         \n",
            "_________________________________________________________________\n",
            "conv4_1 (Conv2D)             (None, 24, 24, 512)       1180160   \n",
            "_________________________________________________________________\n",
            "conv4_2 (Conv2D)             (None, 24, 24, 512)       2359808   \n",
            "_________________________________________________________________\n",
            "conv4_3 (Conv2D)             (None, 24, 24, 512)       2359808   \n",
            "_________________________________________________________________\n",
            "pool4 (MaxPooling2D)         (None, 12, 12, 512)       0         \n",
            "_________________________________________________________________\n",
            "conv5_1 (Conv2D)             (None, 12, 12, 512)       2359808   \n",
            "_________________________________________________________________\n",
            "conv5_2 (Conv2D)             (None, 12, 12, 512)       2359808   \n",
            "_________________________________________________________________\n",
            "conv5_3 (Conv2D)             (None, 12, 12, 512)       2359808   \n",
            "_________________________________________________________________\n",
            "pool5 (MaxPooling2D)         (None, 6, 6, 512)         0         \n",
            "_________________________________________________________________\n",
            "global_average_pooling2d_1 ( (None, 512)               0         \n",
            "=================================================================\n",
            "Total params: 14,714,688\n",
            "Trainable params: 14,714,688\n",
            "Non-trainable params: 0\n",
            "_________________________________________________________________\n",
            "None\n",
            "WARNING:tensorflow:From /usr/local/lib/python3.6/dist-packages/keras/backend/tensorflow_backend.py:148: The name tf.placeholder_with_default is deprecated. Please use tf.compat.v1.placeholder_with_default instead.\n",
            "\n",
            "WARNING:tensorflow:From /usr/local/lib/python3.6/dist-packages/keras/backend/tensorflow_backend.py:3733: calling dropout (from tensorflow.python.ops.nn_ops) with keep_prob is deprecated and will be removed in a future version.\n",
            "Instructions for updating:\n",
            "Please use `rate` instead of `keep_prob`. Rate should be set to `rate = 1 - keep_prob`.\n",
            "False\n",
            "WARNING:tensorflow:From /usr/local/lib/python3.6/dist-packages/keras/optimizers.py:793: The name tf.train.Optimizer is deprecated. Please use tf.compat.v1.train.Optimizer instead.\n",
            "\n",
            "WARNING:tensorflow:From /usr/local/lib/python3.6/dist-packages/keras/backend/tensorflow_backend.py:3576: The name tf.log is deprecated. Please use tf.math.log instead.\n",
            "\n"
          ],
          "name": "stdout"
        }
      ]
    },
    {
      "cell_type": "code",
      "metadata": {
        "id": "i-7XTc9jtsIM"
      },
      "source": [
        "from sklearn.utils import class_weight\n",
        "file_stream = file_io.FileIO('/content/drive/My Drive/cs230 project/collab/fer2013/dev.csv', mode='r')\n",
        "data = pd.read_csv(file_stream)\n",
        "data[' pixels'] = data[' pixels'].apply(lambda x: [int(pixel) for pixel in x.split()])\n",
        "X, Y = data[' pixels'].tolist(), data['emotion'].values\n",
        "class_weights = class_weight.compute_class_weight('balanced',\n",
        "                                                    np.unique(Y),\n",
        "                                                    Y)\n"
      ],
      "execution_count": null,
      "outputs": []
    },
    {
      "cell_type": "code",
      "metadata": {
        "colab": {
          "base_uri": "https://localhost:8080/",
          "height": 1000
        },
        "outputId": "44204244-5315-4a0c-aea9-ea3191fada5f",
        "id": "xgZvHpZ3tsIM"
      },
      "source": [
        "history = vgg_model_cweights.fit_generator( generator = train_generator, validation_data=dev_generator,  steps_per_epoch=28709// batch_size, validation_steps=3509 // batch_size, shuffle=True, epochs=epochs) "
      ],
      "execution_count": null,
      "outputs": [
        {
          "output_type": "stream",
          "text": [
            "WARNING:tensorflow:From /tensorflow-1.15.0/python3.6/tensorflow_core/python/ops/math_grad.py:1424: where (from tensorflow.python.ops.array_ops) is deprecated and will be removed in a future version.\n",
            "Instructions for updating:\n",
            "Use tf.where in 2.0, which has the same broadcast rule as np.where\n",
            "WARNING:tensorflow:From /usr/local/lib/python3.6/dist-packages/keras/backend/tensorflow_backend.py:1033: The name tf.assign_add is deprecated. Please use tf.compat.v1.assign_add instead.\n",
            "\n",
            "WARNING:tensorflow:From /usr/local/lib/python3.6/dist-packages/keras/backend/tensorflow_backend.py:1020: The name tf.assign is deprecated. Please use tf.compat.v1.assign instead.\n",
            "\n",
            "Epoch 1/100\n",
            "224/224 [==============================] - 284s 1s/step - loss: 1.4781 - acc: 0.4389 - val_loss: 1.1864 - val_acc: 0.5697\n",
            "Epoch 2/100\n",
            "224/224 [==============================] - 281s 1s/step - loss: 1.2229 - acc: 0.5462 - val_loss: 1.1079 - val_acc: 0.5995\n",
            "Epoch 3/100\n",
            "224/224 [==============================] - 282s 1s/step - loss: 1.1653 - acc: 0.5646 - val_loss: 1.0875 - val_acc: 0.5941\n",
            "Epoch 4/100\n",
            "224/224 [==============================] - 278s 1s/step - loss: 1.1312 - acc: 0.5803 - val_loss: 1.0588 - val_acc: 0.6040\n",
            "Epoch 5/100\n",
            "224/224 [==============================] - 274s 1s/step - loss: 1.1135 - acc: 0.5852 - val_loss: 1.0577 - val_acc: 0.6064\n",
            "Epoch 6/100\n",
            "224/224 [==============================] - 280s 1s/step - loss: 1.0772 - acc: 0.6017 - val_loss: 1.0191 - val_acc: 0.6133\n",
            "Epoch 7/100\n",
            "224/224 [==============================] - 279s 1s/step - loss: 1.0729 - acc: 0.6024 - val_loss: 1.0644 - val_acc: 0.5989\n",
            "Epoch 8/100\n",
            "224/224 [==============================] - 278s 1s/step - loss: 1.0493 - acc: 0.6138 - val_loss: 0.9737 - val_acc: 0.6379\n",
            "Epoch 9/100\n",
            "224/224 [==============================] - 281s 1s/step - loss: 1.0480 - acc: 0.6078 - val_loss: 1.0145 - val_acc: 0.6271\n",
            "Epoch 10/100\n",
            "224/224 [==============================] - 280s 1s/step - loss: 1.0351 - acc: 0.6102 - val_loss: 0.9961 - val_acc: 0.6253\n",
            "Epoch 11/100\n",
            "224/224 [==============================] - 279s 1s/step - loss: 1.0107 - acc: 0.6255 - val_loss: 1.0039 - val_acc: 0.6199\n",
            "Epoch 12/100\n",
            "224/224 [==============================] - 278s 1s/step - loss: 1.0048 - acc: 0.6233 - val_loss: 0.9722 - val_acc: 0.6412\n",
            "Epoch 13/100\n",
            "224/224 [==============================] - 276s 1s/step - loss: 0.9951 - acc: 0.6289 - val_loss: 0.9877 - val_acc: 0.6307\n",
            "Epoch 14/100\n",
            "224/224 [==============================] - 277s 1s/step - loss: 0.9875 - acc: 0.6333 - val_loss: 0.9813 - val_acc: 0.6304\n",
            "Epoch 15/100\n",
            "224/224 [==============================] - 281s 1s/step - loss: 0.9793 - acc: 0.6349 - val_loss: 0.9632 - val_acc: 0.6415\n",
            "Epoch 16/100\n",
            "224/224 [==============================] - 277s 1s/step - loss: 0.9633 - acc: 0.6399 - val_loss: 0.9672 - val_acc: 0.6448\n",
            "Epoch 17/100\n",
            "224/224 [==============================] - 274s 1s/step - loss: 0.9534 - acc: 0.6451 - val_loss: 0.9488 - val_acc: 0.6496\n",
            "Epoch 18/100\n",
            "224/224 [==============================] - 272s 1s/step - loss: 0.9503 - acc: 0.6456 - val_loss: 0.9625 - val_acc: 0.6427\n",
            "Epoch 19/100\n",
            "224/224 [==============================] - 275s 1s/step - loss: 0.9419 - acc: 0.6507 - val_loss: 0.9566 - val_acc: 0.6427\n",
            "Epoch 20/100\n",
            "224/224 [==============================] - 276s 1s/step - loss: 0.9386 - acc: 0.6538 - val_loss: 0.9426 - val_acc: 0.6520\n",
            "Epoch 21/100\n",
            "224/224 [==============================] - 272s 1s/step - loss: 0.9202 - acc: 0.6616 - val_loss: 0.9496 - val_acc: 0.6565\n",
            "Epoch 22/100\n",
            "224/224 [==============================] - 273s 1s/step - loss: 0.9217 - acc: 0.6571 - val_loss: 0.9526 - val_acc: 0.6538\n",
            "Epoch 23/100\n",
            "224/224 [==============================] - 272s 1s/step - loss: 0.9038 - acc: 0.6650 - val_loss: 0.9455 - val_acc: 0.6493\n",
            "Epoch 24/100\n",
            "224/224 [==============================] - 277s 1s/step - loss: 0.8997 - acc: 0.6640 - val_loss: 0.9184 - val_acc: 0.6631\n",
            "Epoch 25/100\n",
            "224/224 [==============================] - 281s 1s/step - loss: 0.8959 - acc: 0.6676 - val_loss: 0.9597 - val_acc: 0.6469\n",
            "Epoch 26/100\n",
            "224/224 [==============================] - 272s 1s/step - loss: 0.8835 - acc: 0.6704 - val_loss: 0.9351 - val_acc: 0.6532\n",
            "Epoch 27/100\n",
            "224/224 [==============================] - 270s 1s/step - loss: 0.8849 - acc: 0.6718 - val_loss: 0.9215 - val_acc: 0.6685\n",
            "Epoch 28/100\n",
            "224/224 [==============================] - 269s 1s/step - loss: 0.8763 - acc: 0.6744 - val_loss: 0.9404 - val_acc: 0.6604\n",
            "Epoch 29/100\n",
            "224/224 [==============================] - 265s 1s/step - loss: 0.8672 - acc: 0.6775 - val_loss: 0.9326 - val_acc: 0.6598\n",
            "Epoch 30/100\n",
            "224/224 [==============================] - 266s 1s/step - loss: 0.8598 - acc: 0.6808 - val_loss: 0.9274 - val_acc: 0.6606\n",
            "Epoch 31/100\n",
            "224/224 [==============================] - 269s 1s/step - loss: 0.8483 - acc: 0.6852 - val_loss: 0.9421 - val_acc: 0.6559\n",
            "Epoch 32/100\n",
            "224/224 [==============================] - 268s 1s/step - loss: 0.8522 - acc: 0.6833 - val_loss: 0.9111 - val_acc: 0.6691\n",
            "Epoch 33/100\n",
            "224/224 [==============================] - 270s 1s/step - loss: 0.8331 - acc: 0.6899 - val_loss: 0.9311 - val_acc: 0.6625\n",
            "Epoch 34/100\n",
            "224/224 [==============================] - 268s 1s/step - loss: 0.8371 - acc: 0.6892 - val_loss: 0.9122 - val_acc: 0.6733\n",
            "Epoch 35/100\n",
            "224/224 [==============================] - 263s 1s/step - loss: 0.8212 - acc: 0.6951 - val_loss: 0.9051 - val_acc: 0.6757\n",
            "Epoch 36/100\n",
            "224/224 [==============================] - 260s 1s/step - loss: 0.8185 - acc: 0.6998 - val_loss: 0.9320 - val_acc: 0.6592\n",
            "Epoch 37/100\n",
            "224/224 [==============================] - 259s 1s/step - loss: 0.8096 - acc: 0.7001 - val_loss: 0.9277 - val_acc: 0.6688\n",
            "Epoch 38/100\n",
            "224/224 [==============================] - 261s 1s/step - loss: 0.8120 - acc: 0.6984 - val_loss: 0.8756 - val_acc: 0.6844\n",
            "Epoch 39/100\n",
            "224/224 [==============================] - 259s 1s/step - loss: 0.7976 - acc: 0.7040 - val_loss: 0.9057 - val_acc: 0.6649\n",
            "Epoch 40/100\n",
            "224/224 [==============================] - 262s 1s/step - loss: 0.7962 - acc: 0.7074 - val_loss: 0.9317 - val_acc: 0.6619\n",
            "Epoch 41/100\n",
            "224/224 [==============================] - 260s 1s/step - loss: 0.7889 - acc: 0.7085 - val_loss: 0.9011 - val_acc: 0.6823\n",
            "Epoch 42/100\n",
            "224/224 [==============================] - 262s 1s/step - loss: 0.7846 - acc: 0.7095 - val_loss: 0.9168 - val_acc: 0.6712\n",
            "Epoch 43/100\n",
            "224/224 [==============================] - 263s 1s/step - loss: 0.7753 - acc: 0.7137 - val_loss: 0.9110 - val_acc: 0.6712\n",
            "Epoch 44/100\n",
            "224/224 [==============================] - 261s 1s/step - loss: 0.7728 - acc: 0.7129 - val_loss: 0.9079 - val_acc: 0.6794\n",
            "Epoch 45/100\n",
            "224/224 [==============================] - 260s 1s/step - loss: 0.7698 - acc: 0.7131 - val_loss: 0.9094 - val_acc: 0.6757\n",
            "Epoch 46/100\n",
            "224/224 [==============================] - 263s 1s/step - loss: 0.7594 - acc: 0.7184 - val_loss: 0.9159 - val_acc: 0.6697\n",
            "Epoch 47/100\n",
            "224/224 [==============================] - 261s 1s/step - loss: 0.7540 - acc: 0.7249 - val_loss: 0.9004 - val_acc: 0.6766\n",
            "Epoch 48/100\n",
            "224/224 [==============================] - 259s 1s/step - loss: 0.7481 - acc: 0.7217 - val_loss: 0.9197 - val_acc: 0.6655\n",
            "\n",
            "Epoch 00048: ReduceLROnPlateau reducing learning rate to 0.004999999888241291.\n",
            "Epoch 49/100\n",
            "224/224 [==============================] - 258s 1s/step - loss: 0.7277 - acc: 0.7296 - val_loss: 0.8890 - val_acc: 0.6940\n",
            "Epoch 50/100\n",
            "224/224 [==============================] - 260s 1s/step - loss: 0.7273 - acc: 0.7309 - val_loss: 0.9133 - val_acc: 0.6706\n",
            "Epoch 51/100\n",
            "224/224 [==============================] - 259s 1s/step - loss: 0.7223 - acc: 0.7352 - val_loss: 0.8978 - val_acc: 0.6832\n",
            "Epoch 52/100\n",
            "224/224 [==============================] - 257s 1s/step - loss: 0.7163 - acc: 0.7379 - val_loss: 0.9013 - val_acc: 0.6745\n",
            "Epoch 53/100\n",
            "224/224 [==============================] - 258s 1s/step - loss: 0.7134 - acc: 0.7385 - val_loss: 0.8924 - val_acc: 0.6877\n",
            "Epoch 54/100\n",
            "224/224 [==============================] - 261s 1s/step - loss: 0.7096 - acc: 0.7372 - val_loss: 0.9000 - val_acc: 0.6697\n",
            "Epoch 55/100\n",
            "224/224 [==============================] - 263s 1s/step - loss: 0.6954 - acc: 0.7450 - val_loss: 0.9115 - val_acc: 0.6838\n",
            "Epoch 56/100\n",
            "224/224 [==============================] - 263s 1s/step - loss: 0.7049 - acc: 0.7386 - val_loss: 0.9114 - val_acc: 0.6775\n",
            "Epoch 57/100\n",
            "224/224 [==============================] - 261s 1s/step - loss: 0.7028 - acc: 0.7383 - val_loss: 0.9013 - val_acc: 0.6838\n",
            "Epoch 58/100\n",
            "224/224 [==============================] - 258s 1s/step - loss: 0.6911 - acc: 0.7460 - val_loss: 0.9085 - val_acc: 0.6775\n",
            "Epoch 59/100\n",
            "224/224 [==============================] - 258s 1s/step - loss: 0.6932 - acc: 0.7431 - val_loss: 0.9038 - val_acc: 0.6837\n",
            "\n",
            "Epoch 00059: ReduceLROnPlateau reducing learning rate to 0.0024999999441206455.\n",
            "Epoch 60/100\n",
            "224/224 [==============================] - 256s 1s/step - loss: 0.6948 - acc: 0.7450 - val_loss: 0.8987 - val_acc: 0.6799\n",
            "Epoch 61/100\n",
            "224/224 [==============================] - 256s 1s/step - loss: 0.6753 - acc: 0.7513 - val_loss: 0.9053 - val_acc: 0.6802\n",
            "Epoch 62/100\n",
            "224/224 [==============================] - 255s 1s/step - loss: 0.6784 - acc: 0.7518 - val_loss: 0.9149 - val_acc: 0.6787\n",
            "Epoch 63/100\n",
            "224/224 [==============================] - 254s 1s/step - loss: 0.6659 - acc: 0.7551 - val_loss: 0.8971 - val_acc: 0.6811\n",
            "Epoch 64/100\n",
            "224/224 [==============================] - 254s 1s/step - loss: 0.6737 - acc: 0.7521 - val_loss: 0.9130 - val_acc: 0.6862\n",
            "Epoch 65/100\n",
            "224/224 [==============================] - 256s 1s/step - loss: 0.6745 - acc: 0.7539 - val_loss: 0.8948 - val_acc: 0.6724\n",
            "Epoch 66/100\n",
            "224/224 [==============================] - 254s 1s/step - loss: 0.6701 - acc: 0.7552 - val_loss: 0.9021 - val_acc: 0.6892\n",
            "Epoch 67/100\n",
            "224/224 [==============================] - 274s 1s/step - loss: 0.6656 - acc: 0.7537 - val_loss: 0.8874 - val_acc: 0.6892\n",
            "Epoch 68/100\n",
            "224/224 [==============================] - 272s 1s/step - loss: 0.6686 - acc: 0.7569 - val_loss: 0.9203 - val_acc: 0.6709\n",
            "Epoch 69/100\n",
            "224/224 [==============================] - 275s 1s/step - loss: 0.6660 - acc: 0.7563 - val_loss: 0.9088 - val_acc: 0.6775\n",
            "\n",
            "Epoch 00069: ReduceLROnPlateau reducing learning rate to 0.0012499999720603228.\n",
            "Epoch 70/100\n",
            "224/224 [==============================] - 277s 1s/step - loss: 0.6620 - acc: 0.7561 - val_loss: 0.9038 - val_acc: 0.6811\n",
            "Epoch 71/100\n",
            "224/224 [==============================] - 277s 1s/step - loss: 0.6610 - acc: 0.7554 - val_loss: 0.9021 - val_acc: 0.6802\n",
            "Epoch 72/100\n",
            "224/224 [==============================] - 276s 1s/step - loss: 0.6554 - acc: 0.7598 - val_loss: 0.8998 - val_acc: 0.6835\n",
            "Epoch 73/100\n",
            "224/224 [==============================] - 277s 1s/step - loss: 0.6557 - acc: 0.7601 - val_loss: 0.9030 - val_acc: 0.6829\n",
            "Epoch 74/100\n",
            "224/224 [==============================] - 277s 1s/step - loss: 0.6616 - acc: 0.7575 - val_loss: 0.9163 - val_acc: 0.6769\n",
            "Epoch 75/100\n",
            "224/224 [==============================] - 277s 1s/step - loss: 0.6512 - acc: 0.7628 - val_loss: 0.8870 - val_acc: 0.6889\n",
            "Epoch 76/100\n",
            "224/224 [==============================] - 277s 1s/step - loss: 0.6550 - acc: 0.7590 - val_loss: 0.9364 - val_acc: 0.6751\n",
            "Epoch 77/100\n",
            "224/224 [==============================] - 276s 1s/step - loss: 0.6676 - acc: 0.7543 - val_loss: 0.8947 - val_acc: 0.6766\n",
            "Epoch 78/100\n",
            "224/224 [==============================] - 277s 1s/step - loss: 0.6568 - acc: 0.7627 - val_loss: 0.8884 - val_acc: 0.6871\n",
            "Epoch 79/100\n",
            "224/224 [==============================] - 277s 1s/step - loss: 0.6526 - acc: 0.7609 - val_loss: 0.9081 - val_acc: 0.6817\n",
            "\n",
            "Epoch 00079: ReduceLROnPlateau reducing learning rate to 0.0006249999860301614.\n",
            "Epoch 80/100\n",
            "224/224 [==============================] - 278s 1s/step - loss: 0.6521 - acc: 0.7604 - val_loss: 0.9012 - val_acc: 0.6823\n",
            "Epoch 81/100\n",
            "224/224 [==============================] - 275s 1s/step - loss: 0.6561 - acc: 0.7614 - val_loss: 0.9229 - val_acc: 0.6688\n",
            "Epoch 82/100\n",
            "224/224 [==============================] - 274s 1s/step - loss: 0.6499 - acc: 0.7642 - val_loss: 0.8899 - val_acc: 0.6853\n",
            "Epoch 83/100\n",
            "224/224 [==============================] - 275s 1s/step - loss: 0.6519 - acc: 0.7597 - val_loss: 0.8844 - val_acc: 0.6841\n",
            "Epoch 84/100\n",
            "224/224 [==============================] - 278s 1s/step - loss: 0.6525 - acc: 0.7608 - val_loss: 0.9141 - val_acc: 0.6745\n",
            "Epoch 85/100\n",
            "224/224 [==============================] - 276s 1s/step - loss: 0.6475 - acc: 0.7630 - val_loss: 0.9201 - val_acc: 0.6820\n",
            "Epoch 86/100\n",
            "224/224 [==============================] - 270s 1s/step - loss: 0.6462 - acc: 0.7632 - val_loss: 0.8911 - val_acc: 0.6796\n",
            "Epoch 87/100\n",
            "224/224 [==============================] - 276s 1s/step - loss: 0.6563 - acc: 0.7611 - val_loss: 0.9100 - val_acc: 0.6784\n",
            "Epoch 88/100\n",
            "224/224 [==============================] - 277s 1s/step - loss: 0.6420 - acc: 0.7631 - val_loss: 0.9055 - val_acc: 0.6823\n",
            "Epoch 89/100\n",
            "224/224 [==============================] - 276s 1s/step - loss: 0.6534 - acc: 0.7584 - val_loss: 0.8978 - val_acc: 0.6832\n",
            "\n",
            "Epoch 00089: ReduceLROnPlateau reducing learning rate to 0.0003124999930150807.\n",
            "Epoch 90/100\n",
            "224/224 [==============================] - 277s 1s/step - loss: 0.6451 - acc: 0.7645 - val_loss: 0.9131 - val_acc: 0.6799\n",
            "Epoch 91/100\n",
            "224/224 [==============================] - 276s 1s/step - loss: 0.6455 - acc: 0.7651 - val_loss: 0.9120 - val_acc: 0.6814\n",
            "Epoch 92/100\n",
            "224/224 [==============================] - 277s 1s/step - loss: 0.6453 - acc: 0.7640 - val_loss: 0.9056 - val_acc: 0.6778\n",
            "Epoch 93/100\n",
            "224/224 [==============================] - 275s 1s/step - loss: 0.6451 - acc: 0.7668 - val_loss: 0.8986 - val_acc: 0.6877\n",
            "Epoch 94/100\n",
            "224/224 [==============================] - 277s 1s/step - loss: 0.6545 - acc: 0.7601 - val_loss: 0.9133 - val_acc: 0.6784\n",
            "Epoch 95/100\n",
            "224/224 [==============================] - 278s 1s/step - loss: 0.6434 - acc: 0.7637 - val_loss: 0.9048 - val_acc: 0.6754\n",
            "Epoch 96/100\n",
            "224/224 [==============================] - 278s 1s/step - loss: 0.6464 - acc: 0.7632 - val_loss: 0.8983 - val_acc: 0.6883\n",
            "Epoch 97/100\n",
            "224/224 [==============================] - 278s 1s/step - loss: 0.6459 - acc: 0.7645 - val_loss: 0.9032 - val_acc: 0.6802\n",
            "Epoch 98/100\n",
            "224/224 [==============================] - 278s 1s/step - loss: 0.6534 - acc: 0.7603 - val_loss: 0.8945 - val_acc: 0.6841\n",
            "Epoch 99/100\n",
            "224/224 [==============================] - 280s 1s/step - loss: 0.6427 - acc: 0.7635 - val_loss: 0.9116 - val_acc: 0.6781\n",
            "\n",
            "Epoch 00099: ReduceLROnPlateau reducing learning rate to 0.00015624999650754035.\n",
            "Epoch 100/100\n",
            "224/224 [==============================] - 280s 1s/step - loss: 0.6407 - acc: 0.7634 - val_loss: 0.9049 - val_acc: 0.6841\n"
          ],
          "name": "stdout"
        }
      ]
    },
    {
      "cell_type": "code",
      "metadata": {
        "colab": {
          "base_uri": "https://localhost:8080/",
          "height": 71
        },
        "outputId": "873b49fc-2e5a-4e8d-c905-9c52e3e5018e",
        "id": "aN-PCwQFtsIM"
      },
      "source": [
        "print('\\n# Evaluate on dev data')\n",
        "results_dev = vgg_model_cweights.evaluate_generator(dev_generator, 3509 // batch_size)\n",
        "print('dev loss, dev acc:', results_dev)"
      ],
      "execution_count": null,
      "outputs": [
        {
          "output_type": "stream",
          "text": [
            "\n",
            "# Evaluate on dev data\n",
            "dev loss, dev acc: [0.9088092004811322, 0.6805555555555556]\n"
          ],
          "name": "stdout"
        }
      ]
    },
    {
      "cell_type": "code",
      "metadata": {
        "colab": {
          "base_uri": "https://localhost:8080/",
          "height": 71
        },
        "outputId": "86e7436d-7ac5-44b1-9ccd-428baa2f294e",
        "id": "xKhxbo6jtsIM"
      },
      "source": [
        "print('\\n# Evaluate on test data')\n",
        "results_test = vgg_model_cweights.evaluate_generator(test_generator, 3509 // batch_size)\n",
        "print('test loss, test acc:', results_test)"
      ],
      "execution_count": null,
      "outputs": [
        {
          "output_type": "stream",
          "text": [
            "\n",
            "# Evaluate on test data\n",
            "test loss, test acc: [0.8557395471466912, 0.6961805555555556]\n"
          ],
          "name": "stdout"
        }
      ]
    },
    {
      "cell_type": "code",
      "metadata": {
        "colab": {
          "base_uri": "https://localhost:8080/",
          "height": 591
        },
        "outputId": "aa0f0ccd-0352-4c7c-b56b-ebc851c6ff97",
        "id": "cfdkFov9tsIM"
      },
      "source": [
        "# list all data in history\n",
        "print(history.history.keys())\n",
        "\n",
        "plt.plot(history.history['acc'])\n",
        "plt.plot(history.history['val_acc'])\n",
        "plt.title('model accuracy')\n",
        "plt.ylabel('accuracy')\n",
        "plt.xlabel('epoch')\n",
        "plt.legend(['train', 'dev'], loc='upper left')\n",
        "plt.show()\n",
        "\n",
        "plt.plot(history.history['loss'])\n",
        "plt.plot(history.history['val_loss'])\n",
        "plt.title('model loss')\n",
        "plt.ylabel('loss')\n",
        "plt.xlabel('epoch')\n",
        "plt.legend(['train', 'dev'], loc='upper left')\n",
        "plt.show()"
      ],
      "execution_count": null,
      "outputs": [
        {
          "output_type": "stream",
          "text": [
            "dict_keys(['val_loss', 'val_acc', 'loss', 'acc', 'lr'])\n"
          ],
          "name": "stdout"
        },
        {
          "output_type": "display_data",
          "data": {
            "image/png": "[encoded data removed]",
            "text/plain": [
              "<Figure size 432x288 with 1 Axes>"
            ]
          },
          "metadata": {
            "tags": []
          }
        },
        {
          "output_type": "display_data",
          "data": {
            "image/png": "[encoded data removed]",
            "text/plain": [
              "<Figure size 432x288 with 1 Axes>"
            ]
          },
          "metadata": {
            "tags": []
          }
        }
      ]
    },
    {
      "cell_type": "markdown",
      "source": [
        "### Ensemble Model"
      ],
      "metadata": {
        "id": "iuhTWhcU3voB"
      }
    },
    {
      "cell_type": "code",
      "source": [
        "models = [baseline_model, resnet_model, resnet_model_cweights, vgg_model, vgg_model_cweights, senet_model, senet_model_cweights]"
      ],
      "metadata": {
        "id": "WDk-U4Cp337u"
      },
      "execution_count": null,
      "outputs": []
    },
    {
      "cell_type": "code",
      "source": [
        "# Ensemble Classifier\n",
        "def ensemble_predict(models, X_test):\n",
        "  yhats = np.zeros((len(models),X_test.shape[0],7))\n",
        "  for model_ind in range(len(models)):\n",
        "    yhat = models[model_ind].predict(X_test)\n",
        "    yhats[len(model_ind),:,:] = yhat\n",
        "  summed = np.sum(yhats, axis=0)\n",
        "  result = np.argmax(summed, axis=1)\n",
        "  return result\n",
        " \n",
        "# evaluate\n",
        "def evaluate_n_members(models, X_test, y_test):\n",
        "\tyhat = ensemble_predict(models, X_test)\n",
        "\treturn accuracy_score(y_test, yhat)"
      ],
      "metadata": {
        "id": "l7Lwza0Z_LBp"
      },
      "execution_count": null,
      "outputs": []
    },
    {
      "cell_type": "code",
      "metadata": {
        "id": "BeDZdqSOiAXA",
        "outputId": "aef05bb7-f031-4ac2-cd62-8fa875656769",
        "colab": {
          "base_uri": "https://localhost:8080/",
          "height": 34
        }
      },
      "source": [
        "ens_acc = evaluate_n_members(models, X_test, np.argmax(Y_test, axis=1))\n",
        "print(ens_acc)"
      ],
      "execution_count": null,
      "outputs": [
        {
          "output_type": "stream",
          "text": [
            "0.7575926441905824\n"
          ],
          "name": "stdout"
        }
      ]
    }
  ]
}